{
 "cells": [
  {
   "cell_type": "code",
   "execution_count": 133,
   "id": "liable-basketball",
   "metadata": {},
   "outputs": [],
   "source": [
    "import pandas as pd\n",
    "import numpy as np\n",
    "import os\n",
    "import seaborn as sns\n",
    "import matplotlib.pyplot as plt\n",
    "import plotly.express as px\n",
    "from IPython.display import display,HTML\n",
    "\n",
    "pd.set_option('display.max_rows',None)\n",
    "pd.set_option('display.max_columns',None)\n",
    "pd.set_option('display.width',None)"
   ]
  },
  {
   "cell_type": "code",
   "execution_count": 6,
   "id": "vocational-university",
   "metadata": {},
   "outputs": [],
   "source": [
    "data=pd.read_csv('players_21.csv')"
   ]
  },
  {
   "cell_type": "code",
   "execution_count": 7,
   "id": "atlantic-sweet",
   "metadata": {},
   "outputs": [
    {
     "data": {
      "text/html": [
       "<div>\n",
       "<style scoped>\n",
       "    .dataframe tbody tr th:only-of-type {\n",
       "        vertical-align: middle;\n",
       "    }\n",
       "\n",
       "    .dataframe tbody tr th {\n",
       "        vertical-align: top;\n",
       "    }\n",
       "\n",
       "    .dataframe thead th {\n",
       "        text-align: right;\n",
       "    }\n",
       "</style>\n",
       "<table border=\"1\" class=\"dataframe\">\n",
       "  <thead>\n",
       "    <tr style=\"text-align: right;\">\n",
       "      <th></th>\n",
       "      <th>sofifa_id</th>\n",
       "      <th>player_url</th>\n",
       "      <th>short_name</th>\n",
       "      <th>long_name</th>\n",
       "      <th>age</th>\n",
       "      <th>dob</th>\n",
       "      <th>height_cm</th>\n",
       "      <th>weight_kg</th>\n",
       "      <th>nationality</th>\n",
       "      <th>club_name</th>\n",
       "      <th>...</th>\n",
       "      <th>lwb</th>\n",
       "      <th>ldm</th>\n",
       "      <th>cdm</th>\n",
       "      <th>rdm</th>\n",
       "      <th>rwb</th>\n",
       "      <th>lb</th>\n",
       "      <th>lcb</th>\n",
       "      <th>cb</th>\n",
       "      <th>rcb</th>\n",
       "      <th>rb</th>\n",
       "    </tr>\n",
       "  </thead>\n",
       "  <tbody>\n",
       "    <tr>\n",
       "      <th>0</th>\n",
       "      <td>158023</td>\n",
       "      <td>https://sofifa.com/player/158023/lionel-messi/...</td>\n",
       "      <td>L. Messi</td>\n",
       "      <td>Lionel Andrés Messi Cuccittini</td>\n",
       "      <td>33</td>\n",
       "      <td>1987-06-24</td>\n",
       "      <td>170</td>\n",
       "      <td>72</td>\n",
       "      <td>Argentina</td>\n",
       "      <td>FC Barcelona</td>\n",
       "      <td>...</td>\n",
       "      <td>66+3</td>\n",
       "      <td>65+3</td>\n",
       "      <td>65+3</td>\n",
       "      <td>65+3</td>\n",
       "      <td>66+3</td>\n",
       "      <td>62+3</td>\n",
       "      <td>52+3</td>\n",
       "      <td>52+3</td>\n",
       "      <td>52+3</td>\n",
       "      <td>62+3</td>\n",
       "    </tr>\n",
       "    <tr>\n",
       "      <th>1</th>\n",
       "      <td>20801</td>\n",
       "      <td>https://sofifa.com/player/20801/c-ronaldo-dos-...</td>\n",
       "      <td>Cristiano Ronaldo</td>\n",
       "      <td>Cristiano Ronaldo dos Santos Aveiro</td>\n",
       "      <td>35</td>\n",
       "      <td>1985-02-05</td>\n",
       "      <td>187</td>\n",
       "      <td>83</td>\n",
       "      <td>Portugal</td>\n",
       "      <td>Juventus</td>\n",
       "      <td>...</td>\n",
       "      <td>65+3</td>\n",
       "      <td>61+3</td>\n",
       "      <td>61+3</td>\n",
       "      <td>61+3</td>\n",
       "      <td>65+3</td>\n",
       "      <td>61+3</td>\n",
       "      <td>54+3</td>\n",
       "      <td>54+3</td>\n",
       "      <td>54+3</td>\n",
       "      <td>61+3</td>\n",
       "    </tr>\n",
       "    <tr>\n",
       "      <th>2</th>\n",
       "      <td>200389</td>\n",
       "      <td>https://sofifa.com/player/200389/jan-oblak/210002</td>\n",
       "      <td>J. Oblak</td>\n",
       "      <td>Jan Oblak</td>\n",
       "      <td>27</td>\n",
       "      <td>1993-01-07</td>\n",
       "      <td>188</td>\n",
       "      <td>87</td>\n",
       "      <td>Slovenia</td>\n",
       "      <td>Atlético Madrid</td>\n",
       "      <td>...</td>\n",
       "      <td>32+3</td>\n",
       "      <td>36+3</td>\n",
       "      <td>36+3</td>\n",
       "      <td>36+3</td>\n",
       "      <td>32+3</td>\n",
       "      <td>32+3</td>\n",
       "      <td>33+3</td>\n",
       "      <td>33+3</td>\n",
       "      <td>33+3</td>\n",
       "      <td>32+3</td>\n",
       "    </tr>\n",
       "    <tr>\n",
       "      <th>3</th>\n",
       "      <td>188545</td>\n",
       "      <td>https://sofifa.com/player/188545/robert-lewand...</td>\n",
       "      <td>R. Lewandowski</td>\n",
       "      <td>Robert Lewandowski</td>\n",
       "      <td>31</td>\n",
       "      <td>1988-08-21</td>\n",
       "      <td>184</td>\n",
       "      <td>80</td>\n",
       "      <td>Poland</td>\n",
       "      <td>FC Bayern München</td>\n",
       "      <td>...</td>\n",
       "      <td>64+3</td>\n",
       "      <td>65+3</td>\n",
       "      <td>65+3</td>\n",
       "      <td>65+3</td>\n",
       "      <td>64+3</td>\n",
       "      <td>61+3</td>\n",
       "      <td>60+3</td>\n",
       "      <td>60+3</td>\n",
       "      <td>60+3</td>\n",
       "      <td>61+3</td>\n",
       "    </tr>\n",
       "    <tr>\n",
       "      <th>4</th>\n",
       "      <td>190871</td>\n",
       "      <td>https://sofifa.com/player/190871/neymar-da-sil...</td>\n",
       "      <td>Neymar Jr</td>\n",
       "      <td>Neymar da Silva Santos Júnior</td>\n",
       "      <td>28</td>\n",
       "      <td>1992-02-05</td>\n",
       "      <td>175</td>\n",
       "      <td>68</td>\n",
       "      <td>Brazil</td>\n",
       "      <td>Paris Saint-Germain</td>\n",
       "      <td>...</td>\n",
       "      <td>67+3</td>\n",
       "      <td>62+3</td>\n",
       "      <td>62+3</td>\n",
       "      <td>62+3</td>\n",
       "      <td>67+3</td>\n",
       "      <td>62+3</td>\n",
       "      <td>49+3</td>\n",
       "      <td>49+3</td>\n",
       "      <td>49+3</td>\n",
       "      <td>62+3</td>\n",
       "    </tr>\n",
       "    <tr>\n",
       "      <th>5</th>\n",
       "      <td>192985</td>\n",
       "      <td>https://sofifa.com/player/192985/kevin-de-bruy...</td>\n",
       "      <td>K. De Bruyne</td>\n",
       "      <td>Kevin De Bruyne</td>\n",
       "      <td>29</td>\n",
       "      <td>1991-06-28</td>\n",
       "      <td>181</td>\n",
       "      <td>70</td>\n",
       "      <td>Belgium</td>\n",
       "      <td>Manchester City</td>\n",
       "      <td>...</td>\n",
       "      <td>79+3</td>\n",
       "      <td>80+3</td>\n",
       "      <td>80+3</td>\n",
       "      <td>80+3</td>\n",
       "      <td>79+3</td>\n",
       "      <td>75+3</td>\n",
       "      <td>69+3</td>\n",
       "      <td>69+3</td>\n",
       "      <td>69+3</td>\n",
       "      <td>75+3</td>\n",
       "    </tr>\n",
       "    <tr>\n",
       "      <th>6</th>\n",
       "      <td>231747</td>\n",
       "      <td>https://sofifa.com/player/231747/kylian-mbappe...</td>\n",
       "      <td>K. Mbappé</td>\n",
       "      <td>Kylian Mbappé Lottin</td>\n",
       "      <td>21</td>\n",
       "      <td>1998-12-20</td>\n",
       "      <td>178</td>\n",
       "      <td>73</td>\n",
       "      <td>France</td>\n",
       "      <td>Paris Saint-Germain</td>\n",
       "      <td>...</td>\n",
       "      <td>67+3</td>\n",
       "      <td>63+3</td>\n",
       "      <td>63+3</td>\n",
       "      <td>63+3</td>\n",
       "      <td>67+3</td>\n",
       "      <td>63+3</td>\n",
       "      <td>55+3</td>\n",
       "      <td>55+3</td>\n",
       "      <td>55+3</td>\n",
       "      <td>63+3</td>\n",
       "    </tr>\n",
       "    <tr>\n",
       "      <th>7</th>\n",
       "      <td>192448</td>\n",
       "      <td>https://sofifa.com/player/192448/marc-andre-te...</td>\n",
       "      <td>M. ter Stegen</td>\n",
       "      <td>Marc-André ter Stegen</td>\n",
       "      <td>28</td>\n",
       "      <td>1992-04-30</td>\n",
       "      <td>187</td>\n",
       "      <td>85</td>\n",
       "      <td>Germany</td>\n",
       "      <td>FC Barcelona</td>\n",
       "      <td>...</td>\n",
       "      <td>33+3</td>\n",
       "      <td>41+3</td>\n",
       "      <td>41+3</td>\n",
       "      <td>41+3</td>\n",
       "      <td>33+3</td>\n",
       "      <td>31+3</td>\n",
       "      <td>33+3</td>\n",
       "      <td>33+3</td>\n",
       "      <td>33+3</td>\n",
       "      <td>31+3</td>\n",
       "    </tr>\n",
       "    <tr>\n",
       "      <th>8</th>\n",
       "      <td>203376</td>\n",
       "      <td>https://sofifa.com/player/203376/virgil-van-di...</td>\n",
       "      <td>V. van Dijk</td>\n",
       "      <td>Virgil van Dijk</td>\n",
       "      <td>28</td>\n",
       "      <td>1991-07-08</td>\n",
       "      <td>193</td>\n",
       "      <td>92</td>\n",
       "      <td>Netherlands</td>\n",
       "      <td>Liverpool</td>\n",
       "      <td>...</td>\n",
       "      <td>80+3</td>\n",
       "      <td>85+3</td>\n",
       "      <td>85+3</td>\n",
       "      <td>85+3</td>\n",
       "      <td>80+3</td>\n",
       "      <td>82+3</td>\n",
       "      <td>89+2</td>\n",
       "      <td>89+2</td>\n",
       "      <td>89+2</td>\n",
       "      <td>82+3</td>\n",
       "    </tr>\n",
       "    <tr>\n",
       "      <th>9</th>\n",
       "      <td>212831</td>\n",
       "      <td>https://sofifa.com/player/212831/alisson-ramse...</td>\n",
       "      <td>Alisson</td>\n",
       "      <td>Alisson Ramsés Becker</td>\n",
       "      <td>27</td>\n",
       "      <td>1992-10-02</td>\n",
       "      <td>191</td>\n",
       "      <td>91</td>\n",
       "      <td>Brazil</td>\n",
       "      <td>Liverpool</td>\n",
       "      <td>...</td>\n",
       "      <td>31+3</td>\n",
       "      <td>35+3</td>\n",
       "      <td>35+3</td>\n",
       "      <td>35+3</td>\n",
       "      <td>31+3</td>\n",
       "      <td>30+3</td>\n",
       "      <td>30+3</td>\n",
       "      <td>30+3</td>\n",
       "      <td>30+3</td>\n",
       "      <td>30+3</td>\n",
       "    </tr>\n",
       "  </tbody>\n",
       "</table>\n",
       "<p>10 rows × 106 columns</p>\n",
       "</div>"
      ],
      "text/plain": [
       "   sofifa_id                                         player_url  \\\n",
       "0     158023  https://sofifa.com/player/158023/lionel-messi/...   \n",
       "1      20801  https://sofifa.com/player/20801/c-ronaldo-dos-...   \n",
       "2     200389  https://sofifa.com/player/200389/jan-oblak/210002   \n",
       "3     188545  https://sofifa.com/player/188545/robert-lewand...   \n",
       "4     190871  https://sofifa.com/player/190871/neymar-da-sil...   \n",
       "5     192985  https://sofifa.com/player/192985/kevin-de-bruy...   \n",
       "6     231747  https://sofifa.com/player/231747/kylian-mbappe...   \n",
       "7     192448  https://sofifa.com/player/192448/marc-andre-te...   \n",
       "8     203376  https://sofifa.com/player/203376/virgil-van-di...   \n",
       "9     212831  https://sofifa.com/player/212831/alisson-ramse...   \n",
       "\n",
       "          short_name                            long_name  age         dob  \\\n",
       "0           L. Messi       Lionel Andrés Messi Cuccittini   33  1987-06-24   \n",
       "1  Cristiano Ronaldo  Cristiano Ronaldo dos Santos Aveiro   35  1985-02-05   \n",
       "2           J. Oblak                            Jan Oblak   27  1993-01-07   \n",
       "3     R. Lewandowski                   Robert Lewandowski   31  1988-08-21   \n",
       "4          Neymar Jr        Neymar da Silva Santos Júnior   28  1992-02-05   \n",
       "5       K. De Bruyne                      Kevin De Bruyne   29  1991-06-28   \n",
       "6          K. Mbappé                 Kylian Mbappé Lottin   21  1998-12-20   \n",
       "7      M. ter Stegen                Marc-André ter Stegen   28  1992-04-30   \n",
       "8        V. van Dijk                      Virgil van Dijk   28  1991-07-08   \n",
       "9            Alisson                Alisson Ramsés Becker   27  1992-10-02   \n",
       "\n",
       "   height_cm  weight_kg  nationality            club_name  ...   lwb   ldm  \\\n",
       "0        170         72    Argentina         FC Barcelona  ...  66+3  65+3   \n",
       "1        187         83     Portugal             Juventus  ...  65+3  61+3   \n",
       "2        188         87     Slovenia      Atlético Madrid  ...  32+3  36+3   \n",
       "3        184         80       Poland    FC Bayern München  ...  64+3  65+3   \n",
       "4        175         68       Brazil  Paris Saint-Germain  ...  67+3  62+3   \n",
       "5        181         70      Belgium      Manchester City  ...  79+3  80+3   \n",
       "6        178         73       France  Paris Saint-Germain  ...  67+3  63+3   \n",
       "7        187         85      Germany         FC Barcelona  ...  33+3  41+3   \n",
       "8        193         92  Netherlands            Liverpool  ...  80+3  85+3   \n",
       "9        191         91       Brazil            Liverpool  ...  31+3  35+3   \n",
       "\n",
       "    cdm   rdm   rwb    lb   lcb    cb   rcb    rb  \n",
       "0  65+3  65+3  66+3  62+3  52+3  52+3  52+3  62+3  \n",
       "1  61+3  61+3  65+3  61+3  54+3  54+3  54+3  61+3  \n",
       "2  36+3  36+3  32+3  32+3  33+3  33+3  33+3  32+3  \n",
       "3  65+3  65+3  64+3  61+3  60+3  60+3  60+3  61+3  \n",
       "4  62+3  62+3  67+3  62+3  49+3  49+3  49+3  62+3  \n",
       "5  80+3  80+3  79+3  75+3  69+3  69+3  69+3  75+3  \n",
       "6  63+3  63+3  67+3  63+3  55+3  55+3  55+3  63+3  \n",
       "7  41+3  41+3  33+3  31+3  33+3  33+3  33+3  31+3  \n",
       "8  85+3  85+3  80+3  82+3  89+2  89+2  89+2  82+3  \n",
       "9  35+3  35+3  31+3  30+3  30+3  30+3  30+3  30+3  \n",
       "\n",
       "[10 rows x 106 columns]"
      ]
     },
     "execution_count": 7,
     "metadata": {},
     "output_type": "execute_result"
    }
   ],
   "source": [
    "data.head(10)"
   ]
  },
  {
   "cell_type": "markdown",
   "id": "middle-hayes",
   "metadata": {},
   "source": [
    "# Total number of players "
   ]
  },
  {
   "cell_type": "code",
   "execution_count": 13,
   "id": "signal-payday",
   "metadata": {},
   "outputs": [
    {
     "data": {
      "text/plain": [
       "18944"
      ]
     },
     "execution_count": 13,
     "metadata": {},
     "output_type": "execute_result"
    }
   ],
   "source": [
    "data.shape[0]"
   ]
  },
  {
   "cell_type": "code",
   "execution_count": 14,
   "id": "german-effects",
   "metadata": {},
   "outputs": [],
   "source": [
    "skills=[]\n",
    "for i in data.columns:\n",
    "    skills.append(i)"
   ]
  },
  {
   "cell_type": "code",
   "execution_count": 15,
   "id": "successful-illness",
   "metadata": {},
   "outputs": [
    {
     "data": {
      "text/plain": [
       "['sofifa_id',\n",
       " 'player_url',\n",
       " 'short_name',\n",
       " 'long_name',\n",
       " 'age',\n",
       " 'dob',\n",
       " 'height_cm',\n",
       " 'weight_kg',\n",
       " 'nationality',\n",
       " 'club_name',\n",
       " 'league_name',\n",
       " 'league_rank',\n",
       " 'overall',\n",
       " 'potential',\n",
       " 'value_eur',\n",
       " 'wage_eur',\n",
       " 'player_positions',\n",
       " 'preferred_foot',\n",
       " 'international_reputation',\n",
       " 'weak_foot',\n",
       " 'skill_moves',\n",
       " 'work_rate',\n",
       " 'body_type',\n",
       " 'real_face',\n",
       " 'release_clause_eur',\n",
       " 'player_tags',\n",
       " 'team_position',\n",
       " 'team_jersey_number',\n",
       " 'loaned_from',\n",
       " 'joined',\n",
       " 'contract_valid_until',\n",
       " 'nation_position',\n",
       " 'nation_jersey_number',\n",
       " 'pace',\n",
       " 'shooting',\n",
       " 'passing',\n",
       " 'dribbling',\n",
       " 'defending',\n",
       " 'physic',\n",
       " 'gk_diving',\n",
       " 'gk_handling',\n",
       " 'gk_kicking',\n",
       " 'gk_reflexes',\n",
       " 'gk_speed',\n",
       " 'gk_positioning',\n",
       " 'player_traits',\n",
       " 'attacking_crossing',\n",
       " 'attacking_finishing',\n",
       " 'attacking_heading_accuracy',\n",
       " 'attacking_short_passing',\n",
       " 'attacking_volleys',\n",
       " 'skill_dribbling',\n",
       " 'skill_curve',\n",
       " 'skill_fk_accuracy',\n",
       " 'skill_long_passing',\n",
       " 'skill_ball_control',\n",
       " 'movement_acceleration',\n",
       " 'movement_sprint_speed',\n",
       " 'movement_agility',\n",
       " 'movement_reactions',\n",
       " 'movement_balance',\n",
       " 'power_shot_power',\n",
       " 'power_jumping',\n",
       " 'power_stamina',\n",
       " 'power_strength',\n",
       " 'power_long_shots',\n",
       " 'mentality_aggression',\n",
       " 'mentality_interceptions',\n",
       " 'mentality_positioning',\n",
       " 'mentality_vision',\n",
       " 'mentality_penalties',\n",
       " 'mentality_composure',\n",
       " 'defending_marking',\n",
       " 'defending_standing_tackle',\n",
       " 'defending_sliding_tackle',\n",
       " 'goalkeeping_diving',\n",
       " 'goalkeeping_handling',\n",
       " 'goalkeeping_kicking',\n",
       " 'goalkeeping_positioning',\n",
       " 'goalkeeping_reflexes',\n",
       " 'ls',\n",
       " 'st',\n",
       " 'rs',\n",
       " 'lw',\n",
       " 'lf',\n",
       " 'cf',\n",
       " 'rf',\n",
       " 'rw',\n",
       " 'lam',\n",
       " 'cam',\n",
       " 'ram',\n",
       " 'lm',\n",
       " 'lcm',\n",
       " 'cm',\n",
       " 'rcm',\n",
       " 'rm',\n",
       " 'lwb',\n",
       " 'ldm',\n",
       " 'cdm',\n",
       " 'rdm',\n",
       " 'rwb',\n",
       " 'lb',\n",
       " 'lcb',\n",
       " 'cb',\n",
       " 'rcb',\n",
       " 'rb']"
      ]
     },
     "execution_count": 15,
     "metadata": {},
     "output_type": "execute_result"
    }
   ],
   "source": [
    "skills"
   ]
  },
  {
   "cell_type": "code",
   "execution_count": 23,
   "id": "spatial-kruger",
   "metadata": {},
   "outputs": [
    {
     "data": {
      "text/plain": [
       "sofifa_id                         0\n",
       "player_url                        0\n",
       "short_name                        0\n",
       "long_name                         0\n",
       "age                               0\n",
       "dob                               0\n",
       "height_cm                         0\n",
       "weight_kg                         0\n",
       "nationality                       0\n",
       "club_name                       225\n",
       "league_name                     225\n",
       "league_rank                     225\n",
       "overall                           0\n",
       "potential                         0\n",
       "value_eur                         0\n",
       "wage_eur                          0\n",
       "player_positions                  0\n",
       "preferred_foot                    0\n",
       "international_reputation          0\n",
       "weak_foot                         0\n",
       "skill_moves                       0\n",
       "work_rate                         0\n",
       "body_type                         0\n",
       "real_face                         0\n",
       "release_clause_eur              995\n",
       "player_tags                   17536\n",
       "team_position                   225\n",
       "team_jersey_number              225\n",
       "loaned_from                   18186\n",
       "joined                          983\n",
       "contract_valid_until            225\n",
       "nation_position               17817\n",
       "nation_jersey_number          17817\n",
       "pace                           2083\n",
       "shooting                       2083\n",
       "passing                        2083\n",
       "dribbling                      2083\n",
       "defending                      2083\n",
       "physic                         2083\n",
       "gk_diving                     16861\n",
       "gk_handling                   16861\n",
       "gk_kicking                    16861\n",
       "gk_reflexes                   16861\n",
       "gk_speed                      16861\n",
       "gk_positioning                16861\n",
       "player_traits                 10629\n",
       "attacking_crossing                0\n",
       "attacking_finishing               0\n",
       "attacking_heading_accuracy        0\n",
       "attacking_short_passing           0\n",
       "attacking_volleys                 0\n",
       "skill_dribbling                   0\n",
       "skill_curve                       0\n",
       "skill_fk_accuracy                 0\n",
       "skill_long_passing                0\n",
       "skill_ball_control                0\n",
       "movement_acceleration             0\n",
       "movement_sprint_speed             0\n",
       "movement_agility                  0\n",
       "movement_reactions                0\n",
       "movement_balance                  0\n",
       "power_shot_power                  0\n",
       "power_jumping                     0\n",
       "power_stamina                     0\n",
       "power_strength                    0\n",
       "power_long_shots                  0\n",
       "mentality_aggression              0\n",
       "mentality_interceptions           0\n",
       "mentality_positioning             0\n",
       "mentality_vision                  0\n",
       "mentality_penalties               0\n",
       "mentality_composure               0\n",
       "defending_marking             18944\n",
       "defending_standing_tackle         0\n",
       "defending_sliding_tackle          0\n",
       "goalkeeping_diving                0\n",
       "goalkeeping_handling              0\n",
       "goalkeeping_kicking               0\n",
       "goalkeeping_positioning           0\n",
       "goalkeeping_reflexes              0\n",
       "ls                                0\n",
       "st                                0\n",
       "rs                                0\n",
       "lw                                0\n",
       "lf                                0\n",
       "cf                                0\n",
       "rf                                0\n",
       "rw                                0\n",
       "lam                               0\n",
       "cam                               0\n",
       "ram                               0\n",
       "lm                                0\n",
       "lcm                               0\n",
       "cm                                0\n",
       "rcm                               0\n",
       "rm                                0\n",
       "lwb                               0\n",
       "ldm                               0\n",
       "cdm                               0\n",
       "rdm                               0\n",
       "rwb                               0\n",
       "lb                                0\n",
       "lcb                               0\n",
       "cb                                0\n",
       "rcb                               0\n",
       "rb                                0\n",
       "dtype: int64"
      ]
     },
     "execution_count": 23,
     "metadata": {},
     "output_type": "execute_result"
    }
   ],
   "source": [
    "data.isnull().sum()"
   ]
  },
  {
   "cell_type": "markdown",
   "id": "behind-lease",
   "metadata": {},
   "source": [
    "# Selecting specific number of attributes to process data and analyse based on that features. "
   ]
  },
  {
   "cell_type": "code",
   "execution_count": 33,
   "id": "cubic-affect",
   "metadata": {},
   "outputs": [],
   "source": [
    "fill_values=data.loc[:,['pace','shooting','passing','dribbling','defending','physic']]\n",
    "\n",
    "for i in fill_values.columns:\n",
    "    data[i].fillna(data[i].mean(),inplace=True)"
   ]
  },
  {
   "cell_type": "code",
   "execution_count": 34,
   "id": "helpful-worthy",
   "metadata": {},
   "outputs": [
    {
     "data": {
      "text/plain": [
       "sofifa_id                         0\n",
       "player_url                        0\n",
       "short_name                        0\n",
       "long_name                         0\n",
       "age                               0\n",
       "dob                               0\n",
       "height_cm                         0\n",
       "weight_kg                         0\n",
       "nationality                       0\n",
       "club_name                       225\n",
       "league_name                     225\n",
       "league_rank                     225\n",
       "overall                           0\n",
       "potential                         0\n",
       "value_eur                         0\n",
       "wage_eur                          0\n",
       "player_positions                  0\n",
       "preferred_foot                    0\n",
       "international_reputation          0\n",
       "weak_foot                         0\n",
       "skill_moves                       0\n",
       "work_rate                         0\n",
       "body_type                         0\n",
       "real_face                         0\n",
       "release_clause_eur              995\n",
       "player_tags                   17536\n",
       "team_position                   225\n",
       "team_jersey_number              225\n",
       "loaned_from                   18186\n",
       "joined                          983\n",
       "contract_valid_until            225\n",
       "nation_position               17817\n",
       "nation_jersey_number          17817\n",
       "pace                              0\n",
       "shooting                          0\n",
       "passing                           0\n",
       "dribbling                         0\n",
       "defending                         0\n",
       "physic                            0\n",
       "gk_diving                     16861\n",
       "gk_handling                   16861\n",
       "gk_kicking                    16861\n",
       "gk_reflexes                   16861\n",
       "gk_speed                      16861\n",
       "gk_positioning                16861\n",
       "player_traits                 10629\n",
       "attacking_crossing                0\n",
       "attacking_finishing               0\n",
       "attacking_heading_accuracy        0\n",
       "attacking_short_passing           0\n",
       "attacking_volleys                 0\n",
       "skill_dribbling                   0\n",
       "skill_curve                       0\n",
       "skill_fk_accuracy                 0\n",
       "skill_long_passing                0\n",
       "skill_ball_control                0\n",
       "movement_acceleration             0\n",
       "movement_sprint_speed             0\n",
       "movement_agility                  0\n",
       "movement_reactions                0\n",
       "movement_balance                  0\n",
       "power_shot_power                  0\n",
       "power_jumping                     0\n",
       "power_stamina                     0\n",
       "power_strength                    0\n",
       "power_long_shots                  0\n",
       "mentality_aggression              0\n",
       "mentality_interceptions           0\n",
       "mentality_positioning             0\n",
       "mentality_vision                  0\n",
       "mentality_penalties               0\n",
       "mentality_composure               0\n",
       "defending_marking             18944\n",
       "defending_standing_tackle         0\n",
       "defending_sliding_tackle          0\n",
       "goalkeeping_diving                0\n",
       "goalkeeping_handling              0\n",
       "goalkeeping_kicking               0\n",
       "goalkeeping_positioning           0\n",
       "goalkeeping_reflexes              0\n",
       "ls                                0\n",
       "st                                0\n",
       "rs                                0\n",
       "lw                                0\n",
       "lf                                0\n",
       "cf                                0\n",
       "rf                                0\n",
       "rw                                0\n",
       "lam                               0\n",
       "cam                               0\n",
       "ram                               0\n",
       "lm                                0\n",
       "lcm                               0\n",
       "cm                                0\n",
       "rcm                               0\n",
       "rm                                0\n",
       "lwb                               0\n",
       "ldm                               0\n",
       "cdm                               0\n",
       "rdm                               0\n",
       "rwb                               0\n",
       "lb                                0\n",
       "lcb                               0\n",
       "cb                                0\n",
       "rcb                               0\n",
       "rb                                0\n",
       "dtype: int64"
      ]
     },
     "execution_count": 34,
     "metadata": {},
     "output_type": "execute_result"
    }
   ],
   "source": [
    "data.isnull().sum()"
   ]
  },
  {
   "cell_type": "markdown",
   "id": "integral-operation",
   "metadata": {},
   "source": [
    "# Plotting player count based on their heights"
   ]
  },
  {
   "cell_type": "code",
   "execution_count": 38,
   "id": "binding-emerald",
   "metadata": {},
   "outputs": [
    {
     "data": {
      "image/png": "[encoded data removed]",
      "text/plain": [
       "<Figure size 1440x576 with 1 Axes>"
      ]
     },
     "metadata": {
      "needs_background": "light"
     },
     "output_type": "display_data"
    }
   ],
   "source": [
    "plt.figure(figsize=(20,8))\n",
    "ax=sns.countplot(x='height_cm',data=data)\n",
    "ax.set_title(label=\"Number of players based on their heights\",fontsize=16)\n",
    "ax.set_xlabel(xlabel='Height',fontsize=14)\n",
    "ax.set_ylabel(ylabel='Player count',fontsize=14)\n",
    "plt.show()"
   ]
  },
  {
   "cell_type": "code",
   "execution_count": 39,
   "id": "furnished-alliance",
   "metadata": {},
   "outputs": [],
   "source": [
    "# Most number of players are of height 180 CM (player count=1500)"
   ]
  },
  {
   "cell_type": "markdown",
   "id": "sixth-blackjack",
   "metadata": {},
   "source": [
    "# Plotting Height vs Dribbling"
   ]
  },
  {
   "cell_type": "code",
   "execution_count": 41,
   "id": "functioning-avenue",
   "metadata": {},
   "outputs": [
    {
     "data": {
      "image/png": "[encoded data removed]",
      "text/plain": [
       "<Figure size 1440x576 with 1 Axes>"
      ]
     },
     "metadata": {
      "needs_background": "light"
     },
     "output_type": "display_data"
    }
   ],
   "source": [
    "plt.figure(figsize=(20,8))\n",
    "hd=sns.barplot(x='height_cm',y='dribbling',data=data)\n",
    "hd.set_title(label=\"Number of players based on their heights\",fontsize=16)\n",
    "hd.set_xlabel(xlabel='Height',fontsize=14)\n",
    "hd.set_ylabel(ylabel='Dribbling',fontsize=14)\n",
    "plt.show()"
   ]
  },
  {
   "cell_type": "markdown",
   "id": "random-madagascar",
   "metadata": {},
   "source": [
    "# Plotting Weight vs Dribbling"
   ]
  },
  {
   "cell_type": "code",
   "execution_count": 55,
   "id": "devoted-overhead",
   "metadata": {},
   "outputs": [
    {
     "data": {
      "image/png": "[encoded data removed]",
      "text/plain": [
       "<Figure size 1440x576 with 1 Axes>"
      ]
     },
     "metadata": {
      "needs_background": "light"
     },
     "output_type": "display_data"
    }
   ],
   "source": [
    "plt.figure(figsize=(20,8))\n",
    "wd=sns.barplot(x='weight_kg',y='dribbling',data=data)\n",
    "wd.set_title(label=\"Number of players based on their heights\",fontsize=16)\n",
    "wd.set_xlabel(xlabel='Weight',fontsize=14)\n",
    "wd.set_ylabel(ylabel='Dribbling',fontsize=14)\n",
    "plt.show()"
   ]
  },
  {
   "cell_type": "markdown",
   "id": "complex-boundary",
   "metadata": {},
   "source": [
    "# Messi vs Ronaldo"
   ]
  },
  {
   "cell_type": "code",
   "execution_count": 67,
   "id": "dress-street",
   "metadata": {},
   "outputs": [],
   "source": [
    "skills=['pace',\n",
    " 'shooting',\n",
    " 'passing',\n",
    " 'dribbling',\n",
    " 'defending',\n",
    " 'physic',\n",
    " 'attacking_crossing',\n",
    " 'attacking_finishing',\n",
    " 'attacking_heading_accuracy',\n",
    " 'attacking_short_passing',\n",
    " 'attacking_volleys',\n",
    " 'skill_dribbling',\n",
    " 'skill_curve',\n",
    " 'skill_fk_accuracy',\n",
    " 'skill_long_passing',\n",
    " 'skill_ball_control',\n",
    " 'movement_acceleration',\n",
    " 'movement_sprint_speed',\n",
    " 'movement_agility',\n",
    " 'movement_reactions',\n",
    " 'movement_balance',\n",
    " 'power_shot_power',\n",
    " 'power_jumping',\n",
    " 'power_stamina',\n",
    " 'power_strength',\n",
    " 'power_long_shots']"
   ]
  },
  {
   "cell_type": "code",
   "execution_count": 68,
   "id": "touched-slovenia",
   "metadata": {},
   "outputs": [],
   "source": [
    "messi=data.loc[data['short_name']=='L. Messi']\n",
    "messi=pd.DataFrame(messi,columns=skills)\n",
    "\n",
    "ronaldo=data.loc[data['short_name']=='Cristiano Ronaldo']\n",
    "ronaldo=pd.DataFrame(ronaldo,columns=skills)"
   ]
  },
  {
   "cell_type": "code",
   "execution_count": 66,
   "id": "favorite-noise",
   "metadata": {},
   "outputs": [
    {
     "data": {
      "text/html": [
       "<div>\n",
       "<style scoped>\n",
       "    .dataframe tbody tr th:only-of-type {\n",
       "        vertical-align: middle;\n",
       "    }\n",
       "\n",
       "    .dataframe tbody tr th {\n",
       "        vertical-align: top;\n",
       "    }\n",
       "\n",
       "    .dataframe thead th {\n",
       "        text-align: right;\n",
       "    }\n",
       "</style>\n",
       "<table border=\"1\" class=\"dataframe\">\n",
       "  <thead>\n",
       "    <tr style=\"text-align: right;\">\n",
       "      <th></th>\n",
       "      <th>pace</th>\n",
       "      <th>shooting</th>\n",
       "      <th>passing</th>\n",
       "      <th>dribbling</th>\n",
       "      <th>defending</th>\n",
       "      <th>physic</th>\n",
       "      <th>player_traits</th>\n",
       "      <th>attacking_crossing</th>\n",
       "      <th>attacking_finishing</th>\n",
       "      <th>attacking_heading_accuracy</th>\n",
       "      <th>attacking_short_passing</th>\n",
       "      <th>attacking_volleys</th>\n",
       "      <th>skill_dribbling</th>\n",
       "      <th>skill_curve</th>\n",
       "      <th>skill_fk_accuracy</th>\n",
       "      <th>skill_long_passing</th>\n",
       "      <th>skill_ball_control</th>\n",
       "      <th>movement_acceleration</th>\n",
       "      <th>movement_sprint_speed</th>\n",
       "      <th>movement_agility</th>\n",
       "      <th>movement_reactions</th>\n",
       "      <th>movement_balance</th>\n",
       "      <th>power_shot_power</th>\n",
       "      <th>power_jumping</th>\n",
       "      <th>power_stamina</th>\n",
       "      <th>power_strength</th>\n",
       "      <th>power_long_shots</th>\n",
       "    </tr>\n",
       "  </thead>\n",
       "  <tbody>\n",
       "    <tr>\n",
       "      <th>1</th>\n",
       "      <td>89.0</td>\n",
       "      <td>93.0</td>\n",
       "      <td>81.0</td>\n",
       "      <td>89.0</td>\n",
       "      <td>35.0</td>\n",
       "      <td>77.0</td>\n",
       "      <td>Power Free-Kick, Flair, Long Shot Taker (AI), ...</td>\n",
       "      <td>84</td>\n",
       "      <td>95</td>\n",
       "      <td>90</td>\n",
       "      <td>82</td>\n",
       "      <td>86</td>\n",
       "      <td>88</td>\n",
       "      <td>81</td>\n",
       "      <td>76</td>\n",
       "      <td>77</td>\n",
       "      <td>92</td>\n",
       "      <td>87</td>\n",
       "      <td>91</td>\n",
       "      <td>87</td>\n",
       "      <td>95</td>\n",
       "      <td>71</td>\n",
       "      <td>94</td>\n",
       "      <td>95</td>\n",
       "      <td>84</td>\n",
       "      <td>78</td>\n",
       "      <td>93</td>\n",
       "    </tr>\n",
       "  </tbody>\n",
       "</table>\n",
       "</div>"
      ],
      "text/plain": [
       "   pace  shooting  passing  dribbling  defending  physic  \\\n",
       "1  89.0      93.0     81.0       89.0       35.0    77.0   \n",
       "\n",
       "                                       player_traits  attacking_crossing  \\\n",
       "1  Power Free-Kick, Flair, Long Shot Taker (AI), ...                  84   \n",
       "\n",
       "   attacking_finishing  attacking_heading_accuracy  attacking_short_passing  \\\n",
       "1                   95                          90                       82   \n",
       "\n",
       "   attacking_volleys  skill_dribbling  skill_curve  skill_fk_accuracy  \\\n",
       "1                 86               88           81                 76   \n",
       "\n",
       "   skill_long_passing  skill_ball_control  movement_acceleration  \\\n",
       "1                  77                  92                     87   \n",
       "\n",
       "   movement_sprint_speed  movement_agility  movement_reactions  \\\n",
       "1                     91                87                  95   \n",
       "\n",
       "   movement_balance  power_shot_power  power_jumping  power_stamina  \\\n",
       "1                71                94             95             84   \n",
       "\n",
       "   power_strength  power_long_shots  \n",
       "1              78                93  "
      ]
     },
     "execution_count": 66,
     "metadata": {},
     "output_type": "execute_result"
    }
   ],
   "source": [
    "ronaldo"
   ]
  },
  {
   "cell_type": "code",
   "execution_count": 88,
   "id": "regional-suicide",
   "metadata": {},
   "outputs": [
    {
     "data": {
      "image/png": "[encoded data removed]",
      "text/plain": [
       "<Figure size 1800x720 with 1 Axes>"
      ]
     },
     "metadata": {
      "needs_background": "light"
     },
     "output_type": "display_data"
    }
   ],
   "source": [
    "plt.figure(figsize=(25,10))\n",
    "sns.pointplot(data=messi,color='limegreen')\n",
    "sns.pointplot(data=ronaldo,color='blue')\n",
    "plt.title('Messi vs Ronaldo',fontsize=40)\n",
    "plt.xticks(\n",
    "    rotation=45, \n",
    "    horizontalalignment='right',\n",
    "    fontweight='light',\n",
    "    fontsize=15\n",
    ")\n",
    "\n",
    "plt.xlabel(xlabel='Skills',fontsize=20)\n",
    "plt.ylabel(ylabel='Skill value',fontsize=20)\n",
    "plt.legend(['ronaldo','messi'])\n",
    "plt.grid()"
   ]
  },
  {
   "cell_type": "markdown",
   "id": "legitimate-maintenance",
   "metadata": {},
   "source": [
    "# Top 10 players based on Overall skills"
   ]
  },
  {
   "cell_type": "code",
   "execution_count": 92,
   "id": "animated-newman",
   "metadata": {},
   "outputs": [
    {
     "data": {
      "text/html": [
       "<table border=\"1\" class=\"dataframe\">\n",
       "  <thead>\n",
       "    <tr style=\"text-align: right;\">\n",
       "      <th>short_name</th>\n",
       "      <th>overall</th>\n",
       "    </tr>\n",
       "  </thead>\n",
       "  <tbody>\n",
       "    <tr>\n",
       "      <td>L. Messi</td>\n",
       "      <td>93</td>\n",
       "    </tr>\n",
       "    <tr>\n",
       "      <td>Cristiano Ronaldo</td>\n",
       "      <td>92</td>\n",
       "    </tr>\n",
       "    <tr>\n",
       "      <td>J. Oblak</td>\n",
       "      <td>91</td>\n",
       "    </tr>\n",
       "    <tr>\n",
       "      <td>R. Lewandowski</td>\n",
       "      <td>91</td>\n",
       "    </tr>\n",
       "    <tr>\n",
       "      <td>Neymar Jr</td>\n",
       "      <td>91</td>\n",
       "    </tr>\n",
       "    <tr>\n",
       "      <td>K. De Bruyne</td>\n",
       "      <td>91</td>\n",
       "    </tr>\n",
       "    <tr>\n",
       "      <td>Alisson</td>\n",
       "      <td>90</td>\n",
       "    </tr>\n",
       "    <tr>\n",
       "      <td>S. Mané</td>\n",
       "      <td>90</td>\n",
       "    </tr>\n",
       "    <tr>\n",
       "      <td>M. Salah</td>\n",
       "      <td>90</td>\n",
       "    </tr>\n",
       "    <tr>\n",
       "      <td>V. van Dijk</td>\n",
       "      <td>90</td>\n",
       "    </tr>\n",
       "  </tbody>\n",
       "</table>"
      ],
      "text/plain": [
       "<IPython.core.display.HTML object>"
      ]
     },
     "metadata": {},
     "output_type": "display_data"
    }
   ],
   "source": [
    "display(\n",
    "    HTML(data.sort_values('overall',ascending=False)[['short_name','overall']][:10].to_html(index=False))\n",
    ")"
   ]
  },
  {
   "cell_type": "markdown",
   "id": "minimal-burns",
   "metadata": {},
   "source": [
    "# Top 5 Nations with overall best players"
   ]
  },
  {
   "cell_type": "code",
   "execution_count": 94,
   "id": "monetary-walter",
   "metadata": {},
   "outputs": [],
   "source": [
    "top_nations=data.groupby(['nationality'])['overall'].max().sort_values(ascending=False).head(5)"
   ]
  },
  {
   "cell_type": "code",
   "execution_count": 95,
   "id": "separate-separation",
   "metadata": {},
   "outputs": [
    {
     "data": {
      "text/plain": [
       "nationality\n",
       "Argentina    93\n",
       "Portugal     92\n",
       "Belgium      91\n",
       "Brazil       91\n",
       "Slovenia     91\n",
       "Name: overall, dtype: int64"
      ]
     },
     "execution_count": 95,
     "metadata": {},
     "output_type": "execute_result"
    }
   ],
   "source": [
    "top_nations\n"
   ]
  },
  {
   "cell_type": "markdown",
   "id": "frozen-vatican",
   "metadata": {},
   "source": [
    "# Top 5 clubs with overall best players"
   ]
  },
  {
   "cell_type": "code",
   "execution_count": 97,
   "id": "monthly-microphone",
   "metadata": {},
   "outputs": [],
   "source": [
    "top_clubs=data.groupby(['club_name'])['overall'].max().sort_values(ascending=False).head(5)"
   ]
  },
  {
   "cell_type": "code",
   "execution_count": 112,
   "id": "simplified-classics",
   "metadata": {},
   "outputs": [
    {
     "data": {
      "text/plain": [
       "club_name\n",
       "FC Barcelona           93\n",
       "Juventus               92\n",
       "Paris Saint-Germain    91\n",
       "Manchester City        91\n",
       "Atlético Madrid        91\n",
       "Name: overall, dtype: int64"
      ]
     },
     "execution_count": 112,
     "metadata": {},
     "output_type": "execute_result"
    }
   ],
   "source": [
    "top_clubs"
   ]
  },
  {
   "cell_type": "markdown",
   "id": "respected-active",
   "metadata": {},
   "source": [
    "# Age Distributiuon of players in Countries"
   ]
  },
  {
   "cell_type": "code",
   "execution_count": 106,
   "id": "curious-parker",
   "metadata": {},
   "outputs": [],
   "source": [
    "countries=['Argentina',\n",
    "'Portugal',\n",
    "'Belgium',\n",
    "'Brazil',\n",
    "'Slovenia']\n",
    "\n",
    "countries_data=data.loc[data['nationality'].isin(countries)]"
   ]
  },
  {
   "cell_type": "code",
   "execution_count": 107,
   "id": "divine-store",
   "metadata": {},
   "outputs": [
    {
     "data": {
      "text/html": [
       "<div>\n",
       "<style scoped>\n",
       "    .dataframe tbody tr th:only-of-type {\n",
       "        vertical-align: middle;\n",
       "    }\n",
       "\n",
       "    .dataframe tbody tr th {\n",
       "        vertical-align: top;\n",
       "    }\n",
       "\n",
       "    .dataframe thead th {\n",
       "        text-align: right;\n",
       "    }\n",
       "</style>\n",
       "<table border=\"1\" class=\"dataframe\">\n",
       "  <thead>\n",
       "    <tr style=\"text-align: right;\">\n",
       "      <th></th>\n",
       "      <th>sofifa_id</th>\n",
       "      <th>player_url</th>\n",
       "      <th>short_name</th>\n",
       "      <th>long_name</th>\n",
       "      <th>age</th>\n",
       "      <th>dob</th>\n",
       "      <th>height_cm</th>\n",
       "      <th>weight_kg</th>\n",
       "      <th>nationality</th>\n",
       "      <th>club_name</th>\n",
       "      <th>league_name</th>\n",
       "      <th>league_rank</th>\n",
       "      <th>overall</th>\n",
       "      <th>potential</th>\n",
       "      <th>value_eur</th>\n",
       "      <th>wage_eur</th>\n",
       "      <th>player_positions</th>\n",
       "      <th>preferred_foot</th>\n",
       "      <th>international_reputation</th>\n",
       "      <th>weak_foot</th>\n",
       "      <th>skill_moves</th>\n",
       "      <th>work_rate</th>\n",
       "      <th>body_type</th>\n",
       "      <th>real_face</th>\n",
       "      <th>release_clause_eur</th>\n",
       "      <th>player_tags</th>\n",
       "      <th>team_position</th>\n",
       "      <th>team_jersey_number</th>\n",
       "      <th>loaned_from</th>\n",
       "      <th>joined</th>\n",
       "      <th>contract_valid_until</th>\n",
       "      <th>nation_position</th>\n",
       "      <th>nation_jersey_number</th>\n",
       "      <th>pace</th>\n",
       "      <th>shooting</th>\n",
       "      <th>passing</th>\n",
       "      <th>dribbling</th>\n",
       "      <th>defending</th>\n",
       "      <th>physic</th>\n",
       "      <th>gk_diving</th>\n",
       "      <th>gk_handling</th>\n",
       "      <th>gk_kicking</th>\n",
       "      <th>gk_reflexes</th>\n",
       "      <th>gk_speed</th>\n",
       "      <th>gk_positioning</th>\n",
       "      <th>player_traits</th>\n",
       "      <th>attacking_crossing</th>\n",
       "      <th>attacking_finishing</th>\n",
       "      <th>attacking_heading_accuracy</th>\n",
       "      <th>attacking_short_passing</th>\n",
       "      <th>attacking_volleys</th>\n",
       "      <th>skill_dribbling</th>\n",
       "      <th>skill_curve</th>\n",
       "      <th>skill_fk_accuracy</th>\n",
       "      <th>skill_long_passing</th>\n",
       "      <th>skill_ball_control</th>\n",
       "      <th>movement_acceleration</th>\n",
       "      <th>movement_sprint_speed</th>\n",
       "      <th>movement_agility</th>\n",
       "      <th>movement_reactions</th>\n",
       "      <th>movement_balance</th>\n",
       "      <th>power_shot_power</th>\n",
       "      <th>power_jumping</th>\n",
       "      <th>power_stamina</th>\n",
       "      <th>power_strength</th>\n",
       "      <th>power_long_shots</th>\n",
       "      <th>mentality_aggression</th>\n",
       "      <th>mentality_interceptions</th>\n",
       "      <th>mentality_positioning</th>\n",
       "      <th>mentality_vision</th>\n",
       "      <th>mentality_penalties</th>\n",
       "      <th>mentality_composure</th>\n",
       "      <th>defending_marking</th>\n",
       "      <th>defending_standing_tackle</th>\n",
       "      <th>defending_sliding_tackle</th>\n",
       "      <th>goalkeeping_diving</th>\n",
       "      <th>goalkeeping_handling</th>\n",
       "      <th>goalkeeping_kicking</th>\n",
       "      <th>goalkeeping_positioning</th>\n",
       "      <th>goalkeeping_reflexes</th>\n",
       "      <th>ls</th>\n",
       "      <th>st</th>\n",
       "      <th>rs</th>\n",
       "      <th>lw</th>\n",
       "      <th>lf</th>\n",
       "      <th>cf</th>\n",
       "      <th>rf</th>\n",
       "      <th>rw</th>\n",
       "      <th>lam</th>\n",
       "      <th>cam</th>\n",
       "      <th>ram</th>\n",
       "      <th>lm</th>\n",
       "      <th>lcm</th>\n",
       "      <th>cm</th>\n",
       "      <th>rcm</th>\n",
       "      <th>rm</th>\n",
       "      <th>lwb</th>\n",
       "      <th>ldm</th>\n",
       "      <th>cdm</th>\n",
       "      <th>rdm</th>\n",
       "      <th>rwb</th>\n",
       "      <th>lb</th>\n",
       "      <th>lcb</th>\n",
       "      <th>cb</th>\n",
       "      <th>rcb</th>\n",
       "      <th>rb</th>\n",
       "    </tr>\n",
       "  </thead>\n",
       "  <tbody>\n",
       "    <tr>\n",
       "      <th>0</th>\n",
       "      <td>158023</td>\n",
       "      <td>https://sofifa.com/player/158023/lionel-messi/...</td>\n",
       "      <td>L. Messi</td>\n",
       "      <td>Lionel Andrés Messi Cuccittini</td>\n",
       "      <td>33</td>\n",
       "      <td>1987-06-24</td>\n",
       "      <td>170</td>\n",
       "      <td>72</td>\n",
       "      <td>Argentina</td>\n",
       "      <td>FC Barcelona</td>\n",
       "      <td>Spain Primera Division</td>\n",
       "      <td>1.0</td>\n",
       "      <td>93</td>\n",
       "      <td>93</td>\n",
       "      <td>67500000</td>\n",
       "      <td>560000</td>\n",
       "      <td>RW, ST, CF</td>\n",
       "      <td>Left</td>\n",
       "      <td>5</td>\n",
       "      <td>4</td>\n",
       "      <td>4</td>\n",
       "      <td>Medium/Low</td>\n",
       "      <td>Messi</td>\n",
       "      <td>Yes</td>\n",
       "      <td>138400000.0</td>\n",
       "      <td>#Dribbler, #Distance Shooter, #FK Specialist, ...</td>\n",
       "      <td>CAM</td>\n",
       "      <td>10.0</td>\n",
       "      <td>NaN</td>\n",
       "      <td>2004-07-01</td>\n",
       "      <td>2021.0</td>\n",
       "      <td>RW</td>\n",
       "      <td>10.0</td>\n",
       "      <td>85.00000</td>\n",
       "      <td>92.000000</td>\n",
       "      <td>91.000000</td>\n",
       "      <td>95.00000</td>\n",
       "      <td>38.000000</td>\n",
       "      <td>65.000000</td>\n",
       "      <td>NaN</td>\n",
       "      <td>NaN</td>\n",
       "      <td>NaN</td>\n",
       "      <td>NaN</td>\n",
       "      <td>NaN</td>\n",
       "      <td>NaN</td>\n",
       "      <td>Finesse Shot, Long Shot Taker (AI), Speed Drib...</td>\n",
       "      <td>85</td>\n",
       "      <td>95</td>\n",
       "      <td>70</td>\n",
       "      <td>91</td>\n",
       "      <td>88</td>\n",
       "      <td>96</td>\n",
       "      <td>93</td>\n",
       "      <td>94</td>\n",
       "      <td>91</td>\n",
       "      <td>96</td>\n",
       "      <td>91</td>\n",
       "      <td>80</td>\n",
       "      <td>91</td>\n",
       "      <td>94</td>\n",
       "      <td>95</td>\n",
       "      <td>86</td>\n",
       "      <td>68</td>\n",
       "      <td>72</td>\n",
       "      <td>69</td>\n",
       "      <td>94</td>\n",
       "      <td>44</td>\n",
       "      <td>40</td>\n",
       "      <td>93</td>\n",
       "      <td>95</td>\n",
       "      <td>75</td>\n",
       "      <td>96</td>\n",
       "      <td>NaN</td>\n",
       "      <td>35</td>\n",
       "      <td>24</td>\n",
       "      <td>6</td>\n",
       "      <td>11</td>\n",
       "      <td>15</td>\n",
       "      <td>14</td>\n",
       "      <td>8</td>\n",
       "      <td>89+3</td>\n",
       "      <td>89+3</td>\n",
       "      <td>89+3</td>\n",
       "      <td>92+0</td>\n",
       "      <td>93+0</td>\n",
       "      <td>93+0</td>\n",
       "      <td>93+0</td>\n",
       "      <td>92+0</td>\n",
       "      <td>93+0</td>\n",
       "      <td>93+0</td>\n",
       "      <td>93+0</td>\n",
       "      <td>91+2</td>\n",
       "      <td>87+3</td>\n",
       "      <td>87+3</td>\n",
       "      <td>87+3</td>\n",
       "      <td>91+2</td>\n",
       "      <td>66+3</td>\n",
       "      <td>65+3</td>\n",
       "      <td>65+3</td>\n",
       "      <td>65+3</td>\n",
       "      <td>66+3</td>\n",
       "      <td>62+3</td>\n",
       "      <td>52+3</td>\n",
       "      <td>52+3</td>\n",
       "      <td>52+3</td>\n",
       "      <td>62+3</td>\n",
       "    </tr>\n",
       "    <tr>\n",
       "      <th>1</th>\n",
       "      <td>20801</td>\n",
       "      <td>https://sofifa.com/player/20801/c-ronaldo-dos-...</td>\n",
       "      <td>Cristiano Ronaldo</td>\n",
       "      <td>Cristiano Ronaldo dos Santos Aveiro</td>\n",
       "      <td>35</td>\n",
       "      <td>1985-02-05</td>\n",
       "      <td>187</td>\n",
       "      <td>83</td>\n",
       "      <td>Portugal</td>\n",
       "      <td>Juventus</td>\n",
       "      <td>Italian Serie A</td>\n",
       "      <td>1.0</td>\n",
       "      <td>92</td>\n",
       "      <td>92</td>\n",
       "      <td>46000000</td>\n",
       "      <td>220000</td>\n",
       "      <td>ST, LW</td>\n",
       "      <td>Right</td>\n",
       "      <td>5</td>\n",
       "      <td>4</td>\n",
       "      <td>5</td>\n",
       "      <td>High/Low</td>\n",
       "      <td>C. Ronaldo</td>\n",
       "      <td>Yes</td>\n",
       "      <td>75900000.0</td>\n",
       "      <td>#Aerial Threat, #Dribbler, #Distance Shooter, ...</td>\n",
       "      <td>LS</td>\n",
       "      <td>7.0</td>\n",
       "      <td>NaN</td>\n",
       "      <td>2018-07-10</td>\n",
       "      <td>2022.0</td>\n",
       "      <td>LS</td>\n",
       "      <td>7.0</td>\n",
       "      <td>89.00000</td>\n",
       "      <td>93.000000</td>\n",
       "      <td>81.000000</td>\n",
       "      <td>89.00000</td>\n",
       "      <td>35.000000</td>\n",
       "      <td>77.000000</td>\n",
       "      <td>NaN</td>\n",
       "      <td>NaN</td>\n",
       "      <td>NaN</td>\n",
       "      <td>NaN</td>\n",
       "      <td>NaN</td>\n",
       "      <td>NaN</td>\n",
       "      <td>Power Free-Kick, Flair, Long Shot Taker (AI), ...</td>\n",
       "      <td>84</td>\n",
       "      <td>95</td>\n",
       "      <td>90</td>\n",
       "      <td>82</td>\n",
       "      <td>86</td>\n",
       "      <td>88</td>\n",
       "      <td>81</td>\n",
       "      <td>76</td>\n",
       "      <td>77</td>\n",
       "      <td>92</td>\n",
       "      <td>87</td>\n",
       "      <td>91</td>\n",
       "      <td>87</td>\n",
       "      <td>95</td>\n",
       "      <td>71</td>\n",
       "      <td>94</td>\n",
       "      <td>95</td>\n",
       "      <td>84</td>\n",
       "      <td>78</td>\n",
       "      <td>93</td>\n",
       "      <td>63</td>\n",
       "      <td>29</td>\n",
       "      <td>95</td>\n",
       "      <td>82</td>\n",
       "      <td>84</td>\n",
       "      <td>95</td>\n",
       "      <td>NaN</td>\n",
       "      <td>32</td>\n",
       "      <td>24</td>\n",
       "      <td>7</td>\n",
       "      <td>11</td>\n",
       "      <td>15</td>\n",
       "      <td>14</td>\n",
       "      <td>11</td>\n",
       "      <td>91+1</td>\n",
       "      <td>91+1</td>\n",
       "      <td>91+1</td>\n",
       "      <td>89+0</td>\n",
       "      <td>91+0</td>\n",
       "      <td>91+0</td>\n",
       "      <td>91+0</td>\n",
       "      <td>89+0</td>\n",
       "      <td>88+3</td>\n",
       "      <td>88+3</td>\n",
       "      <td>88+3</td>\n",
       "      <td>88+3</td>\n",
       "      <td>81+3</td>\n",
       "      <td>81+3</td>\n",
       "      <td>81+3</td>\n",
       "      <td>88+3</td>\n",
       "      <td>65+3</td>\n",
       "      <td>61+3</td>\n",
       "      <td>61+3</td>\n",
       "      <td>61+3</td>\n",
       "      <td>65+3</td>\n",
       "      <td>61+3</td>\n",
       "      <td>54+3</td>\n",
       "      <td>54+3</td>\n",
       "      <td>54+3</td>\n",
       "      <td>61+3</td>\n",
       "    </tr>\n",
       "    <tr>\n",
       "      <th>2</th>\n",
       "      <td>200389</td>\n",
       "      <td>https://sofifa.com/player/200389/jan-oblak/210002</td>\n",
       "      <td>J. Oblak</td>\n",
       "      <td>Jan Oblak</td>\n",
       "      <td>27</td>\n",
       "      <td>1993-01-07</td>\n",
       "      <td>188</td>\n",
       "      <td>87</td>\n",
       "      <td>Slovenia</td>\n",
       "      <td>Atlético Madrid</td>\n",
       "      <td>Spain Primera Division</td>\n",
       "      <td>1.0</td>\n",
       "      <td>91</td>\n",
       "      <td>93</td>\n",
       "      <td>75000000</td>\n",
       "      <td>125000</td>\n",
       "      <td>GK</td>\n",
       "      <td>Right</td>\n",
       "      <td>3</td>\n",
       "      <td>3</td>\n",
       "      <td>1</td>\n",
       "      <td>Medium/Medium</td>\n",
       "      <td>PLAYER_BODY_TYPE_259</td>\n",
       "      <td>Yes</td>\n",
       "      <td>159400000.0</td>\n",
       "      <td>NaN</td>\n",
       "      <td>GK</td>\n",
       "      <td>13.0</td>\n",
       "      <td>NaN</td>\n",
       "      <td>2014-07-16</td>\n",
       "      <td>2023.0</td>\n",
       "      <td>GK</td>\n",
       "      <td>1.0</td>\n",
       "      <td>67.66811</td>\n",
       "      <td>52.274954</td>\n",
       "      <td>57.139434</td>\n",
       "      <td>62.45543</td>\n",
       "      <td>51.316292</td>\n",
       "      <td>64.458988</td>\n",
       "      <td>87.0</td>\n",
       "      <td>92.0</td>\n",
       "      <td>78.0</td>\n",
       "      <td>90.0</td>\n",
       "      <td>52.0</td>\n",
       "      <td>90.0</td>\n",
       "      <td>GK Long Throw, Comes For Crosses</td>\n",
       "      <td>13</td>\n",
       "      <td>11</td>\n",
       "      <td>15</td>\n",
       "      <td>43</td>\n",
       "      <td>13</td>\n",
       "      <td>12</td>\n",
       "      <td>13</td>\n",
       "      <td>14</td>\n",
       "      <td>40</td>\n",
       "      <td>30</td>\n",
       "      <td>43</td>\n",
       "      <td>60</td>\n",
       "      <td>67</td>\n",
       "      <td>88</td>\n",
       "      <td>49</td>\n",
       "      <td>59</td>\n",
       "      <td>78</td>\n",
       "      <td>41</td>\n",
       "      <td>78</td>\n",
       "      <td>12</td>\n",
       "      <td>34</td>\n",
       "      <td>19</td>\n",
       "      <td>11</td>\n",
       "      <td>65</td>\n",
       "      <td>11</td>\n",
       "      <td>68</td>\n",
       "      <td>NaN</td>\n",
       "      <td>12</td>\n",
       "      <td>18</td>\n",
       "      <td>87</td>\n",
       "      <td>92</td>\n",
       "      <td>78</td>\n",
       "      <td>90</td>\n",
       "      <td>90</td>\n",
       "      <td>33+3</td>\n",
       "      <td>33+3</td>\n",
       "      <td>33+3</td>\n",
       "      <td>32+0</td>\n",
       "      <td>35+0</td>\n",
       "      <td>35+0</td>\n",
       "      <td>35+0</td>\n",
       "      <td>32+0</td>\n",
       "      <td>38+3</td>\n",
       "      <td>38+3</td>\n",
       "      <td>38+3</td>\n",
       "      <td>35+3</td>\n",
       "      <td>38+3</td>\n",
       "      <td>38+3</td>\n",
       "      <td>38+3</td>\n",
       "      <td>35+3</td>\n",
       "      <td>32+3</td>\n",
       "      <td>36+3</td>\n",
       "      <td>36+3</td>\n",
       "      <td>36+3</td>\n",
       "      <td>32+3</td>\n",
       "      <td>32+3</td>\n",
       "      <td>33+3</td>\n",
       "      <td>33+3</td>\n",
       "      <td>33+3</td>\n",
       "      <td>32+3</td>\n",
       "    </tr>\n",
       "    <tr>\n",
       "      <th>4</th>\n",
       "      <td>190871</td>\n",
       "      <td>https://sofifa.com/player/190871/neymar-da-sil...</td>\n",
       "      <td>Neymar Jr</td>\n",
       "      <td>Neymar da Silva Santos Júnior</td>\n",
       "      <td>28</td>\n",
       "      <td>1992-02-05</td>\n",
       "      <td>175</td>\n",
       "      <td>68</td>\n",
       "      <td>Brazil</td>\n",
       "      <td>Paris Saint-Germain</td>\n",
       "      <td>French Ligue 1</td>\n",
       "      <td>1.0</td>\n",
       "      <td>91</td>\n",
       "      <td>91</td>\n",
       "      <td>90000000</td>\n",
       "      <td>270000</td>\n",
       "      <td>LW, CAM</td>\n",
       "      <td>Right</td>\n",
       "      <td>5</td>\n",
       "      <td>5</td>\n",
       "      <td>5</td>\n",
       "      <td>High/Medium</td>\n",
       "      <td>Neymar</td>\n",
       "      <td>Yes</td>\n",
       "      <td>166500000.0</td>\n",
       "      <td>#Speedster, #Dribbler, #Playmaker, #FK Special...</td>\n",
       "      <td>LW</td>\n",
       "      <td>10.0</td>\n",
       "      <td>NaN</td>\n",
       "      <td>2017-08-03</td>\n",
       "      <td>2022.0</td>\n",
       "      <td>NaN</td>\n",
       "      <td>NaN</td>\n",
       "      <td>91.00000</td>\n",
       "      <td>85.000000</td>\n",
       "      <td>86.000000</td>\n",
       "      <td>94.00000</td>\n",
       "      <td>36.000000</td>\n",
       "      <td>59.000000</td>\n",
       "      <td>NaN</td>\n",
       "      <td>NaN</td>\n",
       "      <td>NaN</td>\n",
       "      <td>NaN</td>\n",
       "      <td>NaN</td>\n",
       "      <td>NaN</td>\n",
       "      <td>Injury Prone, Flair, Speed Dribbler (AI), Outs...</td>\n",
       "      <td>85</td>\n",
       "      <td>87</td>\n",
       "      <td>62</td>\n",
       "      <td>87</td>\n",
       "      <td>87</td>\n",
       "      <td>95</td>\n",
       "      <td>88</td>\n",
       "      <td>89</td>\n",
       "      <td>81</td>\n",
       "      <td>95</td>\n",
       "      <td>94</td>\n",
       "      <td>89</td>\n",
       "      <td>96</td>\n",
       "      <td>91</td>\n",
       "      <td>83</td>\n",
       "      <td>80</td>\n",
       "      <td>62</td>\n",
       "      <td>81</td>\n",
       "      <td>50</td>\n",
       "      <td>84</td>\n",
       "      <td>51</td>\n",
       "      <td>36</td>\n",
       "      <td>87</td>\n",
       "      <td>90</td>\n",
       "      <td>92</td>\n",
       "      <td>93</td>\n",
       "      <td>NaN</td>\n",
       "      <td>30</td>\n",
       "      <td>29</td>\n",
       "      <td>9</td>\n",
       "      <td>9</td>\n",
       "      <td>15</td>\n",
       "      <td>15</td>\n",
       "      <td>11</td>\n",
       "      <td>84+3</td>\n",
       "      <td>84+3</td>\n",
       "      <td>84+3</td>\n",
       "      <td>90+0</td>\n",
       "      <td>89+0</td>\n",
       "      <td>89+0</td>\n",
       "      <td>89+0</td>\n",
       "      <td>90+0</td>\n",
       "      <td>90+1</td>\n",
       "      <td>90+1</td>\n",
       "      <td>90+1</td>\n",
       "      <td>90+1</td>\n",
       "      <td>83+3</td>\n",
       "      <td>83+3</td>\n",
       "      <td>83+3</td>\n",
       "      <td>90+1</td>\n",
       "      <td>67+3</td>\n",
       "      <td>62+3</td>\n",
       "      <td>62+3</td>\n",
       "      <td>62+3</td>\n",
       "      <td>67+3</td>\n",
       "      <td>62+3</td>\n",
       "      <td>49+3</td>\n",
       "      <td>49+3</td>\n",
       "      <td>49+3</td>\n",
       "      <td>62+3</td>\n",
       "    </tr>\n",
       "    <tr>\n",
       "      <th>5</th>\n",
       "      <td>192985</td>\n",
       "      <td>https://sofifa.com/player/192985/kevin-de-bruy...</td>\n",
       "      <td>K. De Bruyne</td>\n",
       "      <td>Kevin De Bruyne</td>\n",
       "      <td>29</td>\n",
       "      <td>1991-06-28</td>\n",
       "      <td>181</td>\n",
       "      <td>70</td>\n",
       "      <td>Belgium</td>\n",
       "      <td>Manchester City</td>\n",
       "      <td>English Premier League</td>\n",
       "      <td>1.0</td>\n",
       "      <td>91</td>\n",
       "      <td>91</td>\n",
       "      <td>87000000</td>\n",
       "      <td>370000</td>\n",
       "      <td>CAM, CM</td>\n",
       "      <td>Right</td>\n",
       "      <td>4</td>\n",
       "      <td>5</td>\n",
       "      <td>4</td>\n",
       "      <td>High/High</td>\n",
       "      <td>PLAYER_BODY_TYPE_321</td>\n",
       "      <td>Yes</td>\n",
       "      <td>161000000.0</td>\n",
       "      <td>#Dribbler, #Playmaker, #Engine, #Distance Shoo...</td>\n",
       "      <td>RCM</td>\n",
       "      <td>17.0</td>\n",
       "      <td>NaN</td>\n",
       "      <td>2015-08-30</td>\n",
       "      <td>2023.0</td>\n",
       "      <td>RCM</td>\n",
       "      <td>7.0</td>\n",
       "      <td>76.00000</td>\n",
       "      <td>86.000000</td>\n",
       "      <td>93.000000</td>\n",
       "      <td>88.00000</td>\n",
       "      <td>64.000000</td>\n",
       "      <td>78.000000</td>\n",
       "      <td>NaN</td>\n",
       "      <td>NaN</td>\n",
       "      <td>NaN</td>\n",
       "      <td>NaN</td>\n",
       "      <td>NaN</td>\n",
       "      <td>NaN</td>\n",
       "      <td>Injury Prone, Leadership, Early Crosser, Long ...</td>\n",
       "      <td>94</td>\n",
       "      <td>82</td>\n",
       "      <td>55</td>\n",
       "      <td>94</td>\n",
       "      <td>82</td>\n",
       "      <td>88</td>\n",
       "      <td>85</td>\n",
       "      <td>83</td>\n",
       "      <td>93</td>\n",
       "      <td>92</td>\n",
       "      <td>77</td>\n",
       "      <td>76</td>\n",
       "      <td>78</td>\n",
       "      <td>91</td>\n",
       "      <td>76</td>\n",
       "      <td>91</td>\n",
       "      <td>63</td>\n",
       "      <td>89</td>\n",
       "      <td>74</td>\n",
       "      <td>91</td>\n",
       "      <td>76</td>\n",
       "      <td>66</td>\n",
       "      <td>88</td>\n",
       "      <td>94</td>\n",
       "      <td>84</td>\n",
       "      <td>91</td>\n",
       "      <td>NaN</td>\n",
       "      <td>65</td>\n",
       "      <td>53</td>\n",
       "      <td>15</td>\n",
       "      <td>13</td>\n",
       "      <td>5</td>\n",
       "      <td>10</td>\n",
       "      <td>13</td>\n",
       "      <td>83+3</td>\n",
       "      <td>83+3</td>\n",
       "      <td>83+3</td>\n",
       "      <td>88+0</td>\n",
       "      <td>88+0</td>\n",
       "      <td>88+0</td>\n",
       "      <td>88+0</td>\n",
       "      <td>88+0</td>\n",
       "      <td>89+2</td>\n",
       "      <td>89+2</td>\n",
       "      <td>89+2</td>\n",
       "      <td>89+2</td>\n",
       "      <td>89+2</td>\n",
       "      <td>89+2</td>\n",
       "      <td>89+2</td>\n",
       "      <td>89+2</td>\n",
       "      <td>79+3</td>\n",
       "      <td>80+3</td>\n",
       "      <td>80+3</td>\n",
       "      <td>80+3</td>\n",
       "      <td>79+3</td>\n",
       "      <td>75+3</td>\n",
       "      <td>69+3</td>\n",
       "      <td>69+3</td>\n",
       "      <td>69+3</td>\n",
       "      <td>75+3</td>\n",
       "    </tr>\n",
       "    <tr>\n",
       "      <th>9</th>\n",
       "      <td>212831</td>\n",
       "      <td>https://sofifa.com/player/212831/alisson-ramse...</td>\n",
       "      <td>Alisson</td>\n",
       "      <td>Alisson Ramsés Becker</td>\n",
       "      <td>27</td>\n",
       "      <td>1992-10-02</td>\n",
       "      <td>191</td>\n",
       "      <td>91</td>\n",
       "      <td>Brazil</td>\n",
       "      <td>Liverpool</td>\n",
       "      <td>English Premier League</td>\n",
       "      <td>1.0</td>\n",
       "      <td>90</td>\n",
       "      <td>91</td>\n",
       "      <td>62500000</td>\n",
       "      <td>160000</td>\n",
       "      <td>GK</td>\n",
       "      <td>Right</td>\n",
       "      <td>3</td>\n",
       "      <td>3</td>\n",
       "      <td>1</td>\n",
       "      <td>Medium/Medium</td>\n",
       "      <td>PLAYER_BODY_TYPE_312</td>\n",
       "      <td>Yes</td>\n",
       "      <td>120300000.0</td>\n",
       "      <td>NaN</td>\n",
       "      <td>GK</td>\n",
       "      <td>1.0</td>\n",
       "      <td>NaN</td>\n",
       "      <td>2018-07-19</td>\n",
       "      <td>2024.0</td>\n",
       "      <td>NaN</td>\n",
       "      <td>NaN</td>\n",
       "      <td>67.66811</td>\n",
       "      <td>52.274954</td>\n",
       "      <td>57.139434</td>\n",
       "      <td>62.45543</td>\n",
       "      <td>51.316292</td>\n",
       "      <td>64.458988</td>\n",
       "      <td>86.0</td>\n",
       "      <td>88.0</td>\n",
       "      <td>85.0</td>\n",
       "      <td>89.0</td>\n",
       "      <td>51.0</td>\n",
       "      <td>91.0</td>\n",
       "      <td>GK Long Throw, Rushes Out Of Goal</td>\n",
       "      <td>17</td>\n",
       "      <td>13</td>\n",
       "      <td>19</td>\n",
       "      <td>45</td>\n",
       "      <td>20</td>\n",
       "      <td>27</td>\n",
       "      <td>19</td>\n",
       "      <td>18</td>\n",
       "      <td>44</td>\n",
       "      <td>30</td>\n",
       "      <td>56</td>\n",
       "      <td>47</td>\n",
       "      <td>40</td>\n",
       "      <td>88</td>\n",
       "      <td>37</td>\n",
       "      <td>64</td>\n",
       "      <td>52</td>\n",
       "      <td>32</td>\n",
       "      <td>78</td>\n",
       "      <td>14</td>\n",
       "      <td>27</td>\n",
       "      <td>11</td>\n",
       "      <td>13</td>\n",
       "      <td>66</td>\n",
       "      <td>23</td>\n",
       "      <td>65</td>\n",
       "      <td>NaN</td>\n",
       "      <td>19</td>\n",
       "      <td>16</td>\n",
       "      <td>86</td>\n",
       "      <td>88</td>\n",
       "      <td>85</td>\n",
       "      <td>91</td>\n",
       "      <td>89</td>\n",
       "      <td>36+3</td>\n",
       "      <td>36+3</td>\n",
       "      <td>36+3</td>\n",
       "      <td>35+0</td>\n",
       "      <td>38+0</td>\n",
       "      <td>38+0</td>\n",
       "      <td>38+0</td>\n",
       "      <td>35+0</td>\n",
       "      <td>40+3</td>\n",
       "      <td>40+3</td>\n",
       "      <td>40+3</td>\n",
       "      <td>38+3</td>\n",
       "      <td>40+3</td>\n",
       "      <td>40+3</td>\n",
       "      <td>40+3</td>\n",
       "      <td>38+3</td>\n",
       "      <td>31+3</td>\n",
       "      <td>35+3</td>\n",
       "      <td>35+3</td>\n",
       "      <td>35+3</td>\n",
       "      <td>31+3</td>\n",
       "      <td>30+3</td>\n",
       "      <td>30+3</td>\n",
       "      <td>30+3</td>\n",
       "      <td>30+3</td>\n",
       "      <td>30+3</td>\n",
       "    </tr>\n",
       "    <tr>\n",
       "      <th>12</th>\n",
       "      <td>192119</td>\n",
       "      <td>https://sofifa.com/player/192119/thibaut-court...</td>\n",
       "      <td>T. Courtois</td>\n",
       "      <td>Thibaut Courtois</td>\n",
       "      <td>28</td>\n",
       "      <td>1992-05-11</td>\n",
       "      <td>199</td>\n",
       "      <td>96</td>\n",
       "      <td>Belgium</td>\n",
       "      <td>Real Madrid</td>\n",
       "      <td>Spain Primera Division</td>\n",
       "      <td>1.0</td>\n",
       "      <td>89</td>\n",
       "      <td>90</td>\n",
       "      <td>56000000</td>\n",
       "      <td>250000</td>\n",
       "      <td>GK</td>\n",
       "      <td>Left</td>\n",
       "      <td>4</td>\n",
       "      <td>3</td>\n",
       "      <td>1</td>\n",
       "      <td>Medium/Medium</td>\n",
       "      <td>Courtois</td>\n",
       "      <td>Yes</td>\n",
       "      <td>119000000.0</td>\n",
       "      <td>NaN</td>\n",
       "      <td>GK</td>\n",
       "      <td>1.0</td>\n",
       "      <td>NaN</td>\n",
       "      <td>2018-08-09</td>\n",
       "      <td>2024.0</td>\n",
       "      <td>GK</td>\n",
       "      <td>1.0</td>\n",
       "      <td>67.66811</td>\n",
       "      <td>52.274954</td>\n",
       "      <td>57.139434</td>\n",
       "      <td>62.45543</td>\n",
       "      <td>51.316292</td>\n",
       "      <td>64.458988</td>\n",
       "      <td>84.0</td>\n",
       "      <td>89.0</td>\n",
       "      <td>74.0</td>\n",
       "      <td>88.0</td>\n",
       "      <td>48.0</td>\n",
       "      <td>85.0</td>\n",
       "      <td>GK Long Throw, Comes For Crosses</td>\n",
       "      <td>14</td>\n",
       "      <td>14</td>\n",
       "      <td>13</td>\n",
       "      <td>33</td>\n",
       "      <td>12</td>\n",
       "      <td>13</td>\n",
       "      <td>19</td>\n",
       "      <td>20</td>\n",
       "      <td>35</td>\n",
       "      <td>23</td>\n",
       "      <td>42</td>\n",
       "      <td>52</td>\n",
       "      <td>61</td>\n",
       "      <td>84</td>\n",
       "      <td>45</td>\n",
       "      <td>56</td>\n",
       "      <td>68</td>\n",
       "      <td>38</td>\n",
       "      <td>70</td>\n",
       "      <td>17</td>\n",
       "      <td>23</td>\n",
       "      <td>15</td>\n",
       "      <td>13</td>\n",
       "      <td>44</td>\n",
       "      <td>27</td>\n",
       "      <td>66</td>\n",
       "      <td>NaN</td>\n",
       "      <td>18</td>\n",
       "      <td>16</td>\n",
       "      <td>84</td>\n",
       "      <td>89</td>\n",
       "      <td>74</td>\n",
       "      <td>85</td>\n",
       "      <td>88</td>\n",
       "      <td>31+3</td>\n",
       "      <td>31+3</td>\n",
       "      <td>31+3</td>\n",
       "      <td>29+0</td>\n",
       "      <td>31+0</td>\n",
       "      <td>31+0</td>\n",
       "      <td>31+0</td>\n",
       "      <td>29+0</td>\n",
       "      <td>32+3</td>\n",
       "      <td>32+3</td>\n",
       "      <td>32+3</td>\n",
       "      <td>31+3</td>\n",
       "      <td>32+3</td>\n",
       "      <td>32+3</td>\n",
       "      <td>32+3</td>\n",
       "      <td>31+3</td>\n",
       "      <td>29+3</td>\n",
       "      <td>31+3</td>\n",
       "      <td>31+3</td>\n",
       "      <td>31+3</td>\n",
       "      <td>29+3</td>\n",
       "      <td>29+3</td>\n",
       "      <td>29+3</td>\n",
       "      <td>29+3</td>\n",
       "      <td>29+3</td>\n",
       "      <td>29+3</td>\n",
       "    </tr>\n",
       "    <tr>\n",
       "      <th>13</th>\n",
       "      <td>153079</td>\n",
       "      <td>https://sofifa.com/player/153079/sergio-aguero...</td>\n",
       "      <td>S. Agüero</td>\n",
       "      <td>Sergio Leonel Agüero del Castillo</td>\n",
       "      <td>32</td>\n",
       "      <td>1988-06-02</td>\n",
       "      <td>173</td>\n",
       "      <td>70</td>\n",
       "      <td>Argentina</td>\n",
       "      <td>Manchester City</td>\n",
       "      <td>English Premier League</td>\n",
       "      <td>1.0</td>\n",
       "      <td>89</td>\n",
       "      <td>89</td>\n",
       "      <td>53000000</td>\n",
       "      <td>300000</td>\n",
       "      <td>ST</td>\n",
       "      <td>Right</td>\n",
       "      <td>4</td>\n",
       "      <td>4</td>\n",
       "      <td>4</td>\n",
       "      <td>High/Medium</td>\n",
       "      <td>PLAYER_BODY_TYPE_322</td>\n",
       "      <td>Yes</td>\n",
       "      <td>98100000.0</td>\n",
       "      <td>#Dribbler, #Clinical Finisher, #Complete Forward</td>\n",
       "      <td>SUB</td>\n",
       "      <td>10.0</td>\n",
       "      <td>NaN</td>\n",
       "      <td>2011-07-28</td>\n",
       "      <td>2021.0</td>\n",
       "      <td>ST</td>\n",
       "      <td>9.0</td>\n",
       "      <td>78.00000</td>\n",
       "      <td>90.000000</td>\n",
       "      <td>77.000000</td>\n",
       "      <td>88.00000</td>\n",
       "      <td>33.000000</td>\n",
       "      <td>73.000000</td>\n",
       "      <td>NaN</td>\n",
       "      <td>NaN</td>\n",
       "      <td>NaN</td>\n",
       "      <td>NaN</td>\n",
       "      <td>NaN</td>\n",
       "      <td>NaN</td>\n",
       "      <td>Injury Prone, Leadership, Chip Shot (AI)</td>\n",
       "      <td>70</td>\n",
       "      <td>94</td>\n",
       "      <td>78</td>\n",
       "      <td>83</td>\n",
       "      <td>86</td>\n",
       "      <td>88</td>\n",
       "      <td>83</td>\n",
       "      <td>73</td>\n",
       "      <td>64</td>\n",
       "      <td>89</td>\n",
       "      <td>79</td>\n",
       "      <td>78</td>\n",
       "      <td>84</td>\n",
       "      <td>92</td>\n",
       "      <td>91</td>\n",
       "      <td>89</td>\n",
       "      <td>78</td>\n",
       "      <td>78</td>\n",
       "      <td>74</td>\n",
       "      <td>84</td>\n",
       "      <td>65</td>\n",
       "      <td>24</td>\n",
       "      <td>94</td>\n",
       "      <td>83</td>\n",
       "      <td>75</td>\n",
       "      <td>91</td>\n",
       "      <td>NaN</td>\n",
       "      <td>29</td>\n",
       "      <td>24</td>\n",
       "      <td>13</td>\n",
       "      <td>15</td>\n",
       "      <td>6</td>\n",
       "      <td>11</td>\n",
       "      <td>14</td>\n",
       "      <td>87+2</td>\n",
       "      <td>87+2</td>\n",
       "      <td>87+2</td>\n",
       "      <td>86+0</td>\n",
       "      <td>88+0</td>\n",
       "      <td>88+0</td>\n",
       "      <td>88+0</td>\n",
       "      <td>86+0</td>\n",
       "      <td>86+3</td>\n",
       "      <td>86+3</td>\n",
       "      <td>86+3</td>\n",
       "      <td>84+3</td>\n",
       "      <td>77+3</td>\n",
       "      <td>77+3</td>\n",
       "      <td>77+3</td>\n",
       "      <td>84+3</td>\n",
       "      <td>60+3</td>\n",
       "      <td>58+3</td>\n",
       "      <td>58+3</td>\n",
       "      <td>58+3</td>\n",
       "      <td>60+3</td>\n",
       "      <td>56+3</td>\n",
       "      <td>51+3</td>\n",
       "      <td>51+3</td>\n",
       "      <td>51+3</td>\n",
       "      <td>56+3</td>\n",
       "    </tr>\n",
       "    <tr>\n",
       "      <th>17</th>\n",
       "      <td>200145</td>\n",
       "      <td>https://sofifa.com/player/200145/carlos-henriq...</td>\n",
       "      <td>Casemiro</td>\n",
       "      <td>Carlos Henrique Venancio Casimiro</td>\n",
       "      <td>28</td>\n",
       "      <td>1992-02-23</td>\n",
       "      <td>185</td>\n",
       "      <td>84</td>\n",
       "      <td>Brazil</td>\n",
       "      <td>Real Madrid</td>\n",
       "      <td>Spain Primera Division</td>\n",
       "      <td>1.0</td>\n",
       "      <td>89</td>\n",
       "      <td>89</td>\n",
       "      <td>59500000</td>\n",
       "      <td>310000</td>\n",
       "      <td>CDM</td>\n",
       "      <td>Right</td>\n",
       "      <td>3</td>\n",
       "      <td>3</td>\n",
       "      <td>2</td>\n",
       "      <td>High/High</td>\n",
       "      <td>PLAYER_BODY_TYPE_358</td>\n",
       "      <td>Yes</td>\n",
       "      <td>122000000.0</td>\n",
       "      <td>#Engine, #Tackling, #Tactician, #Strength, #Co...</td>\n",
       "      <td>CDM</td>\n",
       "      <td>14.0</td>\n",
       "      <td>NaN</td>\n",
       "      <td>2013-07-11</td>\n",
       "      <td>2023.0</td>\n",
       "      <td>NaN</td>\n",
       "      <td>NaN</td>\n",
       "      <td>65.00000</td>\n",
       "      <td>73.000000</td>\n",
       "      <td>76.000000</td>\n",
       "      <td>72.00000</td>\n",
       "      <td>86.000000</td>\n",
       "      <td>91.000000</td>\n",
       "      <td>NaN</td>\n",
       "      <td>NaN</td>\n",
       "      <td>NaN</td>\n",
       "      <td>NaN</td>\n",
       "      <td>NaN</td>\n",
       "      <td>NaN</td>\n",
       "      <td>Power Free-Kick, Solid Player, Dives Into Tack...</td>\n",
       "      <td>58</td>\n",
       "      <td>64</td>\n",
       "      <td>80</td>\n",
       "      <td>84</td>\n",
       "      <td>63</td>\n",
       "      <td>69</td>\n",
       "      <td>63</td>\n",
       "      <td>74</td>\n",
       "      <td>84</td>\n",
       "      <td>79</td>\n",
       "      <td>60</td>\n",
       "      <td>69</td>\n",
       "      <td>61</td>\n",
       "      <td>87</td>\n",
       "      <td>66</td>\n",
       "      <td>88</td>\n",
       "      <td>87</td>\n",
       "      <td>90</td>\n",
       "      <td>91</td>\n",
       "      <td>81</td>\n",
       "      <td>91</td>\n",
       "      <td>87</td>\n",
       "      <td>72</td>\n",
       "      <td>80</td>\n",
       "      <td>66</td>\n",
       "      <td>84</td>\n",
       "      <td>NaN</td>\n",
       "      <td>88</td>\n",
       "      <td>87</td>\n",
       "      <td>13</td>\n",
       "      <td>14</td>\n",
       "      <td>16</td>\n",
       "      <td>12</td>\n",
       "      <td>12</td>\n",
       "      <td>76+3</td>\n",
       "      <td>76+3</td>\n",
       "      <td>76+3</td>\n",
       "      <td>72+0</td>\n",
       "      <td>75+0</td>\n",
       "      <td>75+0</td>\n",
       "      <td>75+0</td>\n",
       "      <td>72+0</td>\n",
       "      <td>76+3</td>\n",
       "      <td>76+3</td>\n",
       "      <td>76+3</td>\n",
       "      <td>74+3</td>\n",
       "      <td>81+3</td>\n",
       "      <td>81+3</td>\n",
       "      <td>81+3</td>\n",
       "      <td>74+3</td>\n",
       "      <td>80+3</td>\n",
       "      <td>86+3</td>\n",
       "      <td>86+3</td>\n",
       "      <td>86+3</td>\n",
       "      <td>80+3</td>\n",
       "      <td>81+3</td>\n",
       "      <td>86+3</td>\n",
       "      <td>86+3</td>\n",
       "      <td>86+3</td>\n",
       "      <td>81+3</td>\n",
       "    </tr>\n",
       "    <tr>\n",
       "      <th>18</th>\n",
       "      <td>210257</td>\n",
       "      <td>https://sofifa.com/player/210257/ederson-santa...</td>\n",
       "      <td>Ederson</td>\n",
       "      <td>Ederson Santana de Moraes</td>\n",
       "      <td>26</td>\n",
       "      <td>1993-08-17</td>\n",
       "      <td>188</td>\n",
       "      <td>86</td>\n",
       "      <td>Brazil</td>\n",
       "      <td>Manchester City</td>\n",
       "      <td>English Premier League</td>\n",
       "      <td>1.0</td>\n",
       "      <td>88</td>\n",
       "      <td>91</td>\n",
       "      <td>53500000</td>\n",
       "      <td>195000</td>\n",
       "      <td>GK</td>\n",
       "      <td>Left</td>\n",
       "      <td>2</td>\n",
       "      <td>3</td>\n",
       "      <td>1</td>\n",
       "      <td>Medium/Medium</td>\n",
       "      <td>PLAYER_BODY_TYPE_325</td>\n",
       "      <td>Yes</td>\n",
       "      <td>103000000.0</td>\n",
       "      <td>NaN</td>\n",
       "      <td>GK</td>\n",
       "      <td>31.0</td>\n",
       "      <td>NaN</td>\n",
       "      <td>2017-07-01</td>\n",
       "      <td>2024.0</td>\n",
       "      <td>NaN</td>\n",
       "      <td>NaN</td>\n",
       "      <td>67.66811</td>\n",
       "      <td>52.274954</td>\n",
       "      <td>57.139434</td>\n",
       "      <td>62.45543</td>\n",
       "      <td>51.316292</td>\n",
       "      <td>64.458988</td>\n",
       "      <td>86.0</td>\n",
       "      <td>82.0</td>\n",
       "      <td>93.0</td>\n",
       "      <td>88.0</td>\n",
       "      <td>63.0</td>\n",
       "      <td>86.0</td>\n",
       "      <td>Long Passer (AI), Rushes Out Of Goal, Comes Fo...</td>\n",
       "      <td>20</td>\n",
       "      <td>14</td>\n",
       "      <td>14</td>\n",
       "      <td>57</td>\n",
       "      <td>18</td>\n",
       "      <td>23</td>\n",
       "      <td>15</td>\n",
       "      <td>20</td>\n",
       "      <td>59</td>\n",
       "      <td>40</td>\n",
       "      <td>64</td>\n",
       "      <td>63</td>\n",
       "      <td>60</td>\n",
       "      <td>87</td>\n",
       "      <td>48</td>\n",
       "      <td>70</td>\n",
       "      <td>66</td>\n",
       "      <td>41</td>\n",
       "      <td>78</td>\n",
       "      <td>18</td>\n",
       "      <td>38</td>\n",
       "      <td>27</td>\n",
       "      <td>20</td>\n",
       "      <td>70</td>\n",
       "      <td>17</td>\n",
       "      <td>70</td>\n",
       "      <td>NaN</td>\n",
       "      <td>15</td>\n",
       "      <td>8</td>\n",
       "      <td>86</td>\n",
       "      <td>82</td>\n",
       "      <td>93</td>\n",
       "      <td>86</td>\n",
       "      <td>88</td>\n",
       "      <td>39+2</td>\n",
       "      <td>39+2</td>\n",
       "      <td>39+2</td>\n",
       "      <td>40+0</td>\n",
       "      <td>43+0</td>\n",
       "      <td>43+0</td>\n",
       "      <td>43+0</td>\n",
       "      <td>40+0</td>\n",
       "      <td>46+2</td>\n",
       "      <td>46+2</td>\n",
       "      <td>46+2</td>\n",
       "      <td>44+2</td>\n",
       "      <td>47+2</td>\n",
       "      <td>47+2</td>\n",
       "      <td>47+2</td>\n",
       "      <td>44+2</td>\n",
       "      <td>37+2</td>\n",
       "      <td>43+2</td>\n",
       "      <td>43+2</td>\n",
       "      <td>43+2</td>\n",
       "      <td>37+2</td>\n",
       "      <td>35+2</td>\n",
       "      <td>35+2</td>\n",
       "      <td>35+2</td>\n",
       "      <td>35+2</td>\n",
       "      <td>35+2</td>\n",
       "    </tr>\n",
       "  </tbody>\n",
       "</table>\n",
       "</div>"
      ],
      "text/plain": [
       "    sofifa_id                                         player_url  \\\n",
       "0      158023  https://sofifa.com/player/158023/lionel-messi/...   \n",
       "1       20801  https://sofifa.com/player/20801/c-ronaldo-dos-...   \n",
       "2      200389  https://sofifa.com/player/200389/jan-oblak/210002   \n",
       "4      190871  https://sofifa.com/player/190871/neymar-da-sil...   \n",
       "5      192985  https://sofifa.com/player/192985/kevin-de-bruy...   \n",
       "9      212831  https://sofifa.com/player/212831/alisson-ramse...   \n",
       "12     192119  https://sofifa.com/player/192119/thibaut-court...   \n",
       "13     153079  https://sofifa.com/player/153079/sergio-aguero...   \n",
       "17     200145  https://sofifa.com/player/200145/carlos-henriq...   \n",
       "18     210257  https://sofifa.com/player/210257/ederson-santa...   \n",
       "\n",
       "           short_name                            long_name  age         dob  \\\n",
       "0            L. Messi       Lionel Andrés Messi Cuccittini   33  1987-06-24   \n",
       "1   Cristiano Ronaldo  Cristiano Ronaldo dos Santos Aveiro   35  1985-02-05   \n",
       "2            J. Oblak                            Jan Oblak   27  1993-01-07   \n",
       "4           Neymar Jr        Neymar da Silva Santos Júnior   28  1992-02-05   \n",
       "5        K. De Bruyne                      Kevin De Bruyne   29  1991-06-28   \n",
       "9             Alisson                Alisson Ramsés Becker   27  1992-10-02   \n",
       "12        T. Courtois                     Thibaut Courtois   28  1992-05-11   \n",
       "13          S. Agüero    Sergio Leonel Agüero del Castillo   32  1988-06-02   \n",
       "17           Casemiro    Carlos Henrique Venancio Casimiro   28  1992-02-23   \n",
       "18            Ederson            Ederson Santana de Moraes   26  1993-08-17   \n",
       "\n",
       "    height_cm  weight_kg nationality            club_name  \\\n",
       "0         170         72   Argentina         FC Barcelona   \n",
       "1         187         83    Portugal             Juventus   \n",
       "2         188         87    Slovenia      Atlético Madrid   \n",
       "4         175         68      Brazil  Paris Saint-Germain   \n",
       "5         181         70     Belgium      Manchester City   \n",
       "9         191         91      Brazil            Liverpool   \n",
       "12        199         96     Belgium          Real Madrid   \n",
       "13        173         70   Argentina      Manchester City   \n",
       "17        185         84      Brazil          Real Madrid   \n",
       "18        188         86      Brazil      Manchester City   \n",
       "\n",
       "               league_name  league_rank  overall  potential  value_eur  \\\n",
       "0   Spain Primera Division          1.0       93         93   67500000   \n",
       "1          Italian Serie A          1.0       92         92   46000000   \n",
       "2   Spain Primera Division          1.0       91         93   75000000   \n",
       "4           French Ligue 1          1.0       91         91   90000000   \n",
       "5   English Premier League          1.0       91         91   87000000   \n",
       "9   English Premier League          1.0       90         91   62500000   \n",
       "12  Spain Primera Division          1.0       89         90   56000000   \n",
       "13  English Premier League          1.0       89         89   53000000   \n",
       "17  Spain Primera Division          1.0       89         89   59500000   \n",
       "18  English Premier League          1.0       88         91   53500000   \n",
       "\n",
       "    wage_eur player_positions preferred_foot  international_reputation  \\\n",
       "0     560000       RW, ST, CF           Left                         5   \n",
       "1     220000           ST, LW          Right                         5   \n",
       "2     125000               GK          Right                         3   \n",
       "4     270000          LW, CAM          Right                         5   \n",
       "5     370000          CAM, CM          Right                         4   \n",
       "9     160000               GK          Right                         3   \n",
       "12    250000               GK           Left                         4   \n",
       "13    300000               ST          Right                         4   \n",
       "17    310000              CDM          Right                         3   \n",
       "18    195000               GK           Left                         2   \n",
       "\n",
       "    weak_foot  skill_moves      work_rate             body_type real_face  \\\n",
       "0           4            4     Medium/Low                 Messi       Yes   \n",
       "1           4            5       High/Low            C. Ronaldo       Yes   \n",
       "2           3            1  Medium/Medium  PLAYER_BODY_TYPE_259       Yes   \n",
       "4           5            5    High/Medium                Neymar       Yes   \n",
       "5           5            4      High/High  PLAYER_BODY_TYPE_321       Yes   \n",
       "9           3            1  Medium/Medium  PLAYER_BODY_TYPE_312       Yes   \n",
       "12          3            1  Medium/Medium              Courtois       Yes   \n",
       "13          4            4    High/Medium  PLAYER_BODY_TYPE_322       Yes   \n",
       "17          3            2      High/High  PLAYER_BODY_TYPE_358       Yes   \n",
       "18          3            1  Medium/Medium  PLAYER_BODY_TYPE_325       Yes   \n",
       "\n",
       "    release_clause_eur                                        player_tags  \\\n",
       "0          138400000.0  #Dribbler, #Distance Shooter, #FK Specialist, ...   \n",
       "1           75900000.0  #Aerial Threat, #Dribbler, #Distance Shooter, ...   \n",
       "2          159400000.0                                                NaN   \n",
       "4          166500000.0  #Speedster, #Dribbler, #Playmaker, #FK Special...   \n",
       "5          161000000.0  #Dribbler, #Playmaker, #Engine, #Distance Shoo...   \n",
       "9          120300000.0                                                NaN   \n",
       "12         119000000.0                                                NaN   \n",
       "13          98100000.0   #Dribbler, #Clinical Finisher, #Complete Forward   \n",
       "17         122000000.0  #Engine, #Tackling, #Tactician, #Strength, #Co...   \n",
       "18         103000000.0                                                NaN   \n",
       "\n",
       "   team_position  team_jersey_number loaned_from      joined  \\\n",
       "0            CAM                10.0         NaN  2004-07-01   \n",
       "1             LS                 7.0         NaN  2018-07-10   \n",
       "2             GK                13.0         NaN  2014-07-16   \n",
       "4             LW                10.0         NaN  2017-08-03   \n",
       "5            RCM                17.0         NaN  2015-08-30   \n",
       "9             GK                 1.0         NaN  2018-07-19   \n",
       "12            GK                 1.0         NaN  2018-08-09   \n",
       "13           SUB                10.0         NaN  2011-07-28   \n",
       "17           CDM                14.0         NaN  2013-07-11   \n",
       "18            GK                31.0         NaN  2017-07-01   \n",
       "\n",
       "    contract_valid_until nation_position  nation_jersey_number      pace  \\\n",
       "0                 2021.0              RW                  10.0  85.00000   \n",
       "1                 2022.0              LS                   7.0  89.00000   \n",
       "2                 2023.0              GK                   1.0  67.66811   \n",
       "4                 2022.0             NaN                   NaN  91.00000   \n",
       "5                 2023.0             RCM                   7.0  76.00000   \n",
       "9                 2024.0             NaN                   NaN  67.66811   \n",
       "12                2024.0              GK                   1.0  67.66811   \n",
       "13                2021.0              ST                   9.0  78.00000   \n",
       "17                2023.0             NaN                   NaN  65.00000   \n",
       "18                2024.0             NaN                   NaN  67.66811   \n",
       "\n",
       "     shooting    passing  dribbling  defending     physic  gk_diving  \\\n",
       "0   92.000000  91.000000   95.00000  38.000000  65.000000        NaN   \n",
       "1   93.000000  81.000000   89.00000  35.000000  77.000000        NaN   \n",
       "2   52.274954  57.139434   62.45543  51.316292  64.458988       87.0   \n",
       "4   85.000000  86.000000   94.00000  36.000000  59.000000        NaN   \n",
       "5   86.000000  93.000000   88.00000  64.000000  78.000000        NaN   \n",
       "9   52.274954  57.139434   62.45543  51.316292  64.458988       86.0   \n",
       "12  52.274954  57.139434   62.45543  51.316292  64.458988       84.0   \n",
       "13  90.000000  77.000000   88.00000  33.000000  73.000000        NaN   \n",
       "17  73.000000  76.000000   72.00000  86.000000  91.000000        NaN   \n",
       "18  52.274954  57.139434   62.45543  51.316292  64.458988       86.0   \n",
       "\n",
       "    gk_handling  gk_kicking  gk_reflexes  gk_speed  gk_positioning  \\\n",
       "0           NaN         NaN          NaN       NaN             NaN   \n",
       "1           NaN         NaN          NaN       NaN             NaN   \n",
       "2          92.0        78.0         90.0      52.0            90.0   \n",
       "4           NaN         NaN          NaN       NaN             NaN   \n",
       "5           NaN         NaN          NaN       NaN             NaN   \n",
       "9          88.0        85.0         89.0      51.0            91.0   \n",
       "12         89.0        74.0         88.0      48.0            85.0   \n",
       "13          NaN         NaN          NaN       NaN             NaN   \n",
       "17          NaN         NaN          NaN       NaN             NaN   \n",
       "18         82.0        93.0         88.0      63.0            86.0   \n",
       "\n",
       "                                        player_traits  attacking_crossing  \\\n",
       "0   Finesse Shot, Long Shot Taker (AI), Speed Drib...                  85   \n",
       "1   Power Free-Kick, Flair, Long Shot Taker (AI), ...                  84   \n",
       "2                    GK Long Throw, Comes For Crosses                  13   \n",
       "4   Injury Prone, Flair, Speed Dribbler (AI), Outs...                  85   \n",
       "5   Injury Prone, Leadership, Early Crosser, Long ...                  94   \n",
       "9                   GK Long Throw, Rushes Out Of Goal                  17   \n",
       "12                   GK Long Throw, Comes For Crosses                  14   \n",
       "13           Injury Prone, Leadership, Chip Shot (AI)                  70   \n",
       "17  Power Free-Kick, Solid Player, Dives Into Tack...                  58   \n",
       "18  Long Passer (AI), Rushes Out Of Goal, Comes Fo...                  20   \n",
       "\n",
       "    attacking_finishing  attacking_heading_accuracy  attacking_short_passing  \\\n",
       "0                    95                          70                       91   \n",
       "1                    95                          90                       82   \n",
       "2                    11                          15                       43   \n",
       "4                    87                          62                       87   \n",
       "5                    82                          55                       94   \n",
       "9                    13                          19                       45   \n",
       "12                   14                          13                       33   \n",
       "13                   94                          78                       83   \n",
       "17                   64                          80                       84   \n",
       "18                   14                          14                       57   \n",
       "\n",
       "    attacking_volleys  skill_dribbling  skill_curve  skill_fk_accuracy  \\\n",
       "0                  88               96           93                 94   \n",
       "1                  86               88           81                 76   \n",
       "2                  13               12           13                 14   \n",
       "4                  87               95           88                 89   \n",
       "5                  82               88           85                 83   \n",
       "9                  20               27           19                 18   \n",
       "12                 12               13           19                 20   \n",
       "13                 86               88           83                 73   \n",
       "17                 63               69           63                 74   \n",
       "18                 18               23           15                 20   \n",
       "\n",
       "    skill_long_passing  skill_ball_control  movement_acceleration  \\\n",
       "0                   91                  96                     91   \n",
       "1                   77                  92                     87   \n",
       "2                   40                  30                     43   \n",
       "4                   81                  95                     94   \n",
       "5                   93                  92                     77   \n",
       "9                   44                  30                     56   \n",
       "12                  35                  23                     42   \n",
       "13                  64                  89                     79   \n",
       "17                  84                  79                     60   \n",
       "18                  59                  40                     64   \n",
       "\n",
       "    movement_sprint_speed  movement_agility  movement_reactions  \\\n",
       "0                      80                91                  94   \n",
       "1                      91                87                  95   \n",
       "2                      60                67                  88   \n",
       "4                      89                96                  91   \n",
       "5                      76                78                  91   \n",
       "9                      47                40                  88   \n",
       "12                     52                61                  84   \n",
       "13                     78                84                  92   \n",
       "17                     69                61                  87   \n",
       "18                     63                60                  87   \n",
       "\n",
       "    movement_balance  power_shot_power  power_jumping  power_stamina  \\\n",
       "0                 95                86             68             72   \n",
       "1                 71                94             95             84   \n",
       "2                 49                59             78             41   \n",
       "4                 83                80             62             81   \n",
       "5                 76                91             63             89   \n",
       "9                 37                64             52             32   \n",
       "12                45                56             68             38   \n",
       "13                91                89             78             78   \n",
       "17                66                88             87             90   \n",
       "18                48                70             66             41   \n",
       "\n",
       "    power_strength  power_long_shots  mentality_aggression  \\\n",
       "0               69                94                    44   \n",
       "1               78                93                    63   \n",
       "2               78                12                    34   \n",
       "4               50                84                    51   \n",
       "5               74                91                    76   \n",
       "9               78                14                    27   \n",
       "12              70                17                    23   \n",
       "13              74                84                    65   \n",
       "17              91                81                    91   \n",
       "18              78                18                    38   \n",
       "\n",
       "    mentality_interceptions  mentality_positioning  mentality_vision  \\\n",
       "0                        40                     93                95   \n",
       "1                        29                     95                82   \n",
       "2                        19                     11                65   \n",
       "4                        36                     87                90   \n",
       "5                        66                     88                94   \n",
       "9                        11                     13                66   \n",
       "12                       15                     13                44   \n",
       "13                       24                     94                83   \n",
       "17                       87                     72                80   \n",
       "18                       27                     20                70   \n",
       "\n",
       "    mentality_penalties  mentality_composure  defending_marking  \\\n",
       "0                    75                   96                NaN   \n",
       "1                    84                   95                NaN   \n",
       "2                    11                   68                NaN   \n",
       "4                    92                   93                NaN   \n",
       "5                    84                   91                NaN   \n",
       "9                    23                   65                NaN   \n",
       "12                   27                   66                NaN   \n",
       "13                   75                   91                NaN   \n",
       "17                   66                   84                NaN   \n",
       "18                   17                   70                NaN   \n",
       "\n",
       "    defending_standing_tackle  defending_sliding_tackle  goalkeeping_diving  \\\n",
       "0                          35                        24                   6   \n",
       "1                          32                        24                   7   \n",
       "2                          12                        18                  87   \n",
       "4                          30                        29                   9   \n",
       "5                          65                        53                  15   \n",
       "9                          19                        16                  86   \n",
       "12                         18                        16                  84   \n",
       "13                         29                        24                  13   \n",
       "17                         88                        87                  13   \n",
       "18                         15                         8                  86   \n",
       "\n",
       "    goalkeeping_handling  goalkeeping_kicking  goalkeeping_positioning  \\\n",
       "0                     11                   15                       14   \n",
       "1                     11                   15                       14   \n",
       "2                     92                   78                       90   \n",
       "4                      9                   15                       15   \n",
       "5                     13                    5                       10   \n",
       "9                     88                   85                       91   \n",
       "12                    89                   74                       85   \n",
       "13                    15                    6                       11   \n",
       "17                    14                   16                       12   \n",
       "18                    82                   93                       86   \n",
       "\n",
       "    goalkeeping_reflexes    ls    st    rs    lw    lf    cf    rf    rw  \\\n",
       "0                      8  89+3  89+3  89+3  92+0  93+0  93+0  93+0  92+0   \n",
       "1                     11  91+1  91+1  91+1  89+0  91+0  91+0  91+0  89+0   \n",
       "2                     90  33+3  33+3  33+3  32+0  35+0  35+0  35+0  32+0   \n",
       "4                     11  84+3  84+3  84+3  90+0  89+0  89+0  89+0  90+0   \n",
       "5                     13  83+3  83+3  83+3  88+0  88+0  88+0  88+0  88+0   \n",
       "9                     89  36+3  36+3  36+3  35+0  38+0  38+0  38+0  35+0   \n",
       "12                    88  31+3  31+3  31+3  29+0  31+0  31+0  31+0  29+0   \n",
       "13                    14  87+2  87+2  87+2  86+0  88+0  88+0  88+0  86+0   \n",
       "17                    12  76+3  76+3  76+3  72+0  75+0  75+0  75+0  72+0   \n",
       "18                    88  39+2  39+2  39+2  40+0  43+0  43+0  43+0  40+0   \n",
       "\n",
       "     lam   cam   ram    lm   lcm    cm   rcm    rm   lwb   ldm   cdm   rdm  \\\n",
       "0   93+0  93+0  93+0  91+2  87+3  87+3  87+3  91+2  66+3  65+3  65+3  65+3   \n",
       "1   88+3  88+3  88+3  88+3  81+3  81+3  81+3  88+3  65+3  61+3  61+3  61+3   \n",
       "2   38+3  38+3  38+3  35+3  38+3  38+3  38+3  35+3  32+3  36+3  36+3  36+3   \n",
       "4   90+1  90+1  90+1  90+1  83+3  83+3  83+3  90+1  67+3  62+3  62+3  62+3   \n",
       "5   89+2  89+2  89+2  89+2  89+2  89+2  89+2  89+2  79+3  80+3  80+3  80+3   \n",
       "9   40+3  40+3  40+3  38+3  40+3  40+3  40+3  38+3  31+3  35+3  35+3  35+3   \n",
       "12  32+3  32+3  32+3  31+3  32+3  32+3  32+3  31+3  29+3  31+3  31+3  31+3   \n",
       "13  86+3  86+3  86+3  84+3  77+3  77+3  77+3  84+3  60+3  58+3  58+3  58+3   \n",
       "17  76+3  76+3  76+3  74+3  81+3  81+3  81+3  74+3  80+3  86+3  86+3  86+3   \n",
       "18  46+2  46+2  46+2  44+2  47+2  47+2  47+2  44+2  37+2  43+2  43+2  43+2   \n",
       "\n",
       "     rwb    lb   lcb    cb   rcb    rb  \n",
       "0   66+3  62+3  52+3  52+3  52+3  62+3  \n",
       "1   65+3  61+3  54+3  54+3  54+3  61+3  \n",
       "2   32+3  32+3  33+3  33+3  33+3  32+3  \n",
       "4   67+3  62+3  49+3  49+3  49+3  62+3  \n",
       "5   79+3  75+3  69+3  69+3  69+3  75+3  \n",
       "9   31+3  30+3  30+3  30+3  30+3  30+3  \n",
       "12  29+3  29+3  29+3  29+3  29+3  29+3  \n",
       "13  60+3  56+3  51+3  51+3  51+3  56+3  \n",
       "17  80+3  81+3  86+3  86+3  86+3  81+3  \n",
       "18  37+2  35+2  35+2  35+2  35+2  35+2  "
      ]
     },
     "execution_count": 107,
     "metadata": {},
     "output_type": "execute_result"
    }
   ],
   "source": [
    "countries_data.head(10)"
   ]
  },
  {
   "cell_type": "code",
   "execution_count": 110,
   "id": "burning-spouse",
   "metadata": {},
   "outputs": [
    {
     "data": {
      "image/png": "[encoded data removed]",
      "text/plain": [
       "<Figure size 1440x720 with 1 Axes>"
      ]
     },
     "metadata": {
      "needs_background": "light"
     },
     "output_type": "display_data"
    }
   ],
   "source": [
    "fig,ax=plt.subplots()\n",
    "fig.set_size_inches(20,10)\n",
    "ax=sns.boxenplot(x='nationality',y='age',data=countries_data)\n",
    "plt.grid()"
   ]
  },
  {
   "cell_type": "markdown",
   "id": "received-kitchen",
   "metadata": {},
   "source": [
    "# Age Distributiuon of players in Countries"
   ]
  },
  {
   "cell_type": "code",
   "execution_count": 113,
   "id": "subsequent-sierra",
   "metadata": {},
   "outputs": [
    {
     "data": {
      "image/png": "[encoded data removed]",
      "text/plain": [
       "<Figure size 1440x720 with 1 Axes>"
      ]
     },
     "metadata": {
      "needs_background": "light"
     },
     "output_type": "display_data"
    }
   ],
   "source": [
    "clubs=['FC Barcelona','Juventus','Paris Saint-Germain','Manchester City','Atlético Madrid']\n",
    "club_data=data.loc[data['club_name'].isin(clubs)]\n",
    "\n",
    "fig,ax=plt.subplots()\n",
    "fig.set_size_inches(20,10)\n",
    "ax=sns.boxenplot(x='club_name',y='age',data=club_data)\n",
    "plt.grid()"
   ]
  },
  {
   "cell_type": "code",
   "execution_count": 140,
   "id": "heard-therapist",
   "metadata": {},
   "outputs": [
    {
     "data": {
      "application/vnd.plotly.v1+json": {
       "config": {
        "plotlyServerURL": "https://plot.ly"
       },
       "data": [
        {
         "customdata": [
          [
           "Argentina"
          ],
          [
           "Australia"
          ],
          [
           "Austria"
          ],
          [
           "Belgium"
          ],
          [
           "Brazil"
          ],
          [
           "China PR"
          ],
          [
           "Colombia"
          ],
          [
           "Denmark"
          ],
          [
           "Ecuador"
          ],
          [
           "England"
          ],
          [
           "France"
          ],
          [
           "Germany"
          ],
          [
           "Italy"
          ],
          [
           "Japan"
          ],
          [
           "Korea Republic"
          ],
          [
           "Mexico"
          ],
          [
           "Netherlands"
          ],
          [
           "Norway"
          ],
          [
           "Paraguay"
          ],
          [
           "Poland"
          ],
          [
           "Portugal"
          ],
          [
           "Republic of Ireland"
          ],
          [
           "Romania"
          ],
          [
           "Saudi Arabia"
          ],
          [
           "Scotland"
          ],
          [
           "Spain"
          ],
          [
           "Sweden"
          ],
          [
           "Switzerland"
          ],
          [
           "Turkey"
          ],
          [
           "United States"
          ],
          [
           "Uruguay"
          ]
         ],
         "hovertemplate": "Nationwise Overall=%{x}<br>Nationwise Count=%{marker.color}<br>nationality=%{customdata[0]}<extra></extra>",
         "legendgroup": "",
         "marker": {
          "color": [
           936,
           241,
           321,
           298,
           887,
           364,
           338,
           300,
           252,
           1685,
           984,
           1189,
           421,
           489,
           341,
           362,
           432,
           363,
           235,
           360,
           353,
           338,
           324,
           317,
           287,
           1072,
           372,
           211,
           344,
           378,
           349
          ],
          "coloraxis": "coloraxis",
          "symbol": "circle"
         },
         "mode": "markers",
         "name": "",
         "orientation": "v",
         "showlegend": false,
         "type": "scatter",
         "x": [
          67.79380341880342,
          61.36099585062241,
          65.93457943925233,
          67.59395973154362,
          70.96166854565952,
          59.005494505494504,
          66.65976331360947,
          64.62666666666667,
          63.86507936507937,
          62.87833827893175,
          67.17581300813008,
          65.6896551724138,
          68.70783847980998,
          64.58691206543968,
          62.780058651026394,
          65.58563535911603,
          67.45833333333333,
          63.00275482093664,
          65.02127659574468,
          63.233333333333334,
          69.80453257790369,
          60.82544378698225,
          63.01234567901235,
          60.46056782334385,
          63.77700348432056,
          69.26119402985074,
          63.784946236559136,
          64.6303317535545,
          64.6686046511628,
          63.507936507936506,
          67.1919770773639
         ],
         "xaxis": "x",
         "y": [
          936,
          241,
          321,
          298,
          887,
          364,
          338,
          300,
          252,
          1685,
          984,
          1189,
          421,
          489,
          341,
          362,
          432,
          363,
          235,
          360,
          353,
          338,
          324,
          317,
          287,
          1072,
          372,
          211,
          344,
          378,
          349
         ],
         "yaxis": "y"
        }
       ],
       "layout": {
        "coloraxis": {
         "colorbar": {
          "title": {
           "text": "Nationwise Count"
          }
         },
         "colorscale": [
          [
           0,
           "#0d0887"
          ],
          [
           0.1111111111111111,
           "#46039f"
          ],
          [
           0.2222222222222222,
           "#7201a8"
          ],
          [
           0.3333333333333333,
           "#9c179e"
          ],
          [
           0.4444444444444444,
           "#bd3786"
          ],
          [
           0.5555555555555556,
           "#d8576b"
          ],
          [
           0.6666666666666666,
           "#ed7953"
          ],
          [
           0.7777777777777778,
           "#fb9f3a"
          ],
          [
           0.8888888888888888,
           "#fdca26"
          ],
          [
           1,
           "#f0f921"
          ]
         ]
        },
        "legend": {
         "tracegroupgap": 0
        },
        "margin": {
         "t": 60
        },
        "template": {
         "data": {
          "bar": [
           {
            "error_x": {
             "color": "#2a3f5f"
            },
            "error_y": {
             "color": "#2a3f5f"
            },
            "marker": {
             "line": {
              "color": "#E5ECF6",
              "width": 0.5
             }
            },
            "type": "bar"
           }
          ],
          "barpolar": [
           {
            "marker": {
             "line": {
              "color": "#E5ECF6",
              "width": 0.5
             }
            },
            "type": "barpolar"
           }
          ],
          "carpet": [
           {
            "aaxis": {
             "endlinecolor": "#2a3f5f",
             "gridcolor": "white",
             "linecolor": "white",
             "minorgridcolor": "white",
             "startlinecolor": "#2a3f5f"
            },
            "baxis": {
             "endlinecolor": "#2a3f5f",
             "gridcolor": "white",
             "linecolor": "white",
             "minorgridcolor": "white",
             "startlinecolor": "#2a3f5f"
            },
            "type": "carpet"
           }
          ],
          "choropleth": [
           {
            "colorbar": {
             "outlinewidth": 0,
             "ticks": ""
            },
            "type": "choropleth"
           }
          ],
          "contour": [
           {
            "colorbar": {
             "outlinewidth": 0,
             "ticks": ""
            },
            "colorscale": [
             [
              0,
              "#0d0887"
             ],
             [
              0.1111111111111111,
              "#46039f"
             ],
             [
              0.2222222222222222,
              "#7201a8"
             ],
             [
              0.3333333333333333,
              "#9c179e"
             ],
             [
              0.4444444444444444,
              "#bd3786"
             ],
             [
              0.5555555555555556,
              "#d8576b"
             ],
             [
              0.6666666666666666,
              "#ed7953"
             ],
             [
              0.7777777777777778,
              "#fb9f3a"
             ],
             [
              0.8888888888888888,
              "#fdca26"
             ],
             [
              1,
              "#f0f921"
             ]
            ],
            "type": "contour"
           }
          ],
          "contourcarpet": [
           {
            "colorbar": {
             "outlinewidth": 0,
             "ticks": ""
            },
            "type": "contourcarpet"
           }
          ],
          "heatmap": [
           {
            "colorbar": {
             "outlinewidth": 0,
             "ticks": ""
            },
            "colorscale": [
             [
              0,
              "#0d0887"
             ],
             [
              0.1111111111111111,
              "#46039f"
             ],
             [
              0.2222222222222222,
              "#7201a8"
             ],
             [
              0.3333333333333333,
              "#9c179e"
             ],
             [
              0.4444444444444444,
              "#bd3786"
             ],
             [
              0.5555555555555556,
              "#d8576b"
             ],
             [
              0.6666666666666666,
              "#ed7953"
             ],
             [
              0.7777777777777778,
              "#fb9f3a"
             ],
             [
              0.8888888888888888,
              "#fdca26"
             ],
             [
              1,
              "#f0f921"
             ]
            ],
            "type": "heatmap"
           }
          ],
          "heatmapgl": [
           {
            "colorbar": {
             "outlinewidth": 0,
             "ticks": ""
            },
            "colorscale": [
             [
              0,
              "#0d0887"
             ],
             [
              0.1111111111111111,
              "#46039f"
             ],
             [
              0.2222222222222222,
              "#7201a8"
             ],
             [
              0.3333333333333333,
              "#9c179e"
             ],
             [
              0.4444444444444444,
              "#bd3786"
             ],
             [
              0.5555555555555556,
              "#d8576b"
             ],
             [
              0.6666666666666666,
              "#ed7953"
             ],
             [
              0.7777777777777778,
              "#fb9f3a"
             ],
             [
              0.8888888888888888,
              "#fdca26"
             ],
             [
              1,
              "#f0f921"
             ]
            ],
            "type": "heatmapgl"
           }
          ],
          "histogram": [
           {
            "marker": {
             "colorbar": {
              "outlinewidth": 0,
              "ticks": ""
             }
            },
            "type": "histogram"
           }
          ],
          "histogram2d": [
           {
            "colorbar": {
             "outlinewidth": 0,
             "ticks": ""
            },
            "colorscale": [
             [
              0,
              "#0d0887"
             ],
             [
              0.1111111111111111,
              "#46039f"
             ],
             [
              0.2222222222222222,
              "#7201a8"
             ],
             [
              0.3333333333333333,
              "#9c179e"
             ],
             [
              0.4444444444444444,
              "#bd3786"
             ],
             [
              0.5555555555555556,
              "#d8576b"
             ],
             [
              0.6666666666666666,
              "#ed7953"
             ],
             [
              0.7777777777777778,
              "#fb9f3a"
             ],
             [
              0.8888888888888888,
              "#fdca26"
             ],
             [
              1,
              "#f0f921"
             ]
            ],
            "type": "histogram2d"
           }
          ],
          "histogram2dcontour": [
           {
            "colorbar": {
             "outlinewidth": 0,
             "ticks": ""
            },
            "colorscale": [
             [
              0,
              "#0d0887"
             ],
             [
              0.1111111111111111,
              "#46039f"
             ],
             [
              0.2222222222222222,
              "#7201a8"
             ],
             [
              0.3333333333333333,
              "#9c179e"
             ],
             [
              0.4444444444444444,
              "#bd3786"
             ],
             [
              0.5555555555555556,
              "#d8576b"
             ],
             [
              0.6666666666666666,
              "#ed7953"
             ],
             [
              0.7777777777777778,
              "#fb9f3a"
             ],
             [
              0.8888888888888888,
              "#fdca26"
             ],
             [
              1,
              "#f0f921"
             ]
            ],
            "type": "histogram2dcontour"
           }
          ],
          "mesh3d": [
           {
            "colorbar": {
             "outlinewidth": 0,
             "ticks": ""
            },
            "type": "mesh3d"
           }
          ],
          "parcoords": [
           {
            "line": {
             "colorbar": {
              "outlinewidth": 0,
              "ticks": ""
             }
            },
            "type": "parcoords"
           }
          ],
          "pie": [
           {
            "automargin": true,
            "type": "pie"
           }
          ],
          "scatter": [
           {
            "marker": {
             "colorbar": {
              "outlinewidth": 0,
              "ticks": ""
             }
            },
            "type": "scatter"
           }
          ],
          "scatter3d": [
           {
            "line": {
             "colorbar": {
              "outlinewidth": 0,
              "ticks": ""
             }
            },
            "marker": {
             "colorbar": {
              "outlinewidth": 0,
              "ticks": ""
             }
            },
            "type": "scatter3d"
           }
          ],
          "scattercarpet": [
           {
            "marker": {
             "colorbar": {
              "outlinewidth": 0,
              "ticks": ""
             }
            },
            "type": "scattercarpet"
           }
          ],
          "scattergeo": [
           {
            "marker": {
             "colorbar": {
              "outlinewidth": 0,
              "ticks": ""
             }
            },
            "type": "scattergeo"
           }
          ],
          "scattergl": [
           {
            "marker": {
             "colorbar": {
              "outlinewidth": 0,
              "ticks": ""
             }
            },
            "type": "scattergl"
           }
          ],
          "scattermapbox": [
           {
            "marker": {
             "colorbar": {
              "outlinewidth": 0,
              "ticks": ""
             }
            },
            "type": "scattermapbox"
           }
          ],
          "scatterpolar": [
           {
            "marker": {
             "colorbar": {
              "outlinewidth": 0,
              "ticks": ""
             }
            },
            "type": "scatterpolar"
           }
          ],
          "scatterpolargl": [
           {
            "marker": {
             "colorbar": {
              "outlinewidth": 0,
              "ticks": ""
             }
            },
            "type": "scatterpolargl"
           }
          ],
          "scatterternary": [
           {
            "marker": {
             "colorbar": {
              "outlinewidth": 0,
              "ticks": ""
             }
            },
            "type": "scatterternary"
           }
          ],
          "surface": [
           {
            "colorbar": {
             "outlinewidth": 0,
             "ticks": ""
            },
            "colorscale": [
             [
              0,
              "#0d0887"
             ],
             [
              0.1111111111111111,
              "#46039f"
             ],
             [
              0.2222222222222222,
              "#7201a8"
             ],
             [
              0.3333333333333333,
              "#9c179e"
             ],
             [
              0.4444444444444444,
              "#bd3786"
             ],
             [
              0.5555555555555556,
              "#d8576b"
             ],
             [
              0.6666666666666666,
              "#ed7953"
             ],
             [
              0.7777777777777778,
              "#fb9f3a"
             ],
             [
              0.8888888888888888,
              "#fdca26"
             ],
             [
              1,
              "#f0f921"
             ]
            ],
            "type": "surface"
           }
          ],
          "table": [
           {
            "cells": {
             "fill": {
              "color": "#EBF0F8"
             },
             "line": {
              "color": "white"
             }
            },
            "header": {
             "fill": {
              "color": "#C8D4E3"
             },
             "line": {
              "color": "white"
             }
            },
            "type": "table"
           }
          ]
         },
         "layout": {
          "annotationdefaults": {
           "arrowcolor": "#2a3f5f",
           "arrowhead": 0,
           "arrowwidth": 1
          },
          "autotypenumbers": "strict",
          "coloraxis": {
           "colorbar": {
            "outlinewidth": 0,
            "ticks": ""
           }
          },
          "colorscale": {
           "diverging": [
            [
             0,
             "#8e0152"
            ],
            [
             0.1,
             "#c51b7d"
            ],
            [
             0.2,
             "#de77ae"
            ],
            [
             0.3,
             "#f1b6da"
            ],
            [
             0.4,
             "#fde0ef"
            ],
            [
             0.5,
             "#f7f7f7"
            ],
            [
             0.6,
             "#e6f5d0"
            ],
            [
             0.7,
             "#b8e186"
            ],
            [
             0.8,
             "#7fbc41"
            ],
            [
             0.9,
             "#4d9221"
            ],
            [
             1,
             "#276419"
            ]
           ],
           "sequential": [
            [
             0,
             "#0d0887"
            ],
            [
             0.1111111111111111,
             "#46039f"
            ],
            [
             0.2222222222222222,
             "#7201a8"
            ],
            [
             0.3333333333333333,
             "#9c179e"
            ],
            [
             0.4444444444444444,
             "#bd3786"
            ],
            [
             0.5555555555555556,
             "#d8576b"
            ],
            [
             0.6666666666666666,
             "#ed7953"
            ],
            [
             0.7777777777777778,
             "#fb9f3a"
            ],
            [
             0.8888888888888888,
             "#fdca26"
            ],
            [
             1,
             "#f0f921"
            ]
           ],
           "sequentialminus": [
            [
             0,
             "#0d0887"
            ],
            [
             0.1111111111111111,
             "#46039f"
            ],
            [
             0.2222222222222222,
             "#7201a8"
            ],
            [
             0.3333333333333333,
             "#9c179e"
            ],
            [
             0.4444444444444444,
             "#bd3786"
            ],
            [
             0.5555555555555556,
             "#d8576b"
            ],
            [
             0.6666666666666666,
             "#ed7953"
            ],
            [
             0.7777777777777778,
             "#fb9f3a"
            ],
            [
             0.8888888888888888,
             "#fdca26"
            ],
            [
             1,
             "#f0f921"
            ]
           ]
          },
          "colorway": [
           "#636efa",
           "#EF553B",
           "#00cc96",
           "#ab63fa",
           "#FFA15A",
           "#19d3f3",
           "#FF6692",
           "#B6E880",
           "#FF97FF",
           "#FECB52"
          ],
          "font": {
           "color": "#2a3f5f"
          },
          "geo": {
           "bgcolor": "white",
           "lakecolor": "white",
           "landcolor": "#E5ECF6",
           "showlakes": true,
           "showland": true,
           "subunitcolor": "white"
          },
          "hoverlabel": {
           "align": "left"
          },
          "hovermode": "closest",
          "mapbox": {
           "style": "light"
          },
          "paper_bgcolor": "white",
          "plot_bgcolor": "#E5ECF6",
          "polar": {
           "angularaxis": {
            "gridcolor": "white",
            "linecolor": "white",
            "ticks": ""
           },
           "bgcolor": "#E5ECF6",
           "radialaxis": {
            "gridcolor": "white",
            "linecolor": "white",
            "ticks": ""
           }
          },
          "scene": {
           "xaxis": {
            "backgroundcolor": "#E5ECF6",
            "gridcolor": "white",
            "gridwidth": 2,
            "linecolor": "white",
            "showbackground": true,
            "ticks": "",
            "zerolinecolor": "white"
           },
           "yaxis": {
            "backgroundcolor": "#E5ECF6",
            "gridcolor": "white",
            "gridwidth": 2,
            "linecolor": "white",
            "showbackground": true,
            "ticks": "",
            "zerolinecolor": "white"
           },
           "zaxis": {
            "backgroundcolor": "#E5ECF6",
            "gridcolor": "white",
            "gridwidth": 2,
            "linecolor": "white",
            "showbackground": true,
            "ticks": "",
            "zerolinecolor": "white"
           }
          },
          "shapedefaults": {
           "line": {
            "color": "#2a3f5f"
           }
          },
          "ternary": {
           "aaxis": {
            "gridcolor": "white",
            "linecolor": "white",
            "ticks": ""
           },
           "baxis": {
            "gridcolor": "white",
            "linecolor": "white",
            "ticks": ""
           },
           "bgcolor": "#E5ECF6",
           "caxis": {
            "gridcolor": "white",
            "linecolor": "white",
            "ticks": ""
           }
          },
          "title": {
           "x": 0.05
          },
          "xaxis": {
           "automargin": true,
           "gridcolor": "white",
           "linecolor": "white",
           "ticks": "",
           "title": {
            "standoff": 15
           },
           "zerolinecolor": "white",
           "zerolinewidth": 2
          },
          "yaxis": {
           "automargin": true,
           "gridcolor": "white",
           "linecolor": "white",
           "ticks": "",
           "title": {
            "standoff": 15
           },
           "zerolinecolor": "white",
           "zerolinewidth": 2
          }
         }
        },
        "xaxis": {
         "anchor": "y",
         "domain": [
          0,
          1
         ],
         "title": {
          "text": "Nationwise Overall"
         }
        },
        "yaxis": {
         "anchor": "x",
         "domain": [
          0,
          1
         ],
         "title": {
          "text": "Nationwise Count"
         }
        }
       }
      },
      "text/html": [
       "<div>                            <div id=\"f48ea281-b92f-416a-85a6-86f5bb488b38\" class=\"plotly-graph-div\" style=\"height:525px; width:100%;\"></div>            <script type=\"text/javascript\">                require([\"plotly\"], function(Plotly) {                    window.PLOTLYENV=window.PLOTLYENV || {};                                    if (document.getElementById(\"f48ea281-b92f-416a-85a6-86f5bb488b38\")) {                    Plotly.newPlot(                        \"f48ea281-b92f-416a-85a6-86f5bb488b38\",                        [{\"customdata\": [[\"Argentina\"], [\"Australia\"], [\"Austria\"], [\"Belgium\"], [\"Brazil\"], [\"China PR\"], [\"Colombia\"], [\"Denmark\"], [\"Ecuador\"], [\"England\"], [\"France\"], [\"Germany\"], [\"Italy\"], [\"Japan\"], [\"Korea Republic\"], [\"Mexico\"], [\"Netherlands\"], [\"Norway\"], [\"Paraguay\"], [\"Poland\"], [\"Portugal\"], [\"Republic of Ireland\"], [\"Romania\"], [\"Saudi Arabia\"], [\"Scotland\"], [\"Spain\"], [\"Sweden\"], [\"Switzerland\"], [\"Turkey\"], [\"United States\"], [\"Uruguay\"]], \"hovertemplate\": \"Nationwise Overall=%{x}<br>Nationwise Count=%{marker.color}<br>nationality=%{customdata[0]}<extra></extra>\", \"legendgroup\": \"\", \"marker\": {\"color\": [936, 241, 321, 298, 887, 364, 338, 300, 252, 1685, 984, 1189, 421, 489, 341, 362, 432, 363, 235, 360, 353, 338, 324, 317, 287, 1072, 372, 211, 344, 378, 349], \"coloraxis\": \"coloraxis\", \"symbol\": \"circle\"}, \"mode\": \"markers\", \"name\": \"\", \"orientation\": \"v\", \"showlegend\": false, \"type\": \"scatter\", \"x\": [67.79380341880342, 61.36099585062241, 65.93457943925233, 67.59395973154362, 70.96166854565952, 59.005494505494504, 66.65976331360947, 64.62666666666667, 63.86507936507937, 62.87833827893175, 67.17581300813008, 65.6896551724138, 68.70783847980998, 64.58691206543968, 62.780058651026394, 65.58563535911603, 67.45833333333333, 63.00275482093664, 65.02127659574468, 63.233333333333334, 69.80453257790369, 60.82544378698225, 63.01234567901235, 60.46056782334385, 63.77700348432056, 69.26119402985074, 63.784946236559136, 64.6303317535545, 64.6686046511628, 63.507936507936506, 67.1919770773639], \"xaxis\": \"x\", \"y\": [936, 241, 321, 298, 887, 364, 338, 300, 252, 1685, 984, 1189, 421, 489, 341, 362, 432, 363, 235, 360, 353, 338, 324, 317, 287, 1072, 372, 211, 344, 378, 349], \"yaxis\": \"y\"}],                        {\"coloraxis\": {\"colorbar\": {\"title\": {\"text\": \"Nationwise Count\"}}, \"colorscale\": [[0.0, \"#0d0887\"], [0.1111111111111111, \"#46039f\"], [0.2222222222222222, \"#7201a8\"], [0.3333333333333333, \"#9c179e\"], [0.4444444444444444, \"#bd3786\"], [0.5555555555555556, \"#d8576b\"], [0.6666666666666666, \"#ed7953\"], [0.7777777777777778, \"#fb9f3a\"], [0.8888888888888888, \"#fdca26\"], [1.0, \"#f0f921\"]]}, \"legend\": {\"tracegroupgap\": 0}, \"margin\": {\"t\": 60}, \"template\": {\"data\": {\"bar\": [{\"error_x\": {\"color\": \"#2a3f5f\"}, \"error_y\": {\"color\": \"#2a3f5f\"}, \"marker\": {\"line\": {\"color\": \"#E5ECF6\", \"width\": 0.5}}, \"type\": \"bar\"}], \"barpolar\": [{\"marker\": {\"line\": {\"color\": \"#E5ECF6\", \"width\": 0.5}}, \"type\": \"barpolar\"}], \"carpet\": [{\"aaxis\": {\"endlinecolor\": \"#2a3f5f\", \"gridcolor\": \"white\", \"linecolor\": \"white\", \"minorgridcolor\": \"white\", \"startlinecolor\": \"#2a3f5f\"}, \"baxis\": {\"endlinecolor\": \"#2a3f5f\", \"gridcolor\": \"white\", \"linecolor\": \"white\", \"minorgridcolor\": \"white\", \"startlinecolor\": \"#2a3f5f\"}, \"type\": \"carpet\"}], \"choropleth\": [{\"colorbar\": {\"outlinewidth\": 0, \"ticks\": \"\"}, \"type\": \"choropleth\"}], \"contour\": [{\"colorbar\": {\"outlinewidth\": 0, \"ticks\": \"\"}, \"colorscale\": [[0.0, \"#0d0887\"], [0.1111111111111111, \"#46039f\"], [0.2222222222222222, \"#7201a8\"], [0.3333333333333333, \"#9c179e\"], [0.4444444444444444, \"#bd3786\"], [0.5555555555555556, \"#d8576b\"], [0.6666666666666666, \"#ed7953\"], [0.7777777777777778, \"#fb9f3a\"], [0.8888888888888888, \"#fdca26\"], [1.0, \"#f0f921\"]], \"type\": \"contour\"}], \"contourcarpet\": [{\"colorbar\": {\"outlinewidth\": 0, \"ticks\": \"\"}, \"type\": \"contourcarpet\"}], \"heatmap\": [{\"colorbar\": {\"outlinewidth\": 0, \"ticks\": \"\"}, \"colorscale\": [[0.0, \"#0d0887\"], [0.1111111111111111, \"#46039f\"], [0.2222222222222222, \"#7201a8\"], [0.3333333333333333, \"#9c179e\"], [0.4444444444444444, \"#bd3786\"], [0.5555555555555556, \"#d8576b\"], [0.6666666666666666, \"#ed7953\"], [0.7777777777777778, \"#fb9f3a\"], [0.8888888888888888, \"#fdca26\"], [1.0, \"#f0f921\"]], \"type\": \"heatmap\"}], \"heatmapgl\": [{\"colorbar\": {\"outlinewidth\": 0, \"ticks\": \"\"}, \"colorscale\": [[0.0, \"#0d0887\"], [0.1111111111111111, \"#46039f\"], [0.2222222222222222, \"#7201a8\"], [0.3333333333333333, \"#9c179e\"], [0.4444444444444444, \"#bd3786\"], [0.5555555555555556, \"#d8576b\"], [0.6666666666666666, \"#ed7953\"], [0.7777777777777778, \"#fb9f3a\"], [0.8888888888888888, \"#fdca26\"], [1.0, \"#f0f921\"]], \"type\": \"heatmapgl\"}], \"histogram\": [{\"marker\": {\"colorbar\": {\"outlinewidth\": 0, \"ticks\": \"\"}}, \"type\": \"histogram\"}], \"histogram2d\": [{\"colorbar\": {\"outlinewidth\": 0, \"ticks\": \"\"}, \"colorscale\": [[0.0, \"#0d0887\"], [0.1111111111111111, \"#46039f\"], [0.2222222222222222, \"#7201a8\"], [0.3333333333333333, \"#9c179e\"], [0.4444444444444444, \"#bd3786\"], [0.5555555555555556, \"#d8576b\"], [0.6666666666666666, \"#ed7953\"], [0.7777777777777778, \"#fb9f3a\"], [0.8888888888888888, \"#fdca26\"], [1.0, \"#f0f921\"]], \"type\": \"histogram2d\"}], \"histogram2dcontour\": [{\"colorbar\": {\"outlinewidth\": 0, \"ticks\": \"\"}, \"colorscale\": [[0.0, \"#0d0887\"], [0.1111111111111111, \"#46039f\"], [0.2222222222222222, \"#7201a8\"], [0.3333333333333333, \"#9c179e\"], [0.4444444444444444, \"#bd3786\"], [0.5555555555555556, \"#d8576b\"], [0.6666666666666666, \"#ed7953\"], [0.7777777777777778, \"#fb9f3a\"], [0.8888888888888888, \"#fdca26\"], [1.0, \"#f0f921\"]], \"type\": \"histogram2dcontour\"}], \"mesh3d\": [{\"colorbar\": {\"outlinewidth\": 0, \"ticks\": \"\"}, \"type\": \"mesh3d\"}], \"parcoords\": [{\"line\": {\"colorbar\": {\"outlinewidth\": 0, \"ticks\": \"\"}}, \"type\": \"parcoords\"}], \"pie\": [{\"automargin\": true, \"type\": \"pie\"}], \"scatter\": [{\"marker\": {\"colorbar\": {\"outlinewidth\": 0, \"ticks\": \"\"}}, \"type\": \"scatter\"}], \"scatter3d\": [{\"line\": {\"colorbar\": {\"outlinewidth\": 0, \"ticks\": \"\"}}, \"marker\": {\"colorbar\": {\"outlinewidth\": 0, \"ticks\": \"\"}}, \"type\": \"scatter3d\"}], \"scattercarpet\": [{\"marker\": {\"colorbar\": {\"outlinewidth\": 0, \"ticks\": \"\"}}, \"type\": \"scattercarpet\"}], \"scattergeo\": [{\"marker\": {\"colorbar\": {\"outlinewidth\": 0, \"ticks\": \"\"}}, \"type\": \"scattergeo\"}], \"scattergl\": [{\"marker\": {\"colorbar\": {\"outlinewidth\": 0, \"ticks\": \"\"}}, \"type\": \"scattergl\"}], \"scattermapbox\": [{\"marker\": {\"colorbar\": {\"outlinewidth\": 0, \"ticks\": \"\"}}, \"type\": \"scattermapbox\"}], \"scatterpolar\": [{\"marker\": {\"colorbar\": {\"outlinewidth\": 0, \"ticks\": \"\"}}, \"type\": \"scatterpolar\"}], \"scatterpolargl\": [{\"marker\": {\"colorbar\": {\"outlinewidth\": 0, \"ticks\": \"\"}}, \"type\": \"scatterpolargl\"}], \"scatterternary\": [{\"marker\": {\"colorbar\": {\"outlinewidth\": 0, \"ticks\": \"\"}}, \"type\": \"scatterternary\"}], \"surface\": [{\"colorbar\": {\"outlinewidth\": 0, \"ticks\": \"\"}, \"colorscale\": [[0.0, \"#0d0887\"], [0.1111111111111111, \"#46039f\"], [0.2222222222222222, \"#7201a8\"], [0.3333333333333333, \"#9c179e\"], [0.4444444444444444, \"#bd3786\"], [0.5555555555555556, \"#d8576b\"], [0.6666666666666666, \"#ed7953\"], [0.7777777777777778, \"#fb9f3a\"], [0.8888888888888888, \"#fdca26\"], [1.0, \"#f0f921\"]], \"type\": \"surface\"}], \"table\": [{\"cells\": {\"fill\": {\"color\": \"#EBF0F8\"}, \"line\": {\"color\": \"white\"}}, \"header\": {\"fill\": {\"color\": \"#C8D4E3\"}, \"line\": {\"color\": \"white\"}}, \"type\": \"table\"}]}, \"layout\": {\"annotationdefaults\": {\"arrowcolor\": \"#2a3f5f\", \"arrowhead\": 0, \"arrowwidth\": 1}, \"autotypenumbers\": \"strict\", \"coloraxis\": {\"colorbar\": {\"outlinewidth\": 0, \"ticks\": \"\"}}, \"colorscale\": {\"diverging\": [[0, \"#8e0152\"], [0.1, \"#c51b7d\"], [0.2, \"#de77ae\"], [0.3, \"#f1b6da\"], [0.4, \"#fde0ef\"], [0.5, \"#f7f7f7\"], [0.6, \"#e6f5d0\"], [0.7, \"#b8e186\"], [0.8, \"#7fbc41\"], [0.9, \"#4d9221\"], [1, \"#276419\"]], \"sequential\": [[0.0, \"#0d0887\"], [0.1111111111111111, \"#46039f\"], [0.2222222222222222, \"#7201a8\"], [0.3333333333333333, \"#9c179e\"], [0.4444444444444444, \"#bd3786\"], [0.5555555555555556, \"#d8576b\"], [0.6666666666666666, \"#ed7953\"], [0.7777777777777778, \"#fb9f3a\"], [0.8888888888888888, \"#fdca26\"], [1.0, \"#f0f921\"]], \"sequentialminus\": [[0.0, \"#0d0887\"], [0.1111111111111111, \"#46039f\"], [0.2222222222222222, \"#7201a8\"], [0.3333333333333333, \"#9c179e\"], [0.4444444444444444, \"#bd3786\"], [0.5555555555555556, \"#d8576b\"], [0.6666666666666666, \"#ed7953\"], [0.7777777777777778, \"#fb9f3a\"], [0.8888888888888888, \"#fdca26\"], [1.0, \"#f0f921\"]]}, \"colorway\": [\"#636efa\", \"#EF553B\", \"#00cc96\", \"#ab63fa\", \"#FFA15A\", \"#19d3f3\", \"#FF6692\", \"#B6E880\", \"#FF97FF\", \"#FECB52\"], \"font\": {\"color\": \"#2a3f5f\"}, \"geo\": {\"bgcolor\": \"white\", \"lakecolor\": \"white\", \"landcolor\": \"#E5ECF6\", \"showlakes\": true, \"showland\": true, \"subunitcolor\": \"white\"}, \"hoverlabel\": {\"align\": \"left\"}, \"hovermode\": \"closest\", \"mapbox\": {\"style\": \"light\"}, \"paper_bgcolor\": \"white\", \"plot_bgcolor\": \"#E5ECF6\", \"polar\": {\"angularaxis\": {\"gridcolor\": \"white\", \"linecolor\": \"white\", \"ticks\": \"\"}, \"bgcolor\": \"#E5ECF6\", \"radialaxis\": {\"gridcolor\": \"white\", \"linecolor\": \"white\", \"ticks\": \"\"}}, \"scene\": {\"xaxis\": {\"backgroundcolor\": \"#E5ECF6\", \"gridcolor\": \"white\", \"gridwidth\": 2, \"linecolor\": \"white\", \"showbackground\": true, \"ticks\": \"\", \"zerolinecolor\": \"white\"}, \"yaxis\": {\"backgroundcolor\": \"#E5ECF6\", \"gridcolor\": \"white\", \"gridwidth\": 2, \"linecolor\": \"white\", \"showbackground\": true, \"ticks\": \"\", \"zerolinecolor\": \"white\"}, \"zaxis\": {\"backgroundcolor\": \"#E5ECF6\", \"gridcolor\": \"white\", \"gridwidth\": 2, \"linecolor\": \"white\", \"showbackground\": true, \"ticks\": \"\", \"zerolinecolor\": \"white\"}}, \"shapedefaults\": {\"line\": {\"color\": \"#2a3f5f\"}}, \"ternary\": {\"aaxis\": {\"gridcolor\": \"white\", \"linecolor\": \"white\", \"ticks\": \"\"}, \"baxis\": {\"gridcolor\": \"white\", \"linecolor\": \"white\", \"ticks\": \"\"}, \"bgcolor\": \"#E5ECF6\", \"caxis\": {\"gridcolor\": \"white\", \"linecolor\": \"white\", \"ticks\": \"\"}}, \"title\": {\"x\": 0.05}, \"xaxis\": {\"automargin\": true, \"gridcolor\": \"white\", \"linecolor\": \"white\", \"ticks\": \"\", \"title\": {\"standoff\": 15}, \"zerolinecolor\": \"white\", \"zerolinewidth\": 2}, \"yaxis\": {\"automargin\": true, \"gridcolor\": \"white\", \"linecolor\": \"white\", \"ticks\": \"\", \"title\": {\"standoff\": 15}, \"zerolinecolor\": \"white\", \"zerolinewidth\": 2}}}, \"xaxis\": {\"anchor\": \"y\", \"domain\": [0.0, 1.0], \"title\": {\"text\": \"Nationwise Overall\"}}, \"yaxis\": {\"anchor\": \"x\", \"domain\": [0.0, 1.0], \"title\": {\"text\": \"Nationwise Count\"}}},                        {\"responsive\": true}                    ).then(function(){\n",
       "                            \n",
       "var gd = document.getElementById('f48ea281-b92f-416a-85a6-86f5bb488b38');\n",
       "var x = new MutationObserver(function (mutations, observer) {{\n",
       "        var display = window.getComputedStyle(gd).display;\n",
       "        if (!display || display === 'none') {{\n",
       "            console.log([gd, 'removed!']);\n",
       "            Plotly.purge(gd);\n",
       "            observer.disconnect();\n",
       "        }}\n",
       "}});\n",
       "\n",
       "// Listen for the removal of the full notebook cells\n",
       "var notebookContainer = gd.closest('#notebook-container');\n",
       "if (notebookContainer) {{\n",
       "    x.observe(notebookContainer, {childList: true});\n",
       "}}\n",
       "\n",
       "// Listen for the clearing of the current output cell\n",
       "var outputEl = gd.closest('.output');\n",
       "if (outputEl) {{\n",
       "    x.observe(outputEl, {childList: true});\n",
       "}}\n",
       "\n",
       "                        })                };                });            </script>        </div>"
      ]
     },
     "metadata": {},
     "output_type": "display_data"
    }
   ],
   "source": [
    "best_avg_overall=data.groupby('nationality').apply(lambda x:np.mean(x['overall'])).reset_index(name='Nationwise Overall')\n",
    "nation_count=data.groupby('nationality').apply(lambda x:x['overall'].count()).reset_index(name='Nationwise Count')\n",
    "merge=pd.merge(best_avg_overall,nation_count,how='inner',left_on='nationality',right_on='nationality')\n",
    "best_avg_top=merge[merge['Nationwise Count']>=200]\n",
    "best_avg_top.sort_values(by=['Nationwise Overall','Nationwise Count'],ascending=False)\n",
    "px.scatter(best_avg_top,x='Nationwise Overall',y='Nationwise Count',color='Nationwise Count',hover_data=['nationality'])"
   ]
  },
  {
   "cell_type": "code",
   "execution_count": 147,
   "id": "electronic-immune",
   "metadata": {},
   "outputs": [
    {
     "data": {
      "text/html": [
       "<div>\n",
       "<style scoped>\n",
       "    .dataframe tbody tr th:only-of-type {\n",
       "        vertical-align: middle;\n",
       "    }\n",
       "\n",
       "    .dataframe tbody tr th {\n",
       "        vertical-align: top;\n",
       "    }\n",
       "\n",
       "    .dataframe thead th {\n",
       "        text-align: right;\n",
       "    }\n",
       "</style>\n",
       "<table border=\"1\" class=\"dataframe\">\n",
       "  <thead>\n",
       "    <tr style=\"text-align: right;\">\n",
       "      <th></th>\n",
       "      <th>nationality</th>\n",
       "      <th>Nationwise Overall</th>\n",
       "    </tr>\n",
       "  </thead>\n",
       "  <tbody>\n",
       "    <tr>\n",
       "      <th>0</th>\n",
       "      <td>Afghanistan</td>\n",
       "      <td>66.000000</td>\n",
       "    </tr>\n",
       "    <tr>\n",
       "      <th>1</th>\n",
       "      <td>Albania</td>\n",
       "      <td>65.224490</td>\n",
       "    </tr>\n",
       "    <tr>\n",
       "      <th>2</th>\n",
       "      <td>Algeria</td>\n",
       "      <td>70.807692</td>\n",
       "    </tr>\n",
       "    <tr>\n",
       "      <th>3</th>\n",
       "      <td>Andorra</td>\n",
       "      <td>62.000000</td>\n",
       "    </tr>\n",
       "    <tr>\n",
       "      <th>4</th>\n",
       "      <td>Angola</td>\n",
       "      <td>69.312500</td>\n",
       "    </tr>\n",
       "    <tr>\n",
       "      <th>5</th>\n",
       "      <td>Antigua &amp; Barbuda</td>\n",
       "      <td>62.000000</td>\n",
       "    </tr>\n",
       "    <tr>\n",
       "      <th>6</th>\n",
       "      <td>Argentina</td>\n",
       "      <td>67.793803</td>\n",
       "    </tr>\n",
       "    <tr>\n",
       "      <th>7</th>\n",
       "      <td>Armenia</td>\n",
       "      <td>71.500000</td>\n",
       "    </tr>\n",
       "    <tr>\n",
       "      <th>8</th>\n",
       "      <td>Aruba</td>\n",
       "      <td>68.000000</td>\n",
       "    </tr>\n",
       "    <tr>\n",
       "      <th>9</th>\n",
       "      <td>Australia</td>\n",
       "      <td>61.360996</td>\n",
       "    </tr>\n",
       "  </tbody>\n",
       "</table>\n",
       "</div>"
      ],
      "text/plain": [
       "         nationality  Nationwise Overall\n",
       "0        Afghanistan           66.000000\n",
       "1            Albania           65.224490\n",
       "2            Algeria           70.807692\n",
       "3            Andorra           62.000000\n",
       "4             Angola           69.312500\n",
       "5  Antigua & Barbuda           62.000000\n",
       "6          Argentina           67.793803\n",
       "7            Armenia           71.500000\n",
       "8              Aruba           68.000000\n",
       "9          Australia           61.360996"
      ]
     },
     "execution_count": 147,
     "metadata": {},
     "output_type": "execute_result"
    }
   ],
   "source": [
    "best_avg_overall.head(10)"
   ]
  },
  {
   "cell_type": "code",
   "execution_count": 146,
   "id": "allied-library",
   "metadata": {},
   "outputs": [
    {
     "data": {
      "text/html": [
       "<div>\n",
       "<style scoped>\n",
       "    .dataframe tbody tr th:only-of-type {\n",
       "        vertical-align: middle;\n",
       "    }\n",
       "\n",
       "    .dataframe tbody tr th {\n",
       "        vertical-align: top;\n",
       "    }\n",
       "\n",
       "    .dataframe thead th {\n",
       "        text-align: right;\n",
       "    }\n",
       "</style>\n",
       "<table border=\"1\" class=\"dataframe\">\n",
       "  <thead>\n",
       "    <tr style=\"text-align: right;\">\n",
       "      <th></th>\n",
       "      <th>nationality</th>\n",
       "      <th>Nationwise Count</th>\n",
       "    </tr>\n",
       "  </thead>\n",
       "  <tbody>\n",
       "    <tr>\n",
       "      <th>0</th>\n",
       "      <td>Afghanistan</td>\n",
       "      <td>2</td>\n",
       "    </tr>\n",
       "    <tr>\n",
       "      <th>1</th>\n",
       "      <td>Albania</td>\n",
       "      <td>49</td>\n",
       "    </tr>\n",
       "    <tr>\n",
       "      <th>2</th>\n",
       "      <td>Algeria</td>\n",
       "      <td>52</td>\n",
       "    </tr>\n",
       "    <tr>\n",
       "      <th>3</th>\n",
       "      <td>Andorra</td>\n",
       "      <td>1</td>\n",
       "    </tr>\n",
       "    <tr>\n",
       "      <th>4</th>\n",
       "      <td>Angola</td>\n",
       "      <td>16</td>\n",
       "    </tr>\n",
       "    <tr>\n",
       "      <th>5</th>\n",
       "      <td>Antigua &amp; Barbuda</td>\n",
       "      <td>4</td>\n",
       "    </tr>\n",
       "    <tr>\n",
       "      <th>6</th>\n",
       "      <td>Argentina</td>\n",
       "      <td>936</td>\n",
       "    </tr>\n",
       "    <tr>\n",
       "      <th>7</th>\n",
       "      <td>Armenia</td>\n",
       "      <td>4</td>\n",
       "    </tr>\n",
       "    <tr>\n",
       "      <th>8</th>\n",
       "      <td>Aruba</td>\n",
       "      <td>1</td>\n",
       "    </tr>\n",
       "    <tr>\n",
       "      <th>9</th>\n",
       "      <td>Australia</td>\n",
       "      <td>241</td>\n",
       "    </tr>\n",
       "  </tbody>\n",
       "</table>\n",
       "</div>"
      ],
      "text/plain": [
       "         nationality  Nationwise Count\n",
       "0        Afghanistan                 2\n",
       "1            Albania                49\n",
       "2            Algeria                52\n",
       "3            Andorra                 1\n",
       "4             Angola                16\n",
       "5  Antigua & Barbuda                 4\n",
       "6          Argentina               936\n",
       "7            Armenia                 4\n",
       "8              Aruba                 1\n",
       "9          Australia               241"
      ]
     },
     "execution_count": 146,
     "metadata": {},
     "output_type": "execute_result"
    }
   ],
   "source": [
    "nation_count.head(10)"
   ]
  },
  {
   "cell_type": "code",
   "execution_count": 128,
   "id": "strategic-dominant",
   "metadata": {},
   "outputs": [
    {
     "data": {
      "text/html": [
       "<div>\n",
       "<style scoped>\n",
       "    .dataframe tbody tr th:only-of-type {\n",
       "        vertical-align: middle;\n",
       "    }\n",
       "\n",
       "    .dataframe tbody tr th {\n",
       "        vertical-align: top;\n",
       "    }\n",
       "\n",
       "    .dataframe thead th {\n",
       "        text-align: right;\n",
       "    }\n",
       "</style>\n",
       "<table border=\"1\" class=\"dataframe\">\n",
       "  <thead>\n",
       "    <tr style=\"text-align: right;\">\n",
       "      <th></th>\n",
       "      <th>nationality</th>\n",
       "      <th>Nationwise Overall</th>\n",
       "      <th>Nationwise Count</th>\n",
       "    </tr>\n",
       "  </thead>\n",
       "  <tbody>\n",
       "    <tr>\n",
       "      <th>0</th>\n",
       "      <td>Afghanistan</td>\n",
       "      <td>66.000000</td>\n",
       "      <td>2</td>\n",
       "    </tr>\n",
       "    <tr>\n",
       "      <th>1</th>\n",
       "      <td>Albania</td>\n",
       "      <td>65.224490</td>\n",
       "      <td>49</td>\n",
       "    </tr>\n",
       "    <tr>\n",
       "      <th>2</th>\n",
       "      <td>Algeria</td>\n",
       "      <td>70.807692</td>\n",
       "      <td>52</td>\n",
       "    </tr>\n",
       "    <tr>\n",
       "      <th>3</th>\n",
       "      <td>Andorra</td>\n",
       "      <td>62.000000</td>\n",
       "      <td>1</td>\n",
       "    </tr>\n",
       "    <tr>\n",
       "      <th>4</th>\n",
       "      <td>Angola</td>\n",
       "      <td>69.312500</td>\n",
       "      <td>16</td>\n",
       "    </tr>\n",
       "    <tr>\n",
       "      <th>5</th>\n",
       "      <td>Antigua &amp; Barbuda</td>\n",
       "      <td>62.000000</td>\n",
       "      <td>4</td>\n",
       "    </tr>\n",
       "    <tr>\n",
       "      <th>6</th>\n",
       "      <td>Argentina</td>\n",
       "      <td>67.793803</td>\n",
       "      <td>936</td>\n",
       "    </tr>\n",
       "    <tr>\n",
       "      <th>7</th>\n",
       "      <td>Armenia</td>\n",
       "      <td>71.500000</td>\n",
       "      <td>4</td>\n",
       "    </tr>\n",
       "    <tr>\n",
       "      <th>8</th>\n",
       "      <td>Aruba</td>\n",
       "      <td>68.000000</td>\n",
       "      <td>1</td>\n",
       "    </tr>\n",
       "    <tr>\n",
       "      <th>9</th>\n",
       "      <td>Australia</td>\n",
       "      <td>61.360996</td>\n",
       "      <td>241</td>\n",
       "    </tr>\n",
       "  </tbody>\n",
       "</table>\n",
       "</div>"
      ],
      "text/plain": [
       "         nationality  Nationwise Overall  Nationwise Count\n",
       "0        Afghanistan           66.000000                 2\n",
       "1            Albania           65.224490                49\n",
       "2            Algeria           70.807692                52\n",
       "3            Andorra           62.000000                 1\n",
       "4             Angola           69.312500                16\n",
       "5  Antigua & Barbuda           62.000000                 4\n",
       "6          Argentina           67.793803               936\n",
       "7            Armenia           71.500000                 4\n",
       "8              Aruba           68.000000                 1\n",
       "9          Australia           61.360996               241"
      ]
     },
     "execution_count": 128,
     "metadata": {},
     "output_type": "execute_result"
    }
   ],
   "source": [
    "merge.head(10)"
   ]
  },
  {
   "cell_type": "markdown",
   "id": "literary-crystal",
   "metadata": {},
   "source": [
    "# Top Footballers in Fifa 21 Game"
   ]
  },
  {
   "cell_type": "code",
   "execution_count": 144,
   "id": "first-morgan",
   "metadata": {},
   "outputs": [
    {
     "name": "stderr",
     "output_type": "stream",
     "text": [
      "<ipython-input-144-463939e724f0>:2: SettingWithCopyWarning:\n",
      "\n",
      "\n",
      "A value is trying to be set on a copy of a slice from a DataFrame\n",
      "\n",
      "See the caveats in the documentation: https://pandas.pydata.org/pandas-docs/stable/user_guide/indexing.html#returning-a-view-versus-a-copy\n",
      "\n"
     ]
    },
    {
     "data": {
      "application/vnd.plotly.v1+json": {
       "config": {
        "plotlyServerURL": "https://plot.ly"
       },
       "data": [
        {
         "customdata": [
          [
           "L. Messi",
           "FC Barcelona"
          ],
          [
           "Cristiano Ronaldo",
           "Juventus"
          ],
          [
           "J. Oblak",
           "Atlético Madrid"
          ],
          [
           "R. Lewandowski",
           "FC Bayern München"
          ],
          [
           "Neymar Jr",
           "Paris Saint-Germain"
          ],
          [
           "K. De Bruyne",
           "Manchester City"
          ],
          [
           "Alisson",
           "Liverpool"
          ],
          [
           "S. Mané",
           "Liverpool"
          ],
          [
           "M. Salah",
           "Liverpool"
          ],
          [
           "V. van Dijk",
           "Liverpool"
          ],
          [
           "M. ter Stegen",
           "FC Barcelona"
          ],
          [
           "K. Mbappé",
           "Paris Saint-Germain"
          ],
          [
           "T. Courtois",
           "Real Madrid"
          ],
          [
           "S. Agüero",
           "Manchester City"
          ],
          [
           "Sergio Ramos",
           "Real Madrid"
          ],
          [
           "K. Benzema",
           "Real Madrid"
          ],
          [
           "M. Neuer",
           "FC Bayern München"
          ],
          [
           "Casemiro",
           "Real Madrid"
          ],
          [
           "S. Handanovič",
           "Inter"
          ],
          [
           "N. Kanté",
           "Chelsea"
          ],
          [
           "K. Koulibaly",
           "Napoli"
          ],
          [
           "E. Hazard",
           "Real Madrid"
          ],
          [
           "T. Kroos",
           "Real Madrid"
          ],
          [
           "Ederson",
           "Manchester City"
          ],
          [
           "P. Dybala",
           "Juventus"
          ],
          [
           "H. Kane",
           "Tottenham Hotspur"
          ],
          [
           "J. Kimmich",
           "FC Bayern München"
          ],
          [
           "R. Sterling",
           "Manchester City"
          ],
          [
           "L. Modrić",
           "Real Madrid"
          ],
          [
           "Roberto Firmino",
           "Liverpool"
          ],
          [
           "H. Son",
           "Tottenham Hotspur"
          ],
          [
           "A. Griezmann",
           "FC Barcelona"
          ],
          [
           "K. Navas",
           "Paris Saint-Germain"
          ],
          [
           "C. Immobile",
           "Lazio"
          ],
          [
           "Sergio Busquets",
           "FC Barcelona"
          ],
          [
           "P. Aubameyang",
           "Arsenal"
          ],
          [
           "A. Di María",
           "Paris Saint-Germain"
          ],
          [
           "W. Szczęsny",
           "Juventus"
          ],
          [
           "L. Suárez",
           "FC Barcelona"
          ],
          [
           "J. Sancho",
           "Borussia Dortmund"
          ],
          [
           "G. Chiellini",
           "Juventus"
          ],
          [
           "Bernardo Silva",
           "Manchester City"
          ],
          [
           "A. Robertson",
           "Liverpool"
          ],
          [
           "Fabinho",
           "Liverpool"
          ],
          [
           "A. Laporte",
           "Manchester City"
          ],
          [
           "Bruno Fernandes",
           "Manchester United"
          ],
          [
           "T. Alexander-Arnold",
           "Liverpool"
          ],
          [
           "H. Lloris",
           "Tottenham Hotspur"
          ],
          [
           "M. Hummels",
           "Borussia Dortmund"
          ],
          [
           "J. Vardy",
           "Leicester City"
          ],
          [
           "Carvajal",
           "Real Madrid"
          ],
          [
           "T. Müller",
           "FC Bayern München"
          ],
          [
           "Jordi Alba",
           "FC Barcelona"
          ],
          [
           "J. Henderson",
           "Liverpool"
          ],
          [
           "De Gea",
           "Manchester United"
          ],
          [
           "Y. Sommer",
           "Borussia Mönchengladbach"
          ],
          [
           "Piqué",
           "FC Barcelona"
          ],
          [
           "A. Gómez",
           "Atalanta"
          ],
          [
           "M. Verratti",
           "Paris Saint-Germain"
          ],
          [
           "P. Pogba",
           "Manchester United"
          ],
          [
           "R. Varane",
           "Real Madrid"
          ],
          [
           "David Silva",
           "Real Sociedad"
          ],
          [
           "M. Reus",
           "Borussia Dortmund"
          ],
          [
           "Thiago Silva",
           "Chelsea"
          ],
          [
           "D. Mertens",
           "Napoli"
          ],
          [
           "M. Pjanić",
           "FC Barcelona"
          ],
          [
           "G. Wijnaldum",
           "Liverpool"
          ],
          [
           "D. Godín",
           "Inter"
          ],
          [
           "T. Alderweireld",
           "Tottenham Hotspur"
          ],
          [
           "P. Gulácsi",
           "RB Leipzig"
          ],
          [
           "C. Eriksen",
           "Inter"
          ],
          [
           "K. Walker",
           "Manchester City"
          ],
          [
           "Thiago",
           "Liverpool"
          ],
          [
           "Parejo",
           "Villarreal CF"
          ],
          [
           "Alex Sandro",
           "Juventus"
          ],
          [
           "Koke",
           "Atlético Madrid"
          ],
          [
           "L. Insigne",
           "Napoli"
          ],
          [
           "R. Mahrez",
           "Manchester City"
          ],
          [
           "M. Icardi",
           "Paris Saint-Germain"
          ],
          [
           "H. Ziyech",
           "Chelsea"
          ],
          [
           "L. Bonucci",
           "Juventus"
          ],
          [
           "Luis Alberto",
           "Lazio"
          ],
          [
           "S. Milinković-Savić",
           "Lazio"
          ],
          [
           "R. Lukaku",
           "Inter"
          ],
          [
           "G. Donnarumma",
           "Milan"
          ],
          [
           "M. de Ligt",
           "Juventus"
          ],
          [
           "M. Rashford",
           "Manchester United"
          ],
          [
           "L. Sané",
           "FC Bayern München"
          ],
          [
           "Marquinhos",
           "Paris Saint-Germain"
          ],
          [
           "C. Lenglet",
           "FC Barcelona"
          ],
          [
           "F. de Jong",
           "FC Barcelona"
          ],
          [
           "M. Škriniar",
           "Inter"
          ],
          [
           "K. Havertz",
           "Chelsea"
          ],
          [
           "Ricardo Pereira",
           "Leicester City"
          ],
          [
           "T. Werner",
           "Chelsea"
          ],
          [
           "Rodri",
           "Manchester City"
          ],
          [
           "B. Leno",
           "Arsenal"
          ],
          [
           "S. Gnabry",
           "FC Bayern München"
          ],
          [
           "M. Depay",
           "Olympique Lyonnais"
          ],
          [
           "A. Witsel",
           "Borussia Dortmund"
          ]
         ],
         "hovertemplate": "age=%{marker.color}<br>overall=%{marker.size}<br>short_name=%{customdata[0]}<br>club_name=%{customdata[1]}<extra></extra>",
         "legendgroup": "",
         "marker": {
          "color": [
           33,
           35,
           27,
           31,
           28,
           29,
           27,
           28,
           28,
           28,
           28,
           21,
           28,
           32,
           34,
           32,
           34,
           28,
           35,
           29,
           29,
           29,
           30,
           26,
           26,
           26,
           25,
           25,
           34,
           28,
           27,
           29,
           33,
           30,
           31,
           31,
           32,
           30,
           33,
           20,
           35,
           25,
           26,
           26,
           26,
           25,
           21,
           33,
           31,
           33,
           28,
           30,
           31,
           30,
           29,
           31,
           33,
           32,
           27,
           27,
           27,
           34,
           31,
           35,
           33,
           30,
           29,
           34,
           31,
           30,
           28,
           30,
           29,
           31,
           29,
           28,
           29,
           29,
           27,
           27,
           33,
           27,
           25,
           27,
           21,
           20,
           22,
           24,
           26,
           25,
           23,
           25,
           21,
           26,
           24,
           24,
           28,
           24,
           26,
           31
          ],
          "coloraxis": "coloraxis",
          "size": [
           93,
           92,
           91,
           91,
           91,
           91,
           90,
           90,
           90,
           90,
           90,
           90,
           89,
           89,
           89,
           89,
           89,
           89,
           88,
           88,
           88,
           88,
           88,
           88,
           88,
           88,
           88,
           88,
           87,
           87,
           87,
           87,
           87,
           87,
           87,
           87,
           87,
           87,
           87,
           87,
           87,
           87,
           87,
           87,
           87,
           87,
           87,
           87,
           86,
           86,
           86,
           86,
           86,
           86,
           86,
           86,
           86,
           86,
           86,
           86,
           86,
           86,
           85,
           85,
           85,
           85,
           85,
           85,
           85,
           85,
           85,
           85,
           85,
           85,
           85,
           85,
           85,
           85,
           85,
           85,
           85,
           85,
           85,
           85,
           85,
           85,
           85,
           85,
           85,
           85,
           85,
           85,
           85,
           85,
           85,
           85,
           85,
           85,
           85,
           84
          ],
          "sizemode": "area",
          "sizeref": 0.2325,
          "symbol": "circle"
         },
         "mode": "markers",
         "name": "",
         "orientation": "v",
         "showlegend": false,
         "type": "scatter",
         "x": [
          33,
          35,
          27,
          31,
          28,
          29,
          27,
          28,
          28,
          28,
          28,
          21,
          28,
          32,
          34,
          32,
          34,
          28,
          35,
          29,
          29,
          29,
          30,
          26,
          26,
          26,
          25,
          25,
          34,
          28,
          27,
          29,
          33,
          30,
          31,
          31,
          32,
          30,
          33,
          20,
          35,
          25,
          26,
          26,
          26,
          25,
          21,
          33,
          31,
          33,
          28,
          30,
          31,
          30,
          29,
          31,
          33,
          32,
          27,
          27,
          27,
          34,
          31,
          35,
          33,
          30,
          29,
          34,
          31,
          30,
          28,
          30,
          29,
          31,
          29,
          28,
          29,
          29,
          27,
          27,
          33,
          27,
          25,
          27,
          21,
          20,
          22,
          24,
          26,
          25,
          23,
          25,
          21,
          26,
          24,
          24,
          28,
          24,
          26,
          31
         ],
         "xaxis": "x",
         "y": [
          93,
          92,
          91,
          91,
          91,
          91,
          90,
          90,
          90,
          90,
          90,
          90,
          89,
          89,
          89,
          89,
          89,
          89,
          88,
          88,
          88,
          88,
          88,
          88,
          88,
          88,
          88,
          88,
          87,
          87,
          87,
          87,
          87,
          87,
          87,
          87,
          87,
          87,
          87,
          87,
          87,
          87,
          87,
          87,
          87,
          87,
          87,
          87,
          86,
          86,
          86,
          86,
          86,
          86,
          86,
          86,
          86,
          86,
          86,
          86,
          86,
          86,
          85,
          85,
          85,
          85,
          85,
          85,
          85,
          85,
          85,
          85,
          85,
          85,
          85,
          85,
          85,
          85,
          85,
          85,
          85,
          85,
          85,
          85,
          85,
          85,
          85,
          85,
          85,
          85,
          85,
          85,
          85,
          85,
          85,
          85,
          85,
          85,
          85,
          84
         ],
         "yaxis": "y"
        }
       ],
       "layout": {
        "coloraxis": {
         "colorbar": {
          "title": {
           "text": "age"
          }
         },
         "colorscale": [
          [
           0,
           "#0d0887"
          ],
          [
           0.1111111111111111,
           "#46039f"
          ],
          [
           0.2222222222222222,
           "#7201a8"
          ],
          [
           0.3333333333333333,
           "#9c179e"
          ],
          [
           0.4444444444444444,
           "#bd3786"
          ],
          [
           0.5555555555555556,
           "#d8576b"
          ],
          [
           0.6666666666666666,
           "#ed7953"
          ],
          [
           0.7777777777777778,
           "#fb9f3a"
          ],
          [
           0.8888888888888888,
           "#fdca26"
          ],
          [
           1,
           "#f0f921"
          ]
         ]
        },
        "legend": {
         "itemsizing": "constant",
         "tracegroupgap": 0
        },
        "margin": {
         "t": 60
        },
        "template": {
         "data": {
          "bar": [
           {
            "error_x": {
             "color": "#2a3f5f"
            },
            "error_y": {
             "color": "#2a3f5f"
            },
            "marker": {
             "line": {
              "color": "#E5ECF6",
              "width": 0.5
             }
            },
            "type": "bar"
           }
          ],
          "barpolar": [
           {
            "marker": {
             "line": {
              "color": "#E5ECF6",
              "width": 0.5
             }
            },
            "type": "barpolar"
           }
          ],
          "carpet": [
           {
            "aaxis": {
             "endlinecolor": "#2a3f5f",
             "gridcolor": "white",
             "linecolor": "white",
             "minorgridcolor": "white",
             "startlinecolor": "#2a3f5f"
            },
            "baxis": {
             "endlinecolor": "#2a3f5f",
             "gridcolor": "white",
             "linecolor": "white",
             "minorgridcolor": "white",
             "startlinecolor": "#2a3f5f"
            },
            "type": "carpet"
           }
          ],
          "choropleth": [
           {
            "colorbar": {
             "outlinewidth": 0,
             "ticks": ""
            },
            "type": "choropleth"
           }
          ],
          "contour": [
           {
            "colorbar": {
             "outlinewidth": 0,
             "ticks": ""
            },
            "colorscale": [
             [
              0,
              "#0d0887"
             ],
             [
              0.1111111111111111,
              "#46039f"
             ],
             [
              0.2222222222222222,
              "#7201a8"
             ],
             [
              0.3333333333333333,
              "#9c179e"
             ],
             [
              0.4444444444444444,
              "#bd3786"
             ],
             [
              0.5555555555555556,
              "#d8576b"
             ],
             [
              0.6666666666666666,
              "#ed7953"
             ],
             [
              0.7777777777777778,
              "#fb9f3a"
             ],
             [
              0.8888888888888888,
              "#fdca26"
             ],
             [
              1,
              "#f0f921"
             ]
            ],
            "type": "contour"
           }
          ],
          "contourcarpet": [
           {
            "colorbar": {
             "outlinewidth": 0,
             "ticks": ""
            },
            "type": "contourcarpet"
           }
          ],
          "heatmap": [
           {
            "colorbar": {
             "outlinewidth": 0,
             "ticks": ""
            },
            "colorscale": [
             [
              0,
              "#0d0887"
             ],
             [
              0.1111111111111111,
              "#46039f"
             ],
             [
              0.2222222222222222,
              "#7201a8"
             ],
             [
              0.3333333333333333,
              "#9c179e"
             ],
             [
              0.4444444444444444,
              "#bd3786"
             ],
             [
              0.5555555555555556,
              "#d8576b"
             ],
             [
              0.6666666666666666,
              "#ed7953"
             ],
             [
              0.7777777777777778,
              "#fb9f3a"
             ],
             [
              0.8888888888888888,
              "#fdca26"
             ],
             [
              1,
              "#f0f921"
             ]
            ],
            "type": "heatmap"
           }
          ],
          "heatmapgl": [
           {
            "colorbar": {
             "outlinewidth": 0,
             "ticks": ""
            },
            "colorscale": [
             [
              0,
              "#0d0887"
             ],
             [
              0.1111111111111111,
              "#46039f"
             ],
             [
              0.2222222222222222,
              "#7201a8"
             ],
             [
              0.3333333333333333,
              "#9c179e"
             ],
             [
              0.4444444444444444,
              "#bd3786"
             ],
             [
              0.5555555555555556,
              "#d8576b"
             ],
             [
              0.6666666666666666,
              "#ed7953"
             ],
             [
              0.7777777777777778,
              "#fb9f3a"
             ],
             [
              0.8888888888888888,
              "#fdca26"
             ],
             [
              1,
              "#f0f921"
             ]
            ],
            "type": "heatmapgl"
           }
          ],
          "histogram": [
           {
            "marker": {
             "colorbar": {
              "outlinewidth": 0,
              "ticks": ""
             }
            },
            "type": "histogram"
           }
          ],
          "histogram2d": [
           {
            "colorbar": {
             "outlinewidth": 0,
             "ticks": ""
            },
            "colorscale": [
             [
              0,
              "#0d0887"
             ],
             [
              0.1111111111111111,
              "#46039f"
             ],
             [
              0.2222222222222222,
              "#7201a8"
             ],
             [
              0.3333333333333333,
              "#9c179e"
             ],
             [
              0.4444444444444444,
              "#bd3786"
             ],
             [
              0.5555555555555556,
              "#d8576b"
             ],
             [
              0.6666666666666666,
              "#ed7953"
             ],
             [
              0.7777777777777778,
              "#fb9f3a"
             ],
             [
              0.8888888888888888,
              "#fdca26"
             ],
             [
              1,
              "#f0f921"
             ]
            ],
            "type": "histogram2d"
           }
          ],
          "histogram2dcontour": [
           {
            "colorbar": {
             "outlinewidth": 0,
             "ticks": ""
            },
            "colorscale": [
             [
              0,
              "#0d0887"
             ],
             [
              0.1111111111111111,
              "#46039f"
             ],
             [
              0.2222222222222222,
              "#7201a8"
             ],
             [
              0.3333333333333333,
              "#9c179e"
             ],
             [
              0.4444444444444444,
              "#bd3786"
             ],
             [
              0.5555555555555556,
              "#d8576b"
             ],
             [
              0.6666666666666666,
              "#ed7953"
             ],
             [
              0.7777777777777778,
              "#fb9f3a"
             ],
             [
              0.8888888888888888,
              "#fdca26"
             ],
             [
              1,
              "#f0f921"
             ]
            ],
            "type": "histogram2dcontour"
           }
          ],
          "mesh3d": [
           {
            "colorbar": {
             "outlinewidth": 0,
             "ticks": ""
            },
            "type": "mesh3d"
           }
          ],
          "parcoords": [
           {
            "line": {
             "colorbar": {
              "outlinewidth": 0,
              "ticks": ""
             }
            },
            "type": "parcoords"
           }
          ],
          "pie": [
           {
            "automargin": true,
            "type": "pie"
           }
          ],
          "scatter": [
           {
            "marker": {
             "colorbar": {
              "outlinewidth": 0,
              "ticks": ""
             }
            },
            "type": "scatter"
           }
          ],
          "scatter3d": [
           {
            "line": {
             "colorbar": {
              "outlinewidth": 0,
              "ticks": ""
             }
            },
            "marker": {
             "colorbar": {
              "outlinewidth": 0,
              "ticks": ""
             }
            },
            "type": "scatter3d"
           }
          ],
          "scattercarpet": [
           {
            "marker": {
             "colorbar": {
              "outlinewidth": 0,
              "ticks": ""
             }
            },
            "type": "scattercarpet"
           }
          ],
          "scattergeo": [
           {
            "marker": {
             "colorbar": {
              "outlinewidth": 0,
              "ticks": ""
             }
            },
            "type": "scattergeo"
           }
          ],
          "scattergl": [
           {
            "marker": {
             "colorbar": {
              "outlinewidth": 0,
              "ticks": ""
             }
            },
            "type": "scattergl"
           }
          ],
          "scattermapbox": [
           {
            "marker": {
             "colorbar": {
              "outlinewidth": 0,
              "ticks": ""
             }
            },
            "type": "scattermapbox"
           }
          ],
          "scatterpolar": [
           {
            "marker": {
             "colorbar": {
              "outlinewidth": 0,
              "ticks": ""
             }
            },
            "type": "scatterpolar"
           }
          ],
          "scatterpolargl": [
           {
            "marker": {
             "colorbar": {
              "outlinewidth": 0,
              "ticks": ""
             }
            },
            "type": "scatterpolargl"
           }
          ],
          "scatterternary": [
           {
            "marker": {
             "colorbar": {
              "outlinewidth": 0,
              "ticks": ""
             }
            },
            "type": "scatterternary"
           }
          ],
          "surface": [
           {
            "colorbar": {
             "outlinewidth": 0,
             "ticks": ""
            },
            "colorscale": [
             [
              0,
              "#0d0887"
             ],
             [
              0.1111111111111111,
              "#46039f"
             ],
             [
              0.2222222222222222,
              "#7201a8"
             ],
             [
              0.3333333333333333,
              "#9c179e"
             ],
             [
              0.4444444444444444,
              "#bd3786"
             ],
             [
              0.5555555555555556,
              "#d8576b"
             ],
             [
              0.6666666666666666,
              "#ed7953"
             ],
             [
              0.7777777777777778,
              "#fb9f3a"
             ],
             [
              0.8888888888888888,
              "#fdca26"
             ],
             [
              1,
              "#f0f921"
             ]
            ],
            "type": "surface"
           }
          ],
          "table": [
           {
            "cells": {
             "fill": {
              "color": "#EBF0F8"
             },
             "line": {
              "color": "white"
             }
            },
            "header": {
             "fill": {
              "color": "#C8D4E3"
             },
             "line": {
              "color": "white"
             }
            },
            "type": "table"
           }
          ]
         },
         "layout": {
          "annotationdefaults": {
           "arrowcolor": "#2a3f5f",
           "arrowhead": 0,
           "arrowwidth": 1
          },
          "autotypenumbers": "strict",
          "coloraxis": {
           "colorbar": {
            "outlinewidth": 0,
            "ticks": ""
           }
          },
          "colorscale": {
           "diverging": [
            [
             0,
             "#8e0152"
            ],
            [
             0.1,
             "#c51b7d"
            ],
            [
             0.2,
             "#de77ae"
            ],
            [
             0.3,
             "#f1b6da"
            ],
            [
             0.4,
             "#fde0ef"
            ],
            [
             0.5,
             "#f7f7f7"
            ],
            [
             0.6,
             "#e6f5d0"
            ],
            [
             0.7,
             "#b8e186"
            ],
            [
             0.8,
             "#7fbc41"
            ],
            [
             0.9,
             "#4d9221"
            ],
            [
             1,
             "#276419"
            ]
           ],
           "sequential": [
            [
             0,
             "#0d0887"
            ],
            [
             0.1111111111111111,
             "#46039f"
            ],
            [
             0.2222222222222222,
             "#7201a8"
            ],
            [
             0.3333333333333333,
             "#9c179e"
            ],
            [
             0.4444444444444444,
             "#bd3786"
            ],
            [
             0.5555555555555556,
             "#d8576b"
            ],
            [
             0.6666666666666666,
             "#ed7953"
            ],
            [
             0.7777777777777778,
             "#fb9f3a"
            ],
            [
             0.8888888888888888,
             "#fdca26"
            ],
            [
             1,
             "#f0f921"
            ]
           ],
           "sequentialminus": [
            [
             0,
             "#0d0887"
            ],
            [
             0.1111111111111111,
             "#46039f"
            ],
            [
             0.2222222222222222,
             "#7201a8"
            ],
            [
             0.3333333333333333,
             "#9c179e"
            ],
            [
             0.4444444444444444,
             "#bd3786"
            ],
            [
             0.5555555555555556,
             "#d8576b"
            ],
            [
             0.6666666666666666,
             "#ed7953"
            ],
            [
             0.7777777777777778,
             "#fb9f3a"
            ],
            [
             0.8888888888888888,
             "#fdca26"
            ],
            [
             1,
             "#f0f921"
            ]
           ]
          },
          "colorway": [
           "#636efa",
           "#EF553B",
           "#00cc96",
           "#ab63fa",
           "#FFA15A",
           "#19d3f3",
           "#FF6692",
           "#B6E880",
           "#FF97FF",
           "#FECB52"
          ],
          "font": {
           "color": "#2a3f5f"
          },
          "geo": {
           "bgcolor": "white",
           "lakecolor": "white",
           "landcolor": "#E5ECF6",
           "showlakes": true,
           "showland": true,
           "subunitcolor": "white"
          },
          "hoverlabel": {
           "align": "left"
          },
          "hovermode": "closest",
          "mapbox": {
           "style": "light"
          },
          "paper_bgcolor": "white",
          "plot_bgcolor": "#E5ECF6",
          "polar": {
           "angularaxis": {
            "gridcolor": "white",
            "linecolor": "white",
            "ticks": ""
           },
           "bgcolor": "#E5ECF6",
           "radialaxis": {
            "gridcolor": "white",
            "linecolor": "white",
            "ticks": ""
           }
          },
          "scene": {
           "xaxis": {
            "backgroundcolor": "#E5ECF6",
            "gridcolor": "white",
            "gridwidth": 2,
            "linecolor": "white",
            "showbackground": true,
            "ticks": "",
            "zerolinecolor": "white"
           },
           "yaxis": {
            "backgroundcolor": "#E5ECF6",
            "gridcolor": "white",
            "gridwidth": 2,
            "linecolor": "white",
            "showbackground": true,
            "ticks": "",
            "zerolinecolor": "white"
           },
           "zaxis": {
            "backgroundcolor": "#E5ECF6",
            "gridcolor": "white",
            "gridwidth": 2,
            "linecolor": "white",
            "showbackground": true,
            "ticks": "",
            "zerolinecolor": "white"
           }
          },
          "shapedefaults": {
           "line": {
            "color": "#2a3f5f"
           }
          },
          "ternary": {
           "aaxis": {
            "gridcolor": "white",
            "linecolor": "white",
            "ticks": ""
           },
           "baxis": {
            "gridcolor": "white",
            "linecolor": "white",
            "ticks": ""
           },
           "bgcolor": "#E5ECF6",
           "caxis": {
            "gridcolor": "white",
            "linecolor": "white",
            "ticks": ""
           }
          },
          "title": {
           "x": 0.05
          },
          "xaxis": {
           "automargin": true,
           "gridcolor": "white",
           "linecolor": "white",
           "ticks": "",
           "title": {
            "standoff": 15
           },
           "zerolinecolor": "white",
           "zerolinewidth": 2
          },
          "yaxis": {
           "automargin": true,
           "gridcolor": "white",
           "linecolor": "white",
           "ticks": "",
           "title": {
            "standoff": 15
           },
           "zerolinecolor": "white",
           "zerolinewidth": 2
          }
         }
        },
        "xaxis": {
         "anchor": "y",
         "domain": [
          0,
          1
         ],
         "title": {
          "text": "age"
         }
        },
        "yaxis": {
         "anchor": "x",
         "domain": [
          0,
          1
         ],
         "title": {
          "text": "overall"
         }
        }
       }
      },
      "text/html": [
       "<div>                            <div id=\"6a0ecce8-4eca-4841-aa52-09fb8b5b6738\" class=\"plotly-graph-div\" style=\"height:525px; width:100%;\"></div>            <script type=\"text/javascript\">                require([\"plotly\"], function(Plotly) {                    window.PLOTLYENV=window.PLOTLYENV || {};                                    if (document.getElementById(\"6a0ecce8-4eca-4841-aa52-09fb8b5b6738\")) {                    Plotly.newPlot(                        \"6a0ecce8-4eca-4841-aa52-09fb8b5b6738\",                        [{\"customdata\": [[\"L. Messi\", \"FC Barcelona\"], [\"Cristiano Ronaldo\", \"Juventus\"], [\"J. Oblak\", \"Atl\\u00e9tico Madrid\"], [\"R. Lewandowski\", \"FC Bayern M\\u00fcnchen\"], [\"Neymar Jr\", \"Paris Saint-Germain\"], [\"K. De Bruyne\", \"Manchester City\"], [\"Alisson\", \"Liverpool\"], [\"S. Man\\u00e9\", \"Liverpool\"], [\"M. Salah\", \"Liverpool\"], [\"V. van Dijk\", \"Liverpool\"], [\"M. ter Stegen\", \"FC Barcelona\"], [\"K. Mbapp\\u00e9\", \"Paris Saint-Germain\"], [\"T. Courtois\", \"Real Madrid\"], [\"S. Ag\\u00fcero\", \"Manchester City\"], [\"Sergio Ramos\", \"Real Madrid\"], [\"K. Benzema\", \"Real Madrid\"], [\"M. Neuer\", \"FC Bayern M\\u00fcnchen\"], [\"Casemiro\", \"Real Madrid\"], [\"S. Handanovi\\u010d\", \"Inter\"], [\"N. Kant\\u00e9\", \"Chelsea\"], [\"K. Koulibaly\", \"Napoli\"], [\"E. Hazard\", \"Real Madrid\"], [\"T. Kroos\", \"Real Madrid\"], [\"Ederson\", \"Manchester City\"], [\"P. Dybala\", \"Juventus\"], [\"H. Kane\", \"Tottenham Hotspur\"], [\"J. Kimmich\", \"FC Bayern M\\u00fcnchen\"], [\"R. Sterling\", \"Manchester City\"], [\"L. Modri\\u0107\", \"Real Madrid\"], [\"Roberto Firmino\", \"Liverpool\"], [\"H. Son\", \"Tottenham Hotspur\"], [\"A. Griezmann\", \"FC Barcelona\"], [\"K. Navas\", \"Paris Saint-Germain\"], [\"C. Immobile\", \"Lazio\"], [\"Sergio Busquets\", \"FC Barcelona\"], [\"P. Aubameyang\", \"Arsenal\"], [\"A. Di Mar\\u00eda\", \"Paris Saint-Germain\"], [\"W. Szcz\\u0119sny\", \"Juventus\"], [\"L. Su\\u00e1rez\", \"FC Barcelona\"], [\"J. Sancho\", \"Borussia Dortmund\"], [\"G. Chiellini\", \"Juventus\"], [\"Bernardo Silva\", \"Manchester City\"], [\"A. Robertson\", \"Liverpool\"], [\"Fabinho\", \"Liverpool\"], [\"A. Laporte\", \"Manchester City\"], [\"Bruno Fernandes\", \"Manchester United\"], [\"T. Alexander-Arnold\", \"Liverpool\"], [\"H. Lloris\", \"Tottenham Hotspur\"], [\"M. Hummels\", \"Borussia Dortmund\"], [\"J. Vardy\", \"Leicester City\"], [\"Carvajal\", \"Real Madrid\"], [\"T. M\\u00fcller\", \"FC Bayern M\\u00fcnchen\"], [\"Jordi Alba\", \"FC Barcelona\"], [\"J. Henderson\", \"Liverpool\"], [\"De Gea\", \"Manchester United\"], [\"Y. Sommer\", \"Borussia M\\u00f6nchengladbach\"], [\"Piqu\\u00e9\", \"FC Barcelona\"], [\"A. G\\u00f3mez\", \"Atalanta\"], [\"M. Verratti\", \"Paris Saint-Germain\"], [\"P. Pogba\", \"Manchester United\"], [\"R. Varane\", \"Real Madrid\"], [\"David Silva\", \"Real Sociedad\"], [\"M. Reus\", \"Borussia Dortmund\"], [\"Thiago Silva\", \"Chelsea\"], [\"D. Mertens\", \"Napoli\"], [\"M. Pjani\\u0107\", \"FC Barcelona\"], [\"G. Wijnaldum\", \"Liverpool\"], [\"D. God\\u00edn\", \"Inter\"], [\"T. Alderweireld\", \"Tottenham Hotspur\"], [\"P. Gul\\u00e1csi\", \"RB Leipzig\"], [\"C. Eriksen\", \"Inter\"], [\"K. Walker\", \"Manchester City\"], [\"Thiago\", \"Liverpool\"], [\"Parejo\", \"Villarreal CF\"], [\"Alex Sandro\", \"Juventus\"], [\"Koke\", \"Atl\\u00e9tico Madrid\"], [\"L. Insigne\", \"Napoli\"], [\"R. Mahrez\", \"Manchester City\"], [\"M. Icardi\", \"Paris Saint-Germain\"], [\"H. Ziyech\", \"Chelsea\"], [\"L. Bonucci\", \"Juventus\"], [\"Luis Alberto\", \"Lazio\"], [\"S. Milinkovi\\u0107-Savi\\u0107\", \"Lazio\"], [\"R. Lukaku\", \"Inter\"], [\"G. Donnarumma\", \"Milan\"], [\"M. de Ligt\", \"Juventus\"], [\"M. Rashford\", \"Manchester United\"], [\"L. San\\u00e9\", \"FC Bayern M\\u00fcnchen\"], [\"Marquinhos\", \"Paris Saint-Germain\"], [\"C. Lenglet\", \"FC Barcelona\"], [\"F. de Jong\", \"FC Barcelona\"], [\"M. \\u0160kriniar\", \"Inter\"], [\"K. Havertz\", \"Chelsea\"], [\"Ricardo Pereira\", \"Leicester City\"], [\"T. Werner\", \"Chelsea\"], [\"Rodri\", \"Manchester City\"], [\"B. Leno\", \"Arsenal\"], [\"S. Gnabry\", \"FC Bayern M\\u00fcnchen\"], [\"M. Depay\", \"Olympique Lyonnais\"], [\"A. Witsel\", \"Borussia Dortmund\"]], \"hovertemplate\": \"age=%{marker.color}<br>overall=%{marker.size}<br>short_name=%{customdata[0]}<br>club_name=%{customdata[1]}<extra></extra>\", \"legendgroup\": \"\", \"marker\": {\"color\": [33, 35, 27, 31, 28, 29, 27, 28, 28, 28, 28, 21, 28, 32, 34, 32, 34, 28, 35, 29, 29, 29, 30, 26, 26, 26, 25, 25, 34, 28, 27, 29, 33, 30, 31, 31, 32, 30, 33, 20, 35, 25, 26, 26, 26, 25, 21, 33, 31, 33, 28, 30, 31, 30, 29, 31, 33, 32, 27, 27, 27, 34, 31, 35, 33, 30, 29, 34, 31, 30, 28, 30, 29, 31, 29, 28, 29, 29, 27, 27, 33, 27, 25, 27, 21, 20, 22, 24, 26, 25, 23, 25, 21, 26, 24, 24, 28, 24, 26, 31], \"coloraxis\": \"coloraxis\", \"size\": [93, 92, 91, 91, 91, 91, 90, 90, 90, 90, 90, 90, 89, 89, 89, 89, 89, 89, 88, 88, 88, 88, 88, 88, 88, 88, 88, 88, 87, 87, 87, 87, 87, 87, 87, 87, 87, 87, 87, 87, 87, 87, 87, 87, 87, 87, 87, 87, 86, 86, 86, 86, 86, 86, 86, 86, 86, 86, 86, 86, 86, 86, 85, 85, 85, 85, 85, 85, 85, 85, 85, 85, 85, 85, 85, 85, 85, 85, 85, 85, 85, 85, 85, 85, 85, 85, 85, 85, 85, 85, 85, 85, 85, 85, 85, 85, 85, 85, 85, 84], \"sizemode\": \"area\", \"sizeref\": 0.2325, \"symbol\": \"circle\"}, \"mode\": \"markers\", \"name\": \"\", \"orientation\": \"v\", \"showlegend\": false, \"type\": \"scatter\", \"x\": [33, 35, 27, 31, 28, 29, 27, 28, 28, 28, 28, 21, 28, 32, 34, 32, 34, 28, 35, 29, 29, 29, 30, 26, 26, 26, 25, 25, 34, 28, 27, 29, 33, 30, 31, 31, 32, 30, 33, 20, 35, 25, 26, 26, 26, 25, 21, 33, 31, 33, 28, 30, 31, 30, 29, 31, 33, 32, 27, 27, 27, 34, 31, 35, 33, 30, 29, 34, 31, 30, 28, 30, 29, 31, 29, 28, 29, 29, 27, 27, 33, 27, 25, 27, 21, 20, 22, 24, 26, 25, 23, 25, 21, 26, 24, 24, 28, 24, 26, 31], \"xaxis\": \"x\", \"y\": [93, 92, 91, 91, 91, 91, 90, 90, 90, 90, 90, 90, 89, 89, 89, 89, 89, 89, 88, 88, 88, 88, 88, 88, 88, 88, 88, 88, 87, 87, 87, 87, 87, 87, 87, 87, 87, 87, 87, 87, 87, 87, 87, 87, 87, 87, 87, 87, 86, 86, 86, 86, 86, 86, 86, 86, 86, 86, 86, 86, 86, 86, 85, 85, 85, 85, 85, 85, 85, 85, 85, 85, 85, 85, 85, 85, 85, 85, 85, 85, 85, 85, 85, 85, 85, 85, 85, 85, 85, 85, 85, 85, 85, 85, 85, 85, 85, 85, 85, 84], \"yaxis\": \"y\"}],                        {\"coloraxis\": {\"colorbar\": {\"title\": {\"text\": \"age\"}}, \"colorscale\": [[0.0, \"#0d0887\"], [0.1111111111111111, \"#46039f\"], [0.2222222222222222, \"#7201a8\"], [0.3333333333333333, \"#9c179e\"], [0.4444444444444444, \"#bd3786\"], [0.5555555555555556, \"#d8576b\"], [0.6666666666666666, \"#ed7953\"], [0.7777777777777778, \"#fb9f3a\"], [0.8888888888888888, \"#fdca26\"], [1.0, \"#f0f921\"]]}, \"legend\": {\"itemsizing\": \"constant\", \"tracegroupgap\": 0}, \"margin\": {\"t\": 60}, \"template\": {\"data\": {\"bar\": [{\"error_x\": {\"color\": \"#2a3f5f\"}, \"error_y\": {\"color\": \"#2a3f5f\"}, \"marker\": {\"line\": {\"color\": \"#E5ECF6\", \"width\": 0.5}}, \"type\": \"bar\"}], \"barpolar\": [{\"marker\": {\"line\": {\"color\": \"#E5ECF6\", \"width\": 0.5}}, \"type\": \"barpolar\"}], \"carpet\": [{\"aaxis\": {\"endlinecolor\": \"#2a3f5f\", \"gridcolor\": \"white\", \"linecolor\": \"white\", \"minorgridcolor\": \"white\", \"startlinecolor\": \"#2a3f5f\"}, \"baxis\": {\"endlinecolor\": \"#2a3f5f\", \"gridcolor\": \"white\", \"linecolor\": \"white\", \"minorgridcolor\": \"white\", \"startlinecolor\": \"#2a3f5f\"}, \"type\": \"carpet\"}], \"choropleth\": [{\"colorbar\": {\"outlinewidth\": 0, \"ticks\": \"\"}, \"type\": \"choropleth\"}], \"contour\": [{\"colorbar\": {\"outlinewidth\": 0, \"ticks\": \"\"}, \"colorscale\": [[0.0, \"#0d0887\"], [0.1111111111111111, \"#46039f\"], [0.2222222222222222, \"#7201a8\"], [0.3333333333333333, \"#9c179e\"], [0.4444444444444444, \"#bd3786\"], [0.5555555555555556, \"#d8576b\"], [0.6666666666666666, \"#ed7953\"], [0.7777777777777778, \"#fb9f3a\"], [0.8888888888888888, \"#fdca26\"], [1.0, \"#f0f921\"]], \"type\": \"contour\"}], \"contourcarpet\": [{\"colorbar\": {\"outlinewidth\": 0, \"ticks\": \"\"}, \"type\": \"contourcarpet\"}], \"heatmap\": [{\"colorbar\": {\"outlinewidth\": 0, \"ticks\": \"\"}, \"colorscale\": [[0.0, \"#0d0887\"], [0.1111111111111111, \"#46039f\"], [0.2222222222222222, \"#7201a8\"], [0.3333333333333333, \"#9c179e\"], [0.4444444444444444, \"#bd3786\"], [0.5555555555555556, \"#d8576b\"], [0.6666666666666666, \"#ed7953\"], [0.7777777777777778, \"#fb9f3a\"], [0.8888888888888888, \"#fdca26\"], [1.0, \"#f0f921\"]], \"type\": \"heatmap\"}], \"heatmapgl\": [{\"colorbar\": {\"outlinewidth\": 0, \"ticks\": \"\"}, \"colorscale\": [[0.0, \"#0d0887\"], [0.1111111111111111, \"#46039f\"], [0.2222222222222222, \"#7201a8\"], [0.3333333333333333, \"#9c179e\"], [0.4444444444444444, \"#bd3786\"], [0.5555555555555556, \"#d8576b\"], [0.6666666666666666, \"#ed7953\"], [0.7777777777777778, \"#fb9f3a\"], [0.8888888888888888, \"#fdca26\"], [1.0, \"#f0f921\"]], \"type\": \"heatmapgl\"}], \"histogram\": [{\"marker\": {\"colorbar\": {\"outlinewidth\": 0, \"ticks\": \"\"}}, \"type\": \"histogram\"}], \"histogram2d\": [{\"colorbar\": {\"outlinewidth\": 0, \"ticks\": \"\"}, \"colorscale\": [[0.0, \"#0d0887\"], [0.1111111111111111, \"#46039f\"], [0.2222222222222222, \"#7201a8\"], [0.3333333333333333, \"#9c179e\"], [0.4444444444444444, \"#bd3786\"], [0.5555555555555556, \"#d8576b\"], [0.6666666666666666, \"#ed7953\"], [0.7777777777777778, \"#fb9f3a\"], [0.8888888888888888, \"#fdca26\"], [1.0, \"#f0f921\"]], \"type\": \"histogram2d\"}], \"histogram2dcontour\": [{\"colorbar\": {\"outlinewidth\": 0, \"ticks\": \"\"}, \"colorscale\": [[0.0, \"#0d0887\"], [0.1111111111111111, \"#46039f\"], [0.2222222222222222, \"#7201a8\"], [0.3333333333333333, \"#9c179e\"], [0.4444444444444444, \"#bd3786\"], [0.5555555555555556, \"#d8576b\"], [0.6666666666666666, \"#ed7953\"], [0.7777777777777778, \"#fb9f3a\"], [0.8888888888888888, \"#fdca26\"], [1.0, \"#f0f921\"]], \"type\": \"histogram2dcontour\"}], \"mesh3d\": [{\"colorbar\": {\"outlinewidth\": 0, \"ticks\": \"\"}, \"type\": \"mesh3d\"}], \"parcoords\": [{\"line\": {\"colorbar\": {\"outlinewidth\": 0, \"ticks\": \"\"}}, \"type\": \"parcoords\"}], \"pie\": [{\"automargin\": true, \"type\": \"pie\"}], \"scatter\": [{\"marker\": {\"colorbar\": {\"outlinewidth\": 0, \"ticks\": \"\"}}, \"type\": \"scatter\"}], \"scatter3d\": [{\"line\": {\"colorbar\": {\"outlinewidth\": 0, \"ticks\": \"\"}}, \"marker\": {\"colorbar\": {\"outlinewidth\": 0, \"ticks\": \"\"}}, \"type\": \"scatter3d\"}], \"scattercarpet\": [{\"marker\": {\"colorbar\": {\"outlinewidth\": 0, \"ticks\": \"\"}}, \"type\": \"scattercarpet\"}], \"scattergeo\": [{\"marker\": {\"colorbar\": {\"outlinewidth\": 0, \"ticks\": \"\"}}, \"type\": \"scattergeo\"}], \"scattergl\": [{\"marker\": {\"colorbar\": {\"outlinewidth\": 0, \"ticks\": \"\"}}, \"type\": \"scattergl\"}], \"scattermapbox\": [{\"marker\": {\"colorbar\": {\"outlinewidth\": 0, \"ticks\": \"\"}}, \"type\": \"scattermapbox\"}], \"scatterpolar\": [{\"marker\": {\"colorbar\": {\"outlinewidth\": 0, \"ticks\": \"\"}}, \"type\": \"scatterpolar\"}], \"scatterpolargl\": [{\"marker\": {\"colorbar\": {\"outlinewidth\": 0, \"ticks\": \"\"}}, \"type\": \"scatterpolargl\"}], \"scatterternary\": [{\"marker\": {\"colorbar\": {\"outlinewidth\": 0, \"ticks\": \"\"}}, \"type\": \"scatterternary\"}], \"surface\": [{\"colorbar\": {\"outlinewidth\": 0, \"ticks\": \"\"}, \"colorscale\": [[0.0, \"#0d0887\"], [0.1111111111111111, \"#46039f\"], [0.2222222222222222, \"#7201a8\"], [0.3333333333333333, \"#9c179e\"], [0.4444444444444444, \"#bd3786\"], [0.5555555555555556, \"#d8576b\"], [0.6666666666666666, \"#ed7953\"], [0.7777777777777778, \"#fb9f3a\"], [0.8888888888888888, \"#fdca26\"], [1.0, \"#f0f921\"]], \"type\": \"surface\"}], \"table\": [{\"cells\": {\"fill\": {\"color\": \"#EBF0F8\"}, \"line\": {\"color\": \"white\"}}, \"header\": {\"fill\": {\"color\": \"#C8D4E3\"}, \"line\": {\"color\": \"white\"}}, \"type\": \"table\"}]}, \"layout\": {\"annotationdefaults\": {\"arrowcolor\": \"#2a3f5f\", \"arrowhead\": 0, \"arrowwidth\": 1}, \"autotypenumbers\": \"strict\", \"coloraxis\": {\"colorbar\": {\"outlinewidth\": 0, \"ticks\": \"\"}}, \"colorscale\": {\"diverging\": [[0, \"#8e0152\"], [0.1, \"#c51b7d\"], [0.2, \"#de77ae\"], [0.3, \"#f1b6da\"], [0.4, \"#fde0ef\"], [0.5, \"#f7f7f7\"], [0.6, \"#e6f5d0\"], [0.7, \"#b8e186\"], [0.8, \"#7fbc41\"], [0.9, \"#4d9221\"], [1, \"#276419\"]], \"sequential\": [[0.0, \"#0d0887\"], [0.1111111111111111, \"#46039f\"], [0.2222222222222222, \"#7201a8\"], [0.3333333333333333, \"#9c179e\"], [0.4444444444444444, \"#bd3786\"], [0.5555555555555556, \"#d8576b\"], [0.6666666666666666, \"#ed7953\"], [0.7777777777777778, \"#fb9f3a\"], [0.8888888888888888, \"#fdca26\"], [1.0, \"#f0f921\"]], \"sequentialminus\": [[0.0, \"#0d0887\"], [0.1111111111111111, \"#46039f\"], [0.2222222222222222, \"#7201a8\"], [0.3333333333333333, \"#9c179e\"], [0.4444444444444444, \"#bd3786\"], [0.5555555555555556, \"#d8576b\"], [0.6666666666666666, \"#ed7953\"], [0.7777777777777778, \"#fb9f3a\"], [0.8888888888888888, \"#fdca26\"], [1.0, \"#f0f921\"]]}, \"colorway\": [\"#636efa\", \"#EF553B\", \"#00cc96\", \"#ab63fa\", \"#FFA15A\", \"#19d3f3\", \"#FF6692\", \"#B6E880\", \"#FF97FF\", \"#FECB52\"], \"font\": {\"color\": \"#2a3f5f\"}, \"geo\": {\"bgcolor\": \"white\", \"lakecolor\": \"white\", \"landcolor\": \"#E5ECF6\", \"showlakes\": true, \"showland\": true, \"subunitcolor\": \"white\"}, \"hoverlabel\": {\"align\": \"left\"}, \"hovermode\": \"closest\", \"mapbox\": {\"style\": \"light\"}, \"paper_bgcolor\": \"white\", \"plot_bgcolor\": \"#E5ECF6\", \"polar\": {\"angularaxis\": {\"gridcolor\": \"white\", \"linecolor\": \"white\", \"ticks\": \"\"}, \"bgcolor\": \"#E5ECF6\", \"radialaxis\": {\"gridcolor\": \"white\", \"linecolor\": \"white\", \"ticks\": \"\"}}, \"scene\": {\"xaxis\": {\"backgroundcolor\": \"#E5ECF6\", \"gridcolor\": \"white\", \"gridwidth\": 2, \"linecolor\": \"white\", \"showbackground\": true, \"ticks\": \"\", \"zerolinecolor\": \"white\"}, \"yaxis\": {\"backgroundcolor\": \"#E5ECF6\", \"gridcolor\": \"white\", \"gridwidth\": 2, \"linecolor\": \"white\", \"showbackground\": true, \"ticks\": \"\", \"zerolinecolor\": \"white\"}, \"zaxis\": {\"backgroundcolor\": \"#E5ECF6\", \"gridcolor\": \"white\", \"gridwidth\": 2, \"linecolor\": \"white\", \"showbackground\": true, \"ticks\": \"\", \"zerolinecolor\": \"white\"}}, \"shapedefaults\": {\"line\": {\"color\": \"#2a3f5f\"}}, \"ternary\": {\"aaxis\": {\"gridcolor\": \"white\", \"linecolor\": \"white\", \"ticks\": \"\"}, \"baxis\": {\"gridcolor\": \"white\", \"linecolor\": \"white\", \"ticks\": \"\"}, \"bgcolor\": \"#E5ECF6\", \"caxis\": {\"gridcolor\": \"white\", \"linecolor\": \"white\", \"ticks\": \"\"}}, \"title\": {\"x\": 0.05}, \"xaxis\": {\"automargin\": true, \"gridcolor\": \"white\", \"linecolor\": \"white\", \"ticks\": \"\", \"title\": {\"standoff\": 15}, \"zerolinecolor\": \"white\", \"zerolinewidth\": 2}, \"yaxis\": {\"automargin\": true, \"gridcolor\": \"white\", \"linecolor\": \"white\", \"ticks\": \"\", \"title\": {\"standoff\": 15}, \"zerolinecolor\": \"white\", \"zerolinewidth\": 2}}}, \"xaxis\": {\"anchor\": \"y\", \"domain\": [0.0, 1.0], \"title\": {\"text\": \"age\"}}, \"yaxis\": {\"anchor\": \"x\", \"domain\": [0.0, 1.0], \"title\": {\"text\": \"overall\"}}},                        {\"responsive\": true}                    ).then(function(){\n",
       "                            \n",
       "var gd = document.getElementById('6a0ecce8-4eca-4841-aa52-09fb8b5b6738');\n",
       "var x = new MutationObserver(function (mutations, observer) {{\n",
       "        var display = window.getComputedStyle(gd).display;\n",
       "        if (!display || display === 'none') {{\n",
       "            console.log([gd, 'removed!']);\n",
       "            Plotly.purge(gd);\n",
       "            observer.disconnect();\n",
       "        }}\n",
       "}});\n",
       "\n",
       "// Listen for the removal of the full notebook cells\n",
       "var notebookContainer = gd.closest('#notebook-container');\n",
       "if (notebookContainer) {{\n",
       "    x.observe(notebookContainer, {childList: true});\n",
       "}}\n",
       "\n",
       "// Listen for the clearing of the current output cell\n",
       "var outputEl = gd.closest('.output');\n",
       "if (outputEl) {{\n",
       "    x.observe(outputEl, {childList: true});\n",
       "}}\n",
       "\n",
       "                        })                };                });            </script>        </div>"
      ]
     },
     "metadata": {},
     "output_type": "display_data"
    }
   ],
   "source": [
    "top_play=data[['short_name','overall','age','club_name']]\n",
    "top_play.sort_values(by='overall',ascending=False,inplace=True)\n",
    "top_100_play=top_play[:100]\n",
    "fig=px.scatter(top_100_play,x='age',y='overall',color='age',size='overall',hover_data=['short_name','club_name'])\n",
    "fig.show()"
   ]
  },
  {
   "cell_type": "markdown",
   "id": "complete-continuity",
   "metadata": {},
   "source": [
    "# Thank You"
   ]
  },
  {
   "cell_type": "code",
   "execution_count": null,
   "id": "silver-lover",
   "metadata": {},
   "outputs": [],
   "source": []
  }
 ],
 "metadata": {
  "kernelspec": {
   "display_name": "Python 3",
   "language": "python",
   "name": "python3"
  },
  "language_info": {
   "codemirror_mode": {
    "name": "ipython",
    "version": 3
   },
   "file_extension": ".py",
   "mimetype": "text/x-python",
   "name": "python",
   "nbconvert_exporter": "python",
   "pygments_lexer": "ipython3",
   "version": "3.8.2"
  }
 },
 "nbformat": 4,
 "nbformat_minor": 5
}
